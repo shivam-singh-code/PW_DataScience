{
 "cells": [
  {
   "cell_type": "markdown",
   "id": "ed9e6b87",
   "metadata": {},
   "source": [
    "# Files, exceptional handling, logging and memory management Questions"
   ]
  },
  {
   "cell_type": "markdown",
   "id": "289d4860",
   "metadata": {},
   "source": [
    "1. **What is the difference between interpreted and compiled languages?**\n",
    "\n",
    "    Difference between Compiled and Interpreted Languages are\n",
    "\n",
    "    * **Compiled**\n",
    "        * Translated into machine code before running.\n",
    "        * Faster because machine code runs directly.\n",
    "        * Machine-dependent (need recompilation on different systems).\n",
    "        * Errors shown after full compilation\n",
    "        * Examples :- C, C++, Go, Rust\n",
    "\n",
    "    * **Interpreted**\n",
    "        * Translated line by line during execution.\n",
    "        * Slower due to line-by-line interpretation.\n",
    "        * More portable (same code can run on any system with interpreter).\n",
    "        * Errors shown immediately at runtime.\n",
    "        * Examples :- Python, Ruby\n"
   ]
  },
  {
   "cell_type": "markdown",
   "id": "4c303e24",
   "metadata": {},
   "source": [
    "2. **What is exception handling in Python?**\n",
    "\n",
    "    Exception handling in Python is a mechanism to deal with errors that occur during the execution of a program. Instead of stopping the entire program when an error happens, Python allows you to “catch” the error and handle it gracefully. This ensures that the program does not crash and can continue running or provide a meaningful message to the user.\n",
    "\n",
    "    Python provides **special keywords** for this:\n",
    "\n",
    "    **try**: the block of code where you write statements that might cause an error.\n",
    "\n",
    "    **except**: the block that runs if an error occurs in the try block.\n",
    "\n",
    "    **else**: runs if no error occurs.\n",
    "\n",
    "    **finally**: always runs, whether there was an error or not (commonly used for cleanup like closing files).\n",
    "\n",
    "    ```\n",
    "    try:\n",
    "        number = int(input(\"Enter a number: \"))\n",
    "        print(\"You entered:\", number)\n",
    "    except ValueError:\n",
    "        print(\"That’s not a valid number!\")\n",
    "    finally:\n",
    "        print(\"Execution finished.\")\n",
    "\n",
    "    ```"
   ]
  },
  {
   "cell_type": "markdown",
   "id": "9de6f8d7",
   "metadata": {},
   "source": [
    "3. **What is the purpose of the finally block in exception handling?**\n",
    "\n",
    "    In Python, the finally block is used to define a section of code that will always execute, no matter what happens in the try or except blocks. Its main purpose is to perform cleanup tasks like closing files, releasing resources, or disconnecting from a database.\n",
    "\n",
    "    Even if an exception occurs, or if the program executes a return or break statement inside try/except, the finally block will still run before the program exits that block.\n",
    "\n",
    "    ```\n",
    "    try:\n",
    "        file = open(\"data.txt\", \"r\")\n",
    "        content = file.read()\n",
    "        print(content)\n",
    "    except FileNotFoundError:\n",
    "        print(\"File not found!\")\n",
    "    finally:\n",
    "        print(\"Closing file...\")\n",
    "        file.close()\n",
    "    ```"
   ]
  },
  {
   "cell_type": "markdown",
   "id": "a2027b3d",
   "metadata": {},
   "source": [
    "4. **What is logging in Python?**\n",
    "   \n",
    "   Logging in Python is the process of recording important messages (like errors, warnings, or information) from a program while it runs. Instead of using print() for debugging, the logging module provides a flexible way to track what’s happening in your code.\n",
    "\n",
    "    It is mainly used for:\n",
    "\n",
    "    **Debugging**: finding issues in code.\n",
    "\n",
    "    **Monitoring**: keeping track of program flow and activities.\n",
    "\n",
    "    **Error tracking**: recording problems for later analysis.\n",
    "\n",
    "    **Audit trails**: saving important events in files or systems.\n",
    "\n",
    "    The logging module allows different log levels, each representing the severity of the message:\n",
    "\n",
    "    **DEBUG** :- Detailed information (used for debugging).\n",
    "\n",
    "    **INFO** :- General events (program is running fine).\n",
    "\n",
    "    **WARNING** :- Something unexpected, but program continues.\n",
    "\n",
    "    **ERROR** :- A serious problem, program may not work as expected.\n",
    "\n",
    "    **CRITICAL** :- Very serious error, program may stop running.\n",
    "\n",
    "    ```\n",
    "    import logging\n",
    "\n",
    "    # Configure logging\n",
    "    logging.basicConfig(level=logging.INFO)\n",
    "\n",
    "    logging.debug(\"This is a debug message\")   # Won’t show (level is INFO)\n",
    "    logging.info(\"Program started\")\n",
    "    logging.warning(\"Low disk space\")\n",
    "    logging.error(\"File not found\")\n",
    "    logging.critical(\"System crash!\")\n",
    "\n",
    "    ```"
   ]
  },
  {
   "cell_type": "markdown",
   "id": "a64e1d0c",
   "metadata": {},
   "source": [
    "5. **What is the significance of the __del__ method in Python?**\n",
    "\n",
    "    In Python, the __del__ method is called a destructor.\n",
    "    It is a special method that is automatically invoked when an object is about to be destroyed (i.e., when it is no longer in use and garbage collected).\n",
    "\n",
    "    **Main purposes**\n",
    "    * To release resources like closing files or network connections.\n",
    "\n",
    "    * To perform cleanup actions before an object is removed from memory.\n",
    "\n",
    "    * To help manage resources in classes that use external systems (like databases).\n",
    "\n",
    "\n",
    "    ```\n",
    "    class FileHandler:\n",
    "    def __init__(self, filename):\n",
    "        self.file = open(filename, \"w\")\n",
    "        print(\"File opened\")\n",
    "\n",
    "    def __del__(self):\n",
    "        self.file.close()\n",
    "        print(\"File closed automatically\")\n",
    "\n",
    "    # Object creation\n",
    "    obj = FileHandler(\"test.txt\")\n",
    "    del obj   # Explicitly deleting object\n",
    "    ```"
   ]
  },
  {
   "cell_type": "markdown",
   "id": "88548c88",
   "metadata": {},
   "source": [
    "6. **What is the difference between import and from ... import in Python?**\n",
    "\n",
    "    * **import statement**\n",
    "      * Imports the entire module.\n",
    "\n",
    "      * You must use the module name to access its functions or variables.\n",
    "\n",
    "      * Keeps namespace cleaner since names don’t directly enter your code’s scope. \n",
    "\n",
    "        ```\n",
    "            import math\n",
    "            print(math.sqrt(16))   # Access using module name\n",
    "        ```\n",
    "    \n",
    "    * **from ... import statement**\n",
    "      * Imports specific functions, classes, or variables from a module.\n",
    "      * You can use them directly without prefixing with the module name.\n",
    "      * Can clutter the namespace if many names are imported.\n",
    "      ```\n",
    "      from math import sqrt\n",
    "      print(sqrt(16))   # Direct use, no \"math.\"\n",
    "      ```\n",
    " "
   ]
  },
  {
   "cell_type": "markdown",
   "id": "2f8d4918",
   "metadata": {},
   "source": [
    "7.  **How can you handle multiple exceptions in Python?**\n",
    "   \n",
    "    When a program may raise different types of errors, you can handle them separately or together.\n",
    "\n",
    "*  **Multiple except blocks (handle differently)**:- Each exception type is handled with its own block.\n",
    "\n",
    "            ```\n",
    "            try:\n",
    "                x = int(\"abc\")   # ValueError\n",
    "                y = 10 / 0       # ZeroDivisionError\n",
    "            except ValueError:\n",
    "                print(\"Invalid number!\")\n",
    "            except ZeroDivisionError:\n",
    "                print(\"Division by zero is not allowed.\")\n",
    "            ```\n",
    "\n",
    "*  **Single except with tuple (handle together)** :- You can group exceptions if they require the same handling.\n",
    "        \n",
    "            ```\n",
    "            try:\n",
    "                x = int(\"abc\")\n",
    "                y = 10 / 0\n",
    "            except (ValueError, ZeroDivisionError):\n",
    "                print(\"An error occurred!\")\n",
    "            ```\n",
    "\n",
    "*   **Catch all exceptions (generic handler)** :- Not recommended always, but useful for logging or debugging.\n",
    "        \n",
    "            ```\n",
    "            try:\n",
    "                num = int(\"abc\")\n",
    "            except Exception as e:\n",
    "                print(\"Error:\", e)\n",
    "            ```\n",
    "          "
   ]
  },
  {
   "cell_type": "markdown",
   "id": "2fa5dbf0",
   "metadata": {},
   "source": [
    "8. **What is the purpose of the with statement when handling files in Python?**\n",
    "   \n",
    "    The with statement in Python is mainly used to handle resource management in a clean and safe way. When working with files, it ensures that the file is properly closed automatically, even if an error occurs while processing it.\n",
    "\n",
    "    Normally, when you open a file using open(), you need to remember to call close() at the end. Forgetting this may cause memory leaks or file corruption. The with statement solves this by using a context manager that takes care of setup and cleanup.\n",
    "\n",
    "    ```\n",
    "    with open(\"data.txt\", \"w\") as file:\n",
    "        file.write(\"Hello World\")\n",
    "    # File automatically closed here\n",
    "    ```\n"
   ]
  },
  {
   "cell_type": "markdown",
   "id": "8f711743",
   "metadata": {},
   "source": [
    "9. **What is the difference between multithreading and multiprocessing?**\n",
    "    \n",
    "    **multithreading**\n",
    "\n",
    "    * Runs multiple threads (smaller units of a process) within the same process.\n",
    "    * Threads share the same memory, lightweight but may cause race conditions.\n",
    "    * Better for I/O-bound tasks (e.g., file reading, web requests).\n",
    "    * Affected by Global Interpreter Lock only one thread executes Python bytecode at a time\n",
    "        ```\n",
    "        import multiprocessing\n",
    "\n",
    "        def task():\n",
    "            print(\"Running in process\")\n",
    "\n",
    "        p1 = multiprocessing.Process(target=task)\n",
    "        p1.start()\n",
    "        p1.join()\n",
    "        ```\n",
    "\n",
    "    **Multiprocessing**\n",
    "    * Runs multiple processes, each with its own memory space.\n",
    "    * Each process has separate memory, heavier but safer (no shared memory issues).\n",
    "    * Better for CPU-bound tasks (e.g., heavy calculations, data processing).\n",
    "    * Not affected by Global Interpreter Lock true parallel execution on multiple CPU cores.\n",
    "        ```\n",
    "        import multiprocessing\n",
    "\n",
    "        def task():\n",
    "            print(\"Running in process\")\n",
    "\n",
    "        p1 = multiprocessing.Process(target=task)\n",
    "        p1.start()\n",
    "        p1.join()\n",
    "        ```"
   ]
  },
  {
   "cell_type": "markdown",
   "id": "89216979",
   "metadata": {},
   "source": [
    "10. **What are the advantages of using logging in a program?**\n",
    "\n",
    "    * **Better than print() for debugging**\n",
    "\n",
    "        * Logging provides structured information (like timestamps, severity levels), while print() just outputs text.\n",
    "\n",
    "    * **Different log levels**\n",
    "\n",
    "        * You can categorize messages as DEBUG, INFO, WARNING, ERROR, or CRITICAL, making it easier to filter and analyze.\n",
    "\n",
    "    * **Persistent records**\n",
    "\n",
    "        * Logs can be saved to files for future reference, unlike print() which disappears after the program ends.\n",
    "\n",
    "    * **Helps in monitoring and troubleshooting**\n",
    "\n",
    "        * Logs show what happened before an error, making it easier to trace issues in production.\n",
    "\n",
    "    * **Flexible configuration**\n",
    "\n",
    "        * You can choose where to send logs: console, files, email, or external monitoring systems.\n",
    "\n",
    "    * **Useful in large applications**\n",
    "\n",
    "        * In complex projects, logging provides a professional way to track flow, errors, and performance across modules."
   ]
  },
  {
   "cell_type": "markdown",
   "id": "ae591e90",
   "metadata": {},
   "source": [
    "11. **What is memory management in Python?**\n",
    "\n",
    "    Memory management in Python refers to how Python allocates and frees memory for objects during program execution. It is mostly automatic and handled by the Python Memory Manager.\n",
    "\n",
    "    * **Automatic Allocation**\n",
    "\n",
    "        * When you create a variable or object, Python automatically allocates memory for it.\n",
    "\n",
    "    * **Garbage Collection**\n",
    "\n",
    "        * Python uses reference counting (keeps track of how many references point to an object).\n",
    "\n",
    "        * When no references remain, the garbage collector frees the memory.\n",
    "\n",
    "        * It also handles cyclic references (objects referencing each other).\n",
    "\n",
    "    * **Private Heap Space**\n",
    "\n",
    "        * All Python objects and data structures are stored in a private heap, managed internally by the interpreter.\n",
    "\n",
    "        * Programmers don’t directly access this memory.\n",
    "\n",
    "    * **Memory Pools (PyMalloc)**\n",
    "\n",
    "        * For efficiency, Python uses a built-in allocator (PyMalloc) to manage small memory blocks.\n",
    "\n",
    "    * **Modules for Control**\n",
    "\n",
    "        * The gc module allows programmers to interact with the garbage collector (e.g., gc.collect())."
   ]
  },
  {
   "cell_type": "markdown",
   "id": "561788fa",
   "metadata": {},
   "source": [
    "12. **What are the basic steps involved in exception handling in Python?**\n",
    "\n",
    "    Exception handling in Python follows a structured flow using try, except, else, and finally.\n",
    "\n",
    "    1. **try block**\n",
    "\n",
    "        Place the code that may raise an error inside try.\n",
    "\n",
    "    2. **except block**\n",
    "\n",
    "        If an error occurs in try, control jumps here.\n",
    "\n",
    "        You can handle specific exceptions (like ValueError, ZeroDivisionError) or use a generic one.\n",
    "\n",
    "    3. **else block (optional)**\n",
    "\n",
    "        Runs only if no exception occurs in the try block.\n",
    "\n",
    "    4. **finally block (optional**)\n",
    "\n",
    "        Runs always, whether an exception occurs or not.\n",
    "\n",
    "        Used for cleanup (e.g., closing files, releasing resources).\n",
    "\n",
    "        ```\n",
    "        try:\n",
    "            x = int(input(\"Enter a number: \"))\n",
    "            result = 10 / x\n",
    "        except ValueError:\n",
    "            print(\"Invalid number!\")\n",
    "        except ZeroDivisionError:\n",
    "            print(\"Cannot divide by zero!\")\n",
    "        else:\n",
    "            print(\"Result is:\", result)\n",
    "        finally:\n",
    "            print(\"Program ended.\")\n",
    "        ```"
   ]
  },
  {
   "cell_type": "markdown",
   "id": "fe6c7cb7",
   "metadata": {},
   "source": [
    "13. **Why is memory management important in Python?**\n",
    "\n",
    "    1. **Efficient Resource Use**\n",
    "\n",
    "        Memory (RAM) is limited. Proper management ensures Python programs use only what they need, preventing wastage.\n",
    "\n",
    "    2. **Program Stability**\n",
    "\n",
    "        Poor memory handling can cause crashes, slow performance, or “memory leaks.”\n",
    "\n",
    "        Python’s automatic garbage collection helps keep programs stable.\n",
    "\n",
    "    3. **Performance Optimization**\n",
    "\n",
    "        Releasing unused objects quickly frees memory for new ones, improving execution speed.\n",
    "\n",
    "    4. **Automatic Handling for Developers**\n",
    "\n",
    "        Unlike languages like C where developers manually allocate/free memory, Python’s memory manager + garbage collector simplify coding.\n",
    "\n",
    "    5. **Support for Large Applications**\n",
    "\n",
    "        In data-heavy fields (machine learning, web apps, databases), efficient memory management is crucial to handle big datasets smoothly."
   ]
  },
  {
   "cell_type": "markdown",
   "id": "baabb5e5",
   "metadata": {},
   "source": [
    "14. **What is the role of try and except in exception handling?**\n",
    "\n",
    "    * **try block**\n",
    "\n",
    "        * The try block contains the code that might raise an exception.\n",
    "\n",
    "        * If no error occurs, the except block is skipped.\n",
    "\n",
    "        * If an error does occur, Python immediately jumps out of try and looks for a matching except.\n",
    "\n",
    "    * **except block**\n",
    "\n",
    "        * The except block defines how to handle the error.\n",
    "\n",
    "        * It prevents the program from crashing by providing an alternative action.\n",
    "\n",
    "        * You can catch specific exceptions (e.g., ValueError, ZeroDivisionError) or a generic Exception.\n",
    "\n",
    "    ```\n",
    "    try:\n",
    "        x = int(\"abc\")   # This will cause ValueError\n",
    "    except ValueError:\n",
    "        print(\"Invalid input! Please enter a number.\")\n",
    "    ```"
   ]
  },
  {
   "cell_type": "markdown",
   "id": "f6447aa8",
   "metadata": {},
   "source": [
    "15. **How does Python's garbage collection system work?**\n",
    "\n",
    "    Garbage collection (GC) in Python is the process of automatically freeing memory by removing objects that are no longer in use. This helps prevent memory leaks and ensures efficient resource usage.\n",
    "\n",
    "    **Main Mechanisms**\n",
    "    1. **Reference Counting**\n",
    "        * Every object in Python has a counter that tracks how many references point to it.\n",
    "        * When the count drops to zero, the memory is freed.\n",
    "        ```\n",
    "        import sys\n",
    "        a = [1, 2, 3]\n",
    "        b = a\n",
    "        print(sys.getrefcount(a))  # Shows reference count\n",
    "        del b\n",
    "        del a   # Now object has 0 references → collected\n",
    "        ```\n",
    "    2. **Garbage Collector for Cyclic References**\n",
    "        * Sometimes objects reference each other (cycles), so reference count never reaches zero.\n",
    "        * Python’s cyclic garbage collector (in gc module) detects and cleans up these cycles.\n",
    "\n",
    "    3. **Generational GC**\n",
    "        * Objects are divided into generations (0, 1, 2) based on their lifespan.\n",
    "        * Younger objects (like temporary variables) are collected more often.\n",
    "        * Older objects (used for a long time) are collected less frequently, improving performance.\n"
   ]
  },
  {
   "cell_type": "markdown",
   "id": "0f4114ea",
   "metadata": {},
   "source": [
    "16. **What is the purpose of the else block in exception handling?**\n",
    "\n",
    "    In Python, the else block in exception handling is used to define code that should run only if no exception occurs in the try block.\n",
    "\n",
    "    * If the try block executes successfully → the else block runs.\n",
    "\n",
    "    * If an exception occurs → the else block is skipped, and the except block handles the error.\n",
    "\n",
    "    * It is useful to separate error-handling code from the normal execution flow.\n",
    "\n",
    "    ```\n",
    "    try:\n",
    "        num = int(input(\"Enter a number: \"))\n",
    "    except ValueError:\n",
    "        print(\"Invalid number!\")\n",
    "    else:\n",
    "        print(\"Square is:\", num ** 2)\n",
    "    ```"
   ]
  },
  {
   "cell_type": "markdown",
   "id": "927d985c",
   "metadata": {},
   "source": [
    "17. **What are the common logging levels in Python?**\n",
    "\n",
    "    **DEBUG** – Detailed info for diagnosing problems.\n",
    "\n",
    "    **INFO** – General program execution info.\n",
    "\n",
    "    **WARNING** – Unexpected events, program continues.\n",
    "\n",
    "    **ERROR** – Serious problems, program may fail.\n",
    "\n",
    "    **CRITICAL** – Very severe errors, program may crash.\n",
    "\n",
    "    ```\n",
    "    import logging\n",
    "\n",
    "    logging.basicConfig(level=logging.DEBUG)\n",
    "    logging.debug(\"Debugging info\")\n",
    "    logging.info(\"Program started\")\n",
    "    logging.warning(\"This is a warning\")\n",
    "    logging.error(\"An error occurred\")\n",
    "    logging.critical(\"Critical issue!\")\n",
    "\n",
    "    ```"
   ]
  },
  {
   "cell_type": "markdown",
   "id": "74245c32",
   "metadata": {},
   "source": [
    "18. **What is the difference between os.fork() and multiprocessing in Python?**\n",
    "\n",
    "    In Python, both `os.fork()` and the `multiprocessing` module are used to create new processes, but they work differently and have distinct use cases.\n",
    "\n",
    "    **`os.fork()`** is a low-level system call available on Unix/Linux systems that creates a **child process** by duplicating the current process. The child process receives a copy of the parent process's memory and runs independently. After the fork, the return value helps differentiate the parent from the child:\n",
    "    ```\n",
    "    import os\n",
    "\n",
    "    pid = os.fork()\n",
    "    if pid == 0:\n",
    "        print(\"Child process\")\n",
    "    else:\n",
    "        print(\"Parent process\")\n",
    "    ```\n",
    "\n",
    "    **multiprocessing** is a high-level Python module that allows creating independent processes that can run on multiple CPUs and work on CPU-bound tasks efficiently:\n",
    "\n",
    "    ```\n",
    "    from multiprocessing import Process\n",
    "\n",
    "    def task():\n",
    "        print(\"Running in a separate process\")\n",
    "\n",
    "    p = Process(target=task)\n",
    "    p.start()\n",
    "    p.join()\n",
    "    ```\n",
    "    **Points to remeber**\n",
    "    * Availability: os.fork() → Unix/Linux only; multiprocessing → Cross-platform.\n",
    "\n",
    "    * Level: os.fork() → Low-level; multiprocessing → High-level abstraction.\n",
    "\n",
    "    * Ease of Use: os.fork() → Requires manual management; multiprocessing → Easier with built-in utilities.\n",
    "\n",
    "    * Use Case: os.fork() → Simple parallel tasks in Unix; multiprocessing → Scalable, portable parallel processing."
   ]
  },
  {
   "cell_type": "markdown",
   "id": "74205858",
   "metadata": {},
   "source": [
    "19. **What is the importance of closing a file in Python?**\n",
    "\n",
    "    Closing a file in Python is an essential step to ensure proper resource management and prevent potential issues in your program. When you open a file, the operating system allocates resources (like memory and file descriptors) to handle it. If you don’t close the file, these resources may remain occupied, causing problems such as:\n",
    "\n",
    "    1. **Resource Leaks**: Open files consume system resources. Not closing files can lead to **resource exhaustion**, especially when opening many files.\n",
    "    2. **Data Loss**: Some data may be buffered in memory before being written to the file. Closing the file ensures that **all data is properly flushed** and saved.\n",
    "    3. **File Locking Issues**: Some systems lock files while they are open. Not closing them can **prevent other programs** from accessing or modifying the file.\n",
    "    4. **Unexpected Behavior**: Leaving files open can cause **errors or inconsistent program behavior**, particularly in long-running programs.\n",
    "    5. **Good Practice**: Explicitly closing files improves **readability, maintainability, and stability** of your code.\n",
    "\n",
    "    **Example of closing a file manually:**\n",
    "    ```\n",
    "    file = open(\"example.txt\", \"w\")\n",
    "    file.write(\"Hello World\")\n",
    "    file.close()  # Ensures data is written and resources are released\n",
    "    ```"
   ]
  },
  {
   "cell_type": "markdown",
   "id": "611e7b9d",
   "metadata": {},
   "source": [
    "20. **What is the difference between file.read() and file.readline() in Python?**\n",
    "\n",
    "    In Python, both `file.read()` and `file.readline()` are used to read data from a file, but they behave differently.\n",
    "\n",
    "    **file.read()**\n",
    "    - **Reads the entire file** (or a specified number of characters/bytes if given an argument).\n",
    "    - Returns the content as a **single string**.\n",
    "    - Useful when you want to process the whole file at once.\n",
    "\n",
    "    **Example:**\n",
    "    ```\n",
    "    with open(\"example.txt\", \"r\") as f:\n",
    "        content = f.read()\n",
    "        print(content)  # Prints the entire file content\n",
    "    ```\n",
    "\n",
    "    **file.readline()**\n",
    "    - Reads only one line at a time from the file.\n",
    "    - Returns the line as a string (including the newline character \\n).\n",
    "    - Useful for reading large files line by line without loading the entire file into memory.\n",
    "    - **Example:**\n",
    "    ```\n",
    "    with open(\"example.txt\", \"r\") as f:\n",
    "        line1 = f.readline()\n",
    "        line2 = f.readline()\n",
    "        print(line1)  # Prints the first line\n",
    "        print(line2)  # Prints the second line\n",
    "\n",
    "    ```"
   ]
  },
  {
   "cell_type": "markdown",
   "id": "28f2ae4a",
   "metadata": {},
   "source": [
    "21. **What is the logging module in Python used for?**\n",
    "\n",
    "The `logging` module in Python is a built-in library that provides a flexible framework for tracking events, debugging, and recording messages during program execution. Instead of using `print()` statements, logging offers a structured way to report information, warnings, and errors.\n",
    "\n",
    "1. **Debugging**  \n",
    "   Helps developers trace code execution and identify issues with detailed debug information.\n",
    "   ```\n",
    "   logging.debug(\"Checking value of x\")\n",
    "   ```\n",
    "2. **Monitoring Program Execution**\n",
    "   Monitoring Program Execution\n",
    "   Records the flow of a program, making it easier to understand how the application is running.\n",
    "    ```\n",
    "    logging.info(\"Application started\")\n",
    "    ```\n",
    "\n",
    "3. **Error Tracking**\n",
    "   Captures warnings, errors, and critical issues to help diagnose failures.\n",
    "    ```\n",
    "    logging.error(\"File not found\")\n",
    "    logging.critical(\"System crash\")\n",
    "    ```\n",
    "\n",
    "4. **Different Severity Levels**\n",
    "   Provides predefined levels (DEBUG, INFO, WARNING, ERROR, CRITICAL) to categorize messages by importance.\n",
    "\n",
    "5. **Persistent Logging**\n",
    "   Messages can be directed to console, files, or external systems, ensuring that logs are available for later analysis.\n",
    "    ```\n",
    "    logging.basicConfig(filename=\"app.log\", level=logging.INFO)\n",
    "    ```\n",
    "6. **Production-Ready Alternative to print()**\n",
    "   Unlike print(), logging can be configured, filtered, and formatted, making it suitable for real-world applications\n"
   ]
  },
  {
   "cell_type": "markdown",
   "id": "9fccac4d",
   "metadata": {},
   "source": [
    "22. **What is the os module in Python used for in file handling?**\n",
    "\n",
    "    The `os` module in Python provides functions to interact with the operating system. In file handling, it is especially useful for creating, removing, and managing files and directories, as well as retrieving file-related information.\n",
    "\n",
    "    Here are the main uses:\n",
    "\n",
    "    1. **Checking File or Directory Existence**\n",
    "\n",
    "        ```python\n",
    "        import os\n",
    "        print(os.path.exists(\"example.txt\"))  # True if file exists\n",
    "\n",
    "        ```\n",
    "\n",
    "    2. **Creating Directories**\n",
    "        ```\n",
    "            os.mkdir(\"new_folder\")       # Creates a single directory\n",
    "            os.makedirs(\"a/b/c\")         # Creates nested directories\n",
    "        ```\n",
    "    3. **Removing Files or Directories**\n",
    "\n",
    "        ```\n",
    "            os.remove(\"example.txt\")     # Removes a file\n",
    "            os.rmdir(\"new_folder\")       # Removes an empty directory\n",
    "            os.removedirs(\"a/b/c\")       # Removes nested empty directories\n",
    "\n",
    "        ```\n",
    "\n",
    "    4. **Listing Files and Directories**\n",
    "        ```\n",
    "        print(os.listdir(\".\"))       # Lists all files/folders in current directory\n",
    "        ```\n",
    "    5. **Getting File Information**\n",
    "        ```\n",
    "        print(os.path.getsize(\"example.txt\"))   # File size in bytes\n",
    "        print(os.path.abspath(\"example.txt\"))   # Absolute file path\n",
    "        ```\n",
    "\n",
    "    6. **Renaming or Moving Files**\n",
    "        ```\n",
    "        os.rename(\"old.txt\", \"new.txt\")\n",
    "        ```\n",
    "\n",
    "    7. **Working with Paths**\n",
    "        ```\n",
    "        path = os.path.join(\"folder\", \"file.txt\")\n",
    "        print(path) # folder/file.txt (platform-independent)\n",
    "\n",
    "        ```\n"
   ]
  },
  {
   "cell_type": "markdown",
   "id": "ab23c1cd",
   "metadata": {},
   "source": [
    "23. **Whatare the challenges associated with memory management in Python?**\n",
    "    \n",
    "    Python provides automatic memory management through its built-in **garbage collector**, but there are still several challenges developers face:\n",
    "\n",
    "    **Memory Leaks**  \n",
    "    Even with garbage collection, memory leaks can occur if references to objects are unintentionally maintained, preventing their cleanup.  \n",
    "    ```\n",
    "    a = []\n",
    "    b = [a]\n",
    "    a.append(b)  # Circular reference\n",
    "    ```\n",
    "    \n",
    "    **Circular References**\n",
    "        Objects that reference each other in a loop may not be immediately freed, requiring Python’s cyclic garbage collector to clean them.\n",
    "\n",
    "    ```\n",
    "    import gc\n",
    "    gc.collect()  # Forces garbage collection\n",
    "    ```\n",
    "\n",
    "    **High Memory Usage for Large Objects**\n",
    "        Storing large data structures like lists or dictionaries consumes significant memory, which can lead to inefficiency.\n",
    "\n",
    "    **Fragmentation**\n",
    "        Frequent allocation and deallocation of objects can fragment memory, causing inefficient use of available memory.\n",
    "\n",
    "    **Reference Counting Limitations**\n",
    "        Python primarily uses reference counting to manage memory. Objects with circular references might not be released immediately, affecting performance.\n",
    "\n",
    "    **Performance Overhead of Garbage Collection**\n",
    "        Garbage collection adds runtime overhead, which can sometimes slow down applications, especially those creating and destroying many short-lived objects.\n",
    "\n",
    "    **Platform-Dependent Behavior**\n",
    "        Memory allocation and garbage collection may behave differently across operating systems and Python implementations (CPython, PyPy), making performance tuning challenging."
   ]
  },
  {
   "cell_type": "markdown",
   "id": "91b3fc8c",
   "metadata": {},
   "source": [
    "24. **How do you raise an exception manually in Python?**\n",
    "\n",
    "      In Python, you can **manually raise an exception** using the `raise` statement. This is useful for signaling errors or unexpected conditions in your code.\n",
    "\n",
    "      1. **Raising a general exception**\n",
    "         \n",
    "         `raise Exception(\"Something went wrong\")`\n",
    "\n",
    "      2. **Raising a specific exception type**\n",
    "         ```\n",
    "         # ValueError\n",
    "         x = -5\n",
    "         if x < 0:\n",
    "            raise ValueError(\"x cannot be negative\")\n",
    "\n",
    "         ```\n",
    "      3. **Raising a built-in exception**\n",
    "         ```\n",
    "         name = \"\"\n",
    "         if not name:\n",
    "            raise NameError(\"Name cannot be empty\")\n",
    "         ```\n",
    "\n",
    "      4. **Raising a custom exception**\n",
    "         ```\n",
    "         class CustomError(Exception):\n",
    "         pass\n",
    "\n",
    "         raise CustomError(\"This is a custom error\")\n",
    "         ```\n",
    "   \n"
   ]
  },
  {
   "cell_type": "markdown",
   "id": "5d6378f2",
   "metadata": {},
   "source": [
    "25. **Why is it important to use multithreading in certain applications?**\n",
    "\n",
    "    Multithreading in Python allows multiple threads to run concurrently within the same process. It is especially useful for **improving performance and responsiveness** in certain types of applications.\n",
    "\n",
    "    **Key Reasons to Use Multithreading**\n",
    "\n",
    "    1. **Improved Responsiveness**\n",
    "    - In GUI applications, multithreading ensures the interface remains responsive while performing background tasks like file loading or network requests.\n",
    "\n",
    "    2. **Parallel I/O Operations**\n",
    "    - Threads can handle multiple input/output operations (e.g., reading/writing files, making API calls) concurrently, reducing waiting time.\n",
    "\n",
    "    3. **Better Resource Utilization**\n",
    "    - While one thread is waiting for I/O, another thread can perform computation, making better use of CPU and I/O resources.\n",
    "\n",
    "    4. **Simplified Program Structure**\n",
    "    - For tasks that can be performed independently (like downloading multiple files), threads allow you to write cleaner and more maintainable code.\n",
    "\n",
    "    5. **Real-time Applications**\n",
    "    - Multithreading is essential in applications that require real-time processing, such as video streaming, gaming, or sensor data processing."
   ]
  },
  {
   "cell_type": "markdown",
   "id": "e34e2a80",
   "metadata": {},
   "source": [
    "# Practical Questions"
   ]
  },
  {
   "cell_type": "code",
   "execution_count": 2,
   "id": "b0c4adca",
   "metadata": {},
   "outputs": [],
   "source": [
    "# 1.  How can you open a file for writing in Python and write a string to it?\n",
    "\n",
    "# Open a file named \"example.txt\" in write mode\n",
    "file = open(\"example.txt\", \"w\")\n",
    "\n",
    "# Write a string to the file\n",
    "file.write(\"Hello, this is a test string for file write.\\n\")\n",
    "\n",
    "# Close the file to save changes\n",
    "file.close()\n"
   ]
  },
  {
   "cell_type": "code",
   "execution_count": null,
   "id": "964c48b3",
   "metadata": {},
   "outputs": [
    {
     "name": "stdout",
     "output_type": "stream",
     "text": [
      "this is line 1\n",
      "this is line 2\n",
      "this is line 3\n",
      "this is line 4\n"
     ]
    }
   ],
   "source": [
    "# 2. Write a Python program to read the contents of a file and print each line?\n",
    "\n",
    "# Open the file in read mode\n",
    "with open(\"read_example.txt\", \"r\") as file:\n",
    "    # Loop through each line in the file\n",
    "    for line in file:\n",
    "        # Print the line\n",
    "        print(line.strip())\n"
   ]
  },
  {
   "cell_type": "code",
   "execution_count": 5,
   "id": "10e9f332",
   "metadata": {},
   "outputs": [
    {
     "name": "stdout",
     "output_type": "stream",
     "text": [
      "The file does not exist. Please check the filename or path.\n"
     ]
    }
   ],
   "source": [
    "# 3. How would you handle a case where the file doesn't exist while trying to open it for reading?\n",
    "\n",
    "try:\n",
    "    with open(\"example2.txt\", \"r\") as file:\n",
    "        for line in file:\n",
    "            print(line.strip())\n",
    "except FileNotFoundError:\n",
    "    print(\"The file does not exist. Please check the filename or path.\")"
   ]
  },
  {
   "cell_type": "code",
   "execution_count": 6,
   "id": "34285d25",
   "metadata": {},
   "outputs": [
    {
     "name": "stdout",
     "output_type": "stream",
     "text": [
      "Content has been copied from example.txt to example_copy.txt.\n"
     ]
    }
   ],
   "source": [
    "# 4. Write a Python script that reads from one file and writes its content to another file?\n",
    "\n",
    "# Specify the source and destination files\n",
    "source_file = \"example.txt\"\n",
    "destination_file = \"example_copy.txt\"\n",
    "\n",
    "try:\n",
    "    # Open the source file in read mode\n",
    "    with open(source_file, \"r\") as src:\n",
    "        # Read the entire content\n",
    "        content = src.read()\n",
    "    \n",
    "    # Open the destination file in write mode\n",
    "    with open(destination_file, \"w\") as dest:\n",
    "        # Write the content to the destination file\n",
    "        dest.write(content)\n",
    "    \n",
    "    print(f\"Content has been copied from {source_file} to {destination_file}.\")\n",
    "\n",
    "except FileNotFoundError:\n",
    "    print(f\"The file {source_file} does not exist.\")"
   ]
  },
  {
   "cell_type": "code",
   "execution_count": 7,
   "id": "a767eb93",
   "metadata": {},
   "outputs": [
    {
     "name": "stdout",
     "output_type": "stream",
     "text": [
      "Error: Division by zero is not allowed.\n"
     ]
    }
   ],
   "source": [
    "# 5. How would you catch and handle division by zero error in Python?\n",
    "\n",
    "try:\n",
    "    numerator = 10\n",
    "    denominator = 0\n",
    "    result = numerator / denominator\n",
    "    print(\"Result:\", result)\n",
    "except ZeroDivisionError:\n",
    "    print(\"Error: Division by zero is not allowed.\")"
   ]
  },
  {
   "cell_type": "code",
   "execution_count": 12,
   "id": "40295448",
   "metadata": {},
   "outputs": [
    {
     "name": "stdout",
     "output_type": "stream",
     "text": [
      "An error occurred. Check error.log for details.\n"
     ]
    }
   ],
   "source": [
    "# 6. Write a Python program that logs an error message to a log file when a division by zero exception occurs?\n",
    "import logging\n",
    "\n",
    "# Configure logging\n",
    "logging.basicConfig(\n",
    "    filename=\"error.log\",   # Log file name\n",
    "    level=logging.ERROR,    # Log only errors and above\n",
    "    format=\"%(asctime)s - %(levelname)s - %(message)s\"\n",
    ")\n",
    "\n",
    "try:\n",
    "    numerator = 10\n",
    "    denominator = 0\n",
    "    result = numerator / denominator\n",
    "    print(\"Result:\", result)\n",
    "except ZeroDivisionError as e:\n",
    "    # Log the error message\n",
    "    logging.error(\"Division by zero occurred: %s\", e)\n",
    "    print(\"An error occurred. Check error.log for details.\")"
   ]
  },
  {
   "cell_type": "code",
   "execution_count": 13,
   "id": "ec9f4796",
   "metadata": {},
   "outputs": [],
   "source": [
    "# 7.  How do you log information at different levels (INFO, ERROR, WARNING) in Python using the logging module?\n",
    "\n",
    "import logging\n",
    "\n",
    "# Remove any previously configured handlers\n",
    "for handler in logging.root.handlers[:]:\n",
    "    logging.root.removeHandler(handler)\n",
    "\n",
    "# Configure logging\n",
    "logging.basicConfig(\n",
    "    filename=\"app.log\",   # Log file\n",
    "    filemode=\"w\", \n",
    "    level=logging.DEBUG,  # Minimum level to log\n",
    "    format=\"%(asctime)s - %(levelname)s - %(message)s\"\n",
    ")\n",
    "\n",
    "# Logging messages at different levels\n",
    "logging.debug(\"This is a debug message\")      # For debugging purposes\n",
    "logging.info(\"This is an info message\")       # General info\n",
    "logging.warning(\"This is a warning message\")  # Warning\n",
    "logging.error(\"This is an error message\")     # Error\n",
    "logging.critical(\"This is a critical message\")# Critical error"
   ]
  },
  {
   "cell_type": "code",
   "execution_count": 14,
   "id": "d878ca46",
   "metadata": {},
   "outputs": [
    {
     "name": "stdout",
     "output_type": "stream",
     "text": [
      "Error: The file 'example1.txt' does not exist.\n"
     ]
    }
   ],
   "source": [
    "# 8. Write a program to handle a file opening error using exception handling.\n",
    "\n",
    "# Program to handle file opening errors\n",
    "\n",
    "filename = \"example1.txt\"\n",
    "\n",
    "try:\n",
    "    # Try to open the file in read mode\n",
    "    with open(filename, \"r\") as file:\n",
    "        content = file.read()\n",
    "        print(\"File content:\\n\", content)\n",
    "except FileNotFoundError:\n",
    "    print(f\"Error: The file '{filename}' does not exist.\")\n",
    "except PermissionError:\n",
    "    print(f\"Error: You do not have permission to open '{filename}'.\")\n",
    "except Exception as e:\n",
    "    # Catch any other exceptions\n",
    "    print(f\"An unexpected error occurred: {e}\")"
   ]
  },
  {
   "cell_type": "code",
   "execution_count": 15,
   "id": "e9518f21",
   "metadata": {},
   "outputs": [
    {
     "name": "stdout",
     "output_type": "stream",
     "text": [
      "['this is line 1', 'this is line 2', 'this is line 3', 'this is line 4']\n"
     ]
    }
   ],
   "source": [
    "# 9. How can you read a file line by line and store its content in a list in Python?\n",
    "\n",
    "filename = \"read_example.txt\"\n",
    "lines = []\n",
    "\n",
    "try:\n",
    "    with open(filename, \"r\") as file:\n",
    "        for line in file:\n",
    "            lines.append(line.strip())  # Remove trailing newline characters\n",
    "except FileNotFoundError:\n",
    "    print(f\"Error: '{filename}' does not exist.\")\n",
    "\n",
    "print(lines)"
   ]
  },
  {
   "cell_type": "code",
   "execution_count": 16,
   "id": "c2e1b156",
   "metadata": {},
   "outputs": [
    {
     "name": "stdout",
     "output_type": "stream",
     "text": [
      "Data has been appended to 'example.txt'.\n"
     ]
    }
   ],
   "source": [
    "# 10.  How can you append data to an existing file in Python?\n",
    "\n",
    "filename = \"example.txt\"\n",
    "\n",
    "# Open the file in append mode\n",
    "with open(filename, \"a\") as file:\n",
    "    file.write(\"This line will be added in example file at the end.\\n\")\n",
    "    file.write(\"Another new line.\\n\")\n",
    "\n",
    "print(f\"Data has been appended to '{filename}'.\")"
   ]
  },
  {
   "cell_type": "code",
   "execution_count": 17,
   "id": "9ab437cb",
   "metadata": {},
   "outputs": [
    {
     "name": "stdout",
     "output_type": "stream",
     "text": [
      "Error: The key 'grade' does not exist in the dictionary.\n"
     ]
    }
   ],
   "source": [
    "# 11.  Write a Python program that uses a try-except block to handle an error when attempting to access a dictionary key that doesn't exist?\n",
    "student = {\n",
    "    \"name\": \"Shivam\",\n",
    "    \"age\": 23,\n",
    "    \"course\": \"Python\"\n",
    "}\n",
    "\n",
    "# Key to access\n",
    "key_to_access = \"grade\"\n",
    "\n",
    "try:\n",
    "    # Attempt to access the key\n",
    "    value = student[key_to_access]\n",
    "    print(f\"The value of '{key_to_access}' is {value}\")\n",
    "except KeyError:\n",
    "    print(f\"Error: The key '{key_to_access}' does not exist in the dictionary.\")"
   ]
  },
  {
   "cell_type": "code",
   "execution_count": 18,
   "id": "b4d69946",
   "metadata": {},
   "outputs": [
    {
     "name": "stdout",
     "output_type": "stream",
     "text": [
      "Error: Invalid input. Please enter a valid integer.\n"
     ]
    }
   ],
   "source": [
    "# 12.  Write a program that demonstrates using multiple except blocks to handle different types of exceptions.\n",
    "\n",
    "try:\n",
    "    # Input two numbers from the user\n",
    "    num1 = int(input(\"Enter the first number: \"))\n",
    "    num2 = int(input(\"Enter the second number: \"))\n",
    "    \n",
    "    # Divide the numbers\n",
    "    result = num1 / num2\n",
    "    print(\"Result:\", result)\n",
    "\n",
    "    # Access an index in a list\n",
    "    my_list = [1, 2, 3]\n",
    "    print(\"Accessing index 5:\", my_list[5])\n",
    "\n",
    "except ZeroDivisionError:\n",
    "    print(\"Error: Division by zero is not allowed.\")\n",
    "\n",
    "except ValueError:\n",
    "    print(\"Error: Invalid input. Please enter a valid integer.\")\n",
    "\n",
    "except IndexError:\n",
    "    print(\"Error: List index out of range.\")\n",
    "\n",
    "except Exception as e:\n",
    "    # Catch any other unexpected exceptions\n",
    "    print(f\"An unexpected error occurred: {e}\")"
   ]
  },
  {
   "cell_type": "code",
   "execution_count": 19,
   "id": "5fb841da",
   "metadata": {},
   "outputs": [
    {
     "name": "stdout",
     "output_type": "stream",
     "text": [
      "File 'example4.txt' does not exist.\n"
     ]
    }
   ],
   "source": [
    "# 13. How would you check if a file exists before attempting to read it in Python?\n",
    "import os\n",
    "\n",
    "filename = \"example4.txt\"\n",
    "\n",
    "if os.path.exists(filename):\n",
    "    with open(filename, \"r\") as file:\n",
    "        content = file.read()\n",
    "        print(content)\n",
    "else:\n",
    "    print(f\"File '{filename}' does not exist.\")\n"
   ]
  },
  {
   "cell_type": "code",
   "execution_count": 21,
   "id": "19c0ddd6",
   "metadata": {},
   "outputs": [
    {
     "name": "stdout",
     "output_type": "stream",
     "text": [
      "Program execution has been logged in app1.log\n"
     ]
    }
   ],
   "source": [
    "# 14. Write a program that uses the logging module to log both informational and error messages.\n",
    "\n",
    "import logging\n",
    "\n",
    "# Remove any previously configured handlers\n",
    "for handler in logging.root.handlers[:]:\n",
    "    logging.root.removeHandler(handler)\n",
    "\n",
    "# Configure logging\n",
    "logging.basicConfig(\n",
    "    filename=\"app1.log\",          # Log file name\n",
    "    filemode=\"w\",                # Overwrite the file each time\n",
    "    level=logging.DEBUG,         # Log all levels DEBUG and above\n",
    "    format=\"%(asctime)s - %(levelname)s - %(message)s\"\n",
    ")\n",
    "\n",
    "# Log an informational message\n",
    "logging.info(\"Program started successfully.\")\n",
    "\n",
    "try:\n",
    "    # Example operation that may raise an error\n",
    "    numerator = 10\n",
    "    denominator = 0\n",
    "    result = numerator / denominator\n",
    "    logging.info(f\"Division result: {result}\")\n",
    "\n",
    "except ZeroDivisionError as e:\n",
    "    # Log the error\n",
    "    logging.error(f\"An error occurred: {e}\")\n",
    "\n",
    "# Another informational message\n",
    "logging.info(\"Program finished.\")\n",
    "print(\"Program execution has been logged in app1.log\")"
   ]
  },
  {
   "cell_type": "code",
   "execution_count": 22,
   "id": "363f6b5b",
   "metadata": {},
   "outputs": [
    {
     "name": "stdout",
     "output_type": "stream",
     "text": [
      "The file 'empty_file.txt' is empty.\n"
     ]
    }
   ],
   "source": [
    "# 15. Write a Python program that prints the content of a file and handles the case when the file is empty.\n",
    "\n",
    "filename = \"empty_file.txt\"\n",
    "\n",
    "try:\n",
    "    with open(filename, \"r\") as file:\n",
    "        content = file.read()  # Read the entire file content\n",
    "        \n",
    "        if content:  # Check if content is not empty\n",
    "            print(\"File content:\\n\", content)\n",
    "        else:\n",
    "            print(f\"The file '{filename}' is empty.\")\n",
    "\n",
    "except FileNotFoundError:\n",
    "    print(f\"Error: The file '{filename}' does not exist.\")\n",
    "except Exception as e:\n",
    "    print(f\"An unexpected error occurred: {e}\")"
   ]
  },
  {
   "attachments": {
    "image.png": {
     "image/png": "[encoded data removed]"
    }
   },
   "cell_type": "markdown",
   "id": "0b3ae0c1",
   "metadata": {},
   "source": [
    "### Installing pip install memory-profiler for question 16\n",
    "!pip install memory-profiler\n",
    "\n",
    "then execute mem_test.py\n",
    "python -m memory_profiler mem_test.py\n",
    "\n",
    "![image.png](attachment:image.png)"
   ]
  },
  {
   "cell_type": "code",
   "execution_count": 23,
   "id": "7f68ff2d",
   "metadata": {},
   "outputs": [
    {
     "name": "stdout",
     "output_type": "stream",
     "text": [
      "Numbers have been written to 'numbers.txt' successfully.\n"
     ]
    }
   ],
   "source": [
    "# 17. Write a Python program to create and write a list of numbers to a file, one number per line.\n",
    "\n",
    "# List of numbers\n",
    "numbers = [10, 20, 30, 40, 50]\n",
    "\n",
    "# File to write to\n",
    "filename = \"numbers.txt\"\n",
    "\n",
    "try:\n",
    "    # Open the file in write mode\n",
    "    with open(filename, \"w\") as file:\n",
    "        for number in numbers:\n",
    "            file.write(f\"{number}\\n\")  # Write each number on a new line\n",
    "    print(f\"Numbers have been written to '{filename}' successfully.\")\n",
    "except Exception as e:\n",
    "    print(f\"An error occurred: {e}\")"
   ]
  },
  {
   "cell_type": "code",
   "execution_count": null,
   "id": "bebe1882",
   "metadata": {},
   "outputs": [],
   "source": [
    "# 18. How would you implement a basic logging setup that logs to a file with rotation after 1MB?\n",
    "import logging\n",
    "from logging.handlers import RotatingFileHandler\n",
    "\n",
    "# Remove any previously configured handlers\n",
    "for handler in logging.root.handlers[:]:\n",
    "    logging.root.removeHandler(handler)\n",
    "\n",
    "# Create a rotating file handler\n",
    "handler = RotatingFileHandler(\n",
    "    \"rotate.log\",       # Log file name\n",
    "    maxBytes=1_000_000,  # 1 MB\n",
    "    backupCount=3        # Keep up to 3 backup files\n",
    ")\n",
    "\n",
    "# Configure logging\n",
    "logging.basicConfig(\n",
    "    level=logging.DEBUG,\n",
    "    handlers=[handler],\n",
    "    format=\"%(asctime)s - %(levelname)s - %(message)s\"\n",
    ")\n",
    "\n",
    "# Test logging\n",
    "for i in range(10000):\n",
    "    logging.info(f\"Log message number {i}\")"
   ]
  },
  {
   "cell_type": "code",
   "execution_count": 27,
   "id": "00ecc6ea",
   "metadata": {},
   "outputs": [
    {
     "name": "stdout",
     "output_type": "stream",
     "text": [
      "Error: List index out of range.\n"
     ]
    }
   ],
   "source": [
    "# 19. Write a program that handles both IndexError and KeyError using a try-except block.\n",
    "\n",
    "my_list = [1, 2, 3]\n",
    "my_dict = {\"a\": 10, \"b\": 20}\n",
    "\n",
    "try:\n",
    "    # Attempt to access an invalid index in the list\n",
    "    print(\"Accessing list index 5:\", my_list[5])\n",
    "    \n",
    "    # Attempt to access a non-existent key in the dictionary\n",
    "    print(\"Accessing dictionary key 'c':\", my_dict[\"c\"])\n",
    "\n",
    "except IndexError:\n",
    "    print(\"Error: List index out of range.\")\n",
    "\n",
    "except KeyError:\n",
    "    print(\"Error: Key does not exist in the dictionary.\")\n",
    "\n",
    "except Exception as e:\n",
    "    print(f\"An unexpected error occurred: {e}\")\n"
   ]
  },
  {
   "cell_type": "code",
   "execution_count": 28,
   "id": "501ca374",
   "metadata": {},
   "outputs": [
    {
     "name": "stdout",
     "output_type": "stream",
     "text": [
      "Hello, this is a test string for file write.\n",
      "This line will be added in example file at the end.\n",
      "Another new line.\n",
      "\n"
     ]
    }
   ],
   "source": [
    "# 20.  How would you open a file and read its contents using a context manager in Python?\n",
    "\n",
    "filename = \"example.txt\"\n",
    "\n",
    "# Using a context manager to open and read the file\n",
    "try:\n",
    "    with open(filename, \"r\") as file:\n",
    "        content = file.read()  # Read the entire file content\n",
    "        print(content)\n",
    "except FileNotFoundError:\n",
    "    print(f\"Error: The file '{filename}' does not exist.\")\n",
    "except Exception as e:\n",
    "    print(f\"An unexpected error occurred: {e}\")\n"
   ]
  },
  {
   "cell_type": "code",
   "execution_count": 29,
   "id": "261da947",
   "metadata": {},
   "outputs": [
    {
     "name": "stdout",
     "output_type": "stream",
     "text": [
      "The word 'file' occurs 2 times in the file.\n"
     ]
    }
   ],
   "source": [
    "# 21.  Write a Python program that reads a file and prints the number of occurrences of a specific word.\n",
    "\n",
    "filename = \"example.txt\"\n",
    "word_to_count = \"file\"  # Word to search for\n",
    "\n",
    "try:\n",
    "    with open(filename, \"r\") as file:\n",
    "        content = file.read()  # Read entire file content\n",
    "        \n",
    "    # Count occurrences (case-sensitive)\n",
    "    count = content.count(word_to_count)\n",
    "    print(f\"The word '{word_to_count}' occurs {count} times in the file.\")\n",
    "\n",
    "except FileNotFoundError:\n",
    "    print(f\"Error: The file '{filename}' does not exist.\")\n",
    "except Exception as e:\n",
    "    print(f\"An unexpected error occurred: {e}\")\n"
   ]
  },
  {
   "cell_type": "code",
   "execution_count": 30,
   "id": "74e2f315",
   "metadata": {},
   "outputs": [
    {
     "name": "stdout",
     "output_type": "stream",
     "text": [
      "The file 'empty_file.txt' is empty.\n"
     ]
    }
   ],
   "source": [
    "# 22. How can you check if a file is empty before attempting to read its contents?\n",
    "\n",
    "import os\n",
    "\n",
    "filename = \"empty_file.txt\"\n",
    "\n",
    "if os.path.exists(filename):\n",
    "    if os.path.getsize(filename) > 0:\n",
    "        with open(filename, \"r\") as file:\n",
    "            content = file.read()\n",
    "            print(content)\n",
    "    else:\n",
    "        print(f\"The file '{filename}' is empty.\")\n",
    "else:\n",
    "    print(f\"The file '{filename}' does not exist.\")\n"
   ]
  },
  {
   "cell_type": "code",
   "execution_count": 31,
   "id": "7fd2cad1",
   "metadata": {},
   "outputs": [
    {
     "name": "stdout",
     "output_type": "stream",
     "text": [
      "Error: The file 'example10.txt' does not exist. Check log for details.\n"
     ]
    }
   ],
   "source": [
    "# 23. Write a Python program that writes to a log file when an error occurs during file handling.\n",
    "\n",
    "import logging\n",
    "\n",
    "# Remove any previously configured handlers\n",
    "for handler in logging.root.handlers[:]:\n",
    "    logging.root.removeHandler(handler)\n",
    "\n",
    "# Configure logging\n",
    "logging.basicConfig(\n",
    "    filename=\"file_errors.log\",  # Log file\n",
    "    filemode=\"a\",                # Append to existing log\n",
    "    level=logging.ERROR,         # Only log errors and above\n",
    "    format=\"%(asctime)s - %(levelname)s - %(message)s\"\n",
    ")\n",
    "\n",
    "filename = \"example10.txt\"\n",
    "\n",
    "try:\n",
    "    # Attempt to open and read the file\n",
    "    with open(filename, \"r\") as file:\n",
    "        content = file.read()\n",
    "        print(content)\n",
    "\n",
    "except FileNotFoundError as e:\n",
    "    logging.error(f\"FileNotFoundError: {e}\")\n",
    "    print(f\"Error: The file '{filename}' does not exist. Check log for details.\")\n",
    "\n",
    "except PermissionError as e:\n",
    "    logging.error(f\"PermissionError: {e}\")\n",
    "    print(f\"Error: Permission denied for '{filename}'. Check log for details.\")\n",
    "\n",
    "except Exception as e:\n",
    "    logging.error(f\"Unexpected error: {e}\")\n",
    "    print(\"An unexpected error occurred. Check log for details.\")\n"
   ]
  },
  {
   "cell_type": "code",
   "execution_count": null,
   "id": "70facf43",
   "metadata": {},
   "outputs": [],
   "source": []
  }
 ],
 "metadata": {
  "kernelspec": {
   "display_name": "env",
   "language": "python",
   "name": "python3"
  },
  "language_info": {
   "codemirror_mode": {
    "name": "ipython",
    "version": 3
   },
   "file_extension": ".py",
   "mimetype": "text/x-python",
   "name": "python",
   "nbconvert_exporter": "python",
   "pygments_lexer": "ipython3",
   "version": "3.12.9"
  }
 },
 "nbformat": 4,
 "nbformat_minor": 5
}
