{
 "cells": [
  {
   "cell_type": "markdown",
   "id": "7e532b88",
   "metadata": {},
   "source": [
    "# Data Toolkit"
   ]
  },
  {
   "cell_type": "markdown",
   "id": "cc38f5f2",
   "metadata": {},
   "source": [
    "1. **What is NumPy, and why is it widely used in Python?**\n",
    "\n",
    "    NumPy (Numerical Python) is a powerful open-source Python library used for scientific computing, numerical analysis, and handling large datasets efficiently. It provides support for multi-dimensional arrays (ndarrays) and a wide collection of mathematical functions to operate on them.\n",
    "\n",
    "    **Key Reasons Why NumPy is Widely Used**\n",
    "\n",
    "    1. **Efficient Multi-dimensional Arrays**\n",
    "\n",
    "       - NumPy introduces the ndarray object, which is faster and more memory-efficient than Python’s built-in lists.\n",
    "\n",
    "       - Arrays can be 1D, 2D (matrices), or n-dimensional.\n",
    "\n",
    "        ```\n",
    "        import numpy as np\n",
    "        arr = np.array([1, 2, 3, 4])\n",
    "        print(arr)  # Output: [1 2 3 4]\n",
    "        ```\n",
    "\n",
    "    2. **Performance and Speed**\n",
    "\n",
    "       - Operations on NumPy arrays are implemented in C and Fortran, making them significantly faster than pure Python loops.\n",
    "\n",
    "       - Supports vectorized operations (apply an operation to the entire array at once).\n",
    "\n",
    "        ```\n",
    "        arr = np.array([1, 2, 3, 4])\n",
    "        print(arr * 2)  # Output: [2 4 6 8]\n",
    "        ```\n",
    "\n",
    "    3. **Mathematical and Statistical Functions**\n",
    "\n",
    "       - Provides a rich set of functions for linear algebra, Fourier transforms, random numbers, and statistics.\n",
    "\n",
    "        ```\n",
    "        data = np.array([1, 2, 3, 4, 5])\n",
    "        print(np.mean(data))  # Average -> 3.0\n",
    "        print(np.std(data))   # Standard deviation -> 1.414\n",
    "        ```\n",
    "\n",
    "\n",
    "    4. **Integration with Other Libraries**\n",
    "\n",
    "       - NumPy is the foundation for many Python libraries like Pandas, SciPy, Scikit-learn, TensorFlow, and PyTorch.\n",
    "\n",
    "       - It acts as the backbone for data science and machine learning workflows.\n",
    "\n",
    "\n",
    "    5. **Broadcasting**\n",
    "\n",
    "       - Allows operations between arrays of different shapes without writing explicit loops.\n",
    "\n",
    "        ```\n",
    "        a = np.array([1, 2, 3])\n",
    "        b = 5\n",
    "        print(a + b)  # Output: [6 7 8]\n",
    "        ```"
   ]
  },
  {
   "cell_type": "markdown",
   "id": "4cef7347",
   "metadata": {},
   "source": [
    "2. **How does broadcasting work in NumPy?**\n",
    "\n",
    "    Broadcasting in NumPy is a powerful feature that allows arrays of different shapes to be used together in arithmetic operations without making unnecessary copies of data. NumPy automatically “stretches” or “broadcasts” the smaller array across the larger one so element-wise operations can be performed.\n",
    "\n",
    "    **Rules of Broadcasting**\n",
    "\n",
    "    1. Compare dimensions from right to left\n",
    "\n",
    "       * If the dimensions are equal :- compatible.\n",
    "\n",
    "       * If one of them is 1 :- compatible (it will be stretched).\n",
    "\n",
    "       * Otherwise :- incompatible (error).\n",
    "\n",
    "    2. Resulting shape\n",
    "\n",
    "       * The output array will have the maximum shape of the two arrays after broadcasting.\n",
    "\n",
    "   \n",
    "   **Scalar with Array** \n",
    "   ```\n",
    "   import numpy as np\n",
    "\n",
    "   a = np.array([1, 2, 3])\n",
    "   b = 5\n",
    "   print(a + b)  # [6 7 8]\n",
    "   #scalar 5 is broadcast to [5, 5, 5].\n",
    "   ```\n",
    "\n",
    "   **1D and 2D Array**\n",
    "   ```\n",
    "   a = np.array([[1], [2], [3]])   # shape (3,1)\n",
    "   b = np.array([10, 20, 30])      # shape (3,)\n",
    "   print(a + b)\n",
    "   ```"
   ]
  },
  {
   "cell_type": "markdown",
   "id": "f12b8586",
   "metadata": {},
   "source": [
    "3. **What is a Pandas DataFrame?**\n",
    "\n",
    "    A Pandas DataFrame is a two-dimensional, tabular data structure in Python provided by the Pandas library. It is similar to a spreadsheet or SQL table, where data is organized into rows and columns, making it one of the most widely used tools for data analysis and manipulation.\n",
    "\n",
    "    ```\n",
    "    import pandas as pd\n",
    "\n",
    "    data = {\n",
    "        \"Name\": [\"Alice\", \"Bob\", \"Charlie\"],\n",
    "        \"Age\": [25, 30, 35],\n",
    "        \"Salary\": [50000, 60000, 70000]\n",
    "    }\n",
    "\n",
    "    df = pd.DataFrame(data)\n",
    "    print(df)\n",
    "\n",
    "    # Output\n",
    "    #        Name  Age  Salary\n",
    "    #    0   Alice   25   50000\n",
    "    #    1     Bob   30   60000\n",
    "    #    2 Charlie   35   70000\n",
    "    ```\n",
    "\n",
    "    **Key Features of a DataFrame**\n",
    "\n",
    "    1. **Labeled Axes (Rows and Columns)**\n",
    "\n",
    "        - Rows are indexed (0,1,2… by default, but can be custom).\n",
    "\n",
    "        - Columns have labels (like \"Name\", \"Age\", \"Salary\").\n",
    "\n",
    "    2. **Heterogeneous Data**\n",
    "\n",
    "        - Different columns can hold different data types (integers, floats, strings, objects).\n",
    "\n",
    "    3. **Size Mutability**\n",
    "\n",
    "        - You can add or delete rows and columns.\n",
    "\n",
    "    4. **Powerful Data Handling**\n",
    "\n",
    "        - Provides functions for filtering, grouping, joining, reshaping, and aggregating data."
   ]
  },
  {
   "cell_type": "markdown",
   "id": "ffb92404",
   "metadata": {},
   "source": [
    "4. **Explain the use of the groupby() method in Pandas?**\n",
    "\n",
    "    The groupby() method in Pandas is used to split data into groups based on one or more keys (columns), perform operations on each group, and then combine the results.\n",
    "\n",
    "    **It follows the Split–Apply–Combine strategy:**\n",
    "\n",
    "    1. Split :- Divide data into groups.\n",
    "\n",
    "    2. Apply :- Perform a function (like sum, mean, count).\n",
    "\n",
    "    3. Combine :- Merge results into a new DataFrame.\n",
    "\n",
    "\n",
    "    ```\n",
    "    import pandas as pd\n",
    "\n",
    "    data = {\n",
    "        \"Department\": [\"HR\", \"IT\", \"IT\", \"HR\", \"Finance\"],\n",
    "        \"Employee\": [\"Alice\", \"Bob\", \"Charlie\", \"David\", \"Eve\"],\n",
    "        \"Salary\": [50000, 60000, 70000, 55000, 65000]\n",
    "    }\n",
    "\n",
    "    df = pd.DataFrame(data)\n",
    "\n",
    "    # Group by Department and calculate average salary\n",
    "    grouped = df.groupby(\"Department\")[\"Salary\"].mean()\n",
    "    print(grouped)\n",
    "\n",
    "    #Output\n",
    "    # Department\n",
    "    # Finance    65000.0\n",
    "    # HR         52500.0\n",
    "    # IT         65000.0\n",
    "    # Name: Salary, dtype: float64\n",
    "    ```"
   ]
  },
  {
   "cell_type": "markdown",
   "id": "9afe597a",
   "metadata": {},
   "source": [
    "5. **Why is Seaborn preferred for statistical visualizations?**\n",
    "\n",
    "    Seaborn is a Python data visualization library built on top of Matplotlib. It is widely preferred for statistical visualizations because it provides a high-level, easy-to-use interface and comes with built-in support for statistical graphics.\n",
    "\n",
    "    **Key Reasons Seaborn is Preferred**\n",
    "\n",
    "    1. **High-Level API**\n",
    "\n",
    "        - Seaborn simplifies the process of creating complex plots.\n",
    "\n",
    "        - A single function can produce plots that would take many lines of Matplotlib code.\n",
    "\n",
    "        ```\n",
    "        import seaborn as sns\n",
    "        import pandas as pd\n",
    "\n",
    "        tips = sns.load_dataset(\"tips\")\n",
    "        sns.barplot(x=\"day\", y=\"total_bill\", data=tips)\n",
    "        ```\n",
    "    2. **Built-in Statistical Functions**\n",
    "\n",
    "        - Many Seaborn plots automatically perform statistical aggregation (like mean, confidence intervals, regression lines).\n",
    "\n",
    "        - Example: sns.regplot() automatically fits and visualizes a regression line.\n",
    "\n",
    "    3. **Better Default Aesthetics**\n",
    "\n",
    "        - Seaborn comes with clean, modern, and professional default styles and color palettes.\n",
    "\n",
    "        - Less time spent tweaking plots compared to Matplotlib.\n",
    "    \n",
    "    4. **Integration with Pandas**\n",
    "\n",
    "        - Works seamlessly with Pandas DataFrames and column names.\n",
    "\n",
    "        - Eliminates the need to manually extract arrays.\n",
    "    \n",
    "    5. **Wide Range of Statistical Plots**\n",
    "\n",
    "        - Provides specialized plots for statistical data:\n",
    "\n",
    "        - Categorical plots: barplot, boxplot, violinplot, stripplot\n",
    "\n",
    "        - Distribution plots: histplot, kdeplot, distplot\n",
    "\n",
    "        - Regression plots: regplot, lmplot\n",
    "\n",
    "        - Heatmaps for correlation analysis"
   ]
  },
  {
   "cell_type": "markdown",
   "id": "f1f44234",
   "metadata": {},
   "source": [
    "6. **What are the differences between NumPy arrays and Python lists?**\n",
    "\n",
    "    | Feature                     | **NumPy Array**                                                                         | **Python List**                                                                                           |\n",
    "    | --------------------------- | --------------------------------------------------------------------------------------- | --------------------------------------------------------------------------------------------------------- |\n",
    "    | **Data Type**               | Homogeneous (all elements must be of the same type, e.g., all floats or all ints).      | Heterogeneous (can store mixed types: int, float, string, etc.).                                          |\n",
    "    | **Memory Efficiency**       | Stored in a contiguous block of memory → more compact and faster.                       | Stores references to objects → less memory efficient.                                                     |\n",
    "    | **Performance**             | Much faster for mathematical and numerical operations (implemented in C).               | Slower for numerical computations due to dynamic typing and object overhead.                              |\n",
    "    | **Functionality**           | Provides built-in vectorized operations, broadcasting, linear algebra, statistics, etc. | No built-in numerical functions; requires manual loops.                                                   |\n",
    "    | **Dimensionality**          | Can handle multi-dimensional arrays (1D, 2D, nD).                                       | Essentially one-dimensional; nesting creates lists of lists, which are inefficient for matrix operations. |\n",
    "    | **Element-wise Operations** | Supported directly. Example: `a * 2` multiplies every element.                          | Not supported directly. Example: `[1,2,3] * 2` → `[1,2,3,1,2,3]`.                                         |\n",
    "    | **Convenience**             | Works seamlessly with scientific libraries (Pandas, SciPy, ML libraries).               | Limited use in scientific computing.                                                                      |\n",
    "\n",
    "\n",
    "    ```\n",
    "    import numpy as np\n",
    "\n",
    "    # NumPy array\n",
    "    arr = np.array([1, 2, 3, 4])\n",
    "    print(arr * 2)  # [2 4 6 8]\n",
    "\n",
    "    # Python list\n",
    "    lst = [1, 2, 3, 4]\n",
    "    print(lst * 2)  # [1, 2, 3, 4, 1, 2, 3, 4] (repeats instead of multiplying)\n",
    "    ```\n"
   ]
  },
  {
   "cell_type": "markdown",
   "id": "58f94967",
   "metadata": {},
   "source": [
    "7. **What is a heatmap, and when should it be used?**\n",
    "\n",
    "    A heatmap is a data visualization technique that uses color shading to represent the magnitude of values in a matrix or 2D dataset. Each cell in the matrix is colored according to its value, making it easy to spot patterns, correlations, and anomalies at a glance.\n",
    "\n",
    "    **Characteristics of a Heatmap**\n",
    "\n",
    "    - **Rows and Columns** :-  Represent variables or categories.\n",
    "\n",
    "    - **Cell Colors** :-  Represent numerical values (e.g., darker color = higher value).\n",
    "\n",
    "    - Often includes a color bar/legend for interpretation.\n",
    "\n",
    "    ```\n",
    "    import seaborn as sns\n",
    "    import numpy as np\n",
    "    import matplotlib.pyplot as plt\n",
    "\n",
    "    # Create sample correlation matrix\n",
    "    data = np.array([[1, 0.8, 0.5],\n",
    "                    [0.8, 1, 0.3],\n",
    "                    [0.5, 0.3, 1]])\n",
    "\n",
    "    sns.heatmap(data, annot=True, cmap=\"coolwarm\")\n",
    "    plt.show()\n",
    "    ```\n",
    "\n",
    "    **When Should a Heatmap Be Used**\n",
    "\n",
    "    1. Correlation Analysis\n",
    "\n",
    "       - To visualize relationships between variables in a dataset.\n",
    "\n",
    "       - Example: Correlation between features in a machine learning dataset.\n",
    "\n",
    "    2. Pattern Recognition\n",
    "\n",
    "       - Useful for spotting trends, clusters, or outliers in data matrices.\n",
    "\n",
    "       - Example: Customer behavior across different products.\n",
    "\n",
    "    3. Comparisons\n",
    "\n",
    "       - Helps compare multiple variables across categories.\n",
    "\n",
    "       - Example: Sales performance of different regions over months.\n",
    "\n",
    "    4. High-Dimensional Data\n",
    "\n",
    "       - Summarizes large datasets in a visually compact form.\n",
    "\n",
    "       - Example: Gene expression data in bioinformatics."
   ]
  },
  {
   "cell_type": "markdown",
   "id": "9ee29171",
   "metadata": {},
   "source": [
    "8. **What does the term “vectorized operation” mean in NumPy?**\n",
    "\n",
    "    In NumPy, a vectorized operation means performing an operation on an entire array (or large chunks of data) at once, instead of iterating through elements one by one with loops.\n",
    "\n",
    "    This is possible because NumPy arrays are implemented in optimized C code, allowing operations to run much faster and more efficiently than Python loops.\n",
    "\n",
    "    **Key Characteristics of Vectorized Operations**\n",
    "\n",
    "    1. Element-wise Execution\n",
    "\n",
    "        - Operations are applied to each element of the array automatically.\n",
    "        ```\n",
    "        import numpy as np\n",
    "        arr = np.array([1, 2, 3, 4])\n",
    "        print(arr * 2)   # [2 4 6 8]\n",
    "        ```\n",
    "\n",
    "    2. No Explicit Loops Required\n",
    "\n",
    "        - With lists, you’d need a loop; with NumPy, the operation is applied to the entire array directly.\n",
    "\n",
    "    3. Performance Boost\n",
    "\n",
    "        - Vectorized operations are faster because they rely on low-level optimizations (SIMD, BLAS, LAPACK).\n",
    "\n",
    "    4. Cleaner, More Readable Code\n",
    "\n",
    "        - Removes the need for verbose looping, making the code concise and easier to maintain."
   ]
  },
  {
   "cell_type": "markdown",
   "id": "6f973848",
   "metadata": {},
   "source": [
    "9. **How does Matplotlib differ from Plotly?**\n",
    "\n",
    "    Both Matplotlib and Plotly are popular Python libraries for data visualization, but they serve different purposes.\n",
    "    Matplotlib is mainly used for static, publication-ready plots, while Plotly is used for interactive, web-friendly visualizations.\n",
    "\n",
    "    | Feature                    | **Matplotlib**                                                                      | **Plotly**                                                                           |\n",
    "    | -------------------------- | ----------------------------------------------------------------------------------- | ------------------------------------------------------------------------------------ |\n",
    "    | **Type of Visualizations** | Primarily **static** (though interactive with add-ons like `%matplotlib notebook`). | **Interactive** by default (zoom, hover, pan, tooltips).                             |\n",
    "    | **Ease of Use**            | Low-level, requires more code to customize plots.                                   | High-level API, simpler for interactive dashboards and quick visualizations.         |\n",
    "    | **Customization**          | Very flexible, but often requires detailed commands.                                | Comes with smart defaults and easy customization for interactivity.                  |\n",
    "    | **Integration**            | Great for scientific computing, integrates with NumPy, SciPy, Pandas.               | Best for dashboards and web apps, integrates with Dash, Jupyter, and web frameworks. |\n",
    "    | **Output**                 | PNG, PDF, SVG, etc. (static images).                                                | HTML/JavaScript-based → works in browsers and web apps.                              |\n",
    "    | **Performance**            | Better for very large datasets (millions of points).                                | Can lag with very large datasets due to browser rendering.                           |\n",
    "    | **Use Cases**              | Research papers, static plots, scientific visualization.                            | Business dashboards, interactive data exploration, web-based reports.                |\n",
    "\n",
    "    **Matplotlib (Static Plot)**\n",
    "    ```\n",
    "    import matplotlib.pyplot as plt\n",
    "\n",
    "    x = [1, 2, 3, 4, 5]\n",
    "    y = [10, 20, 25, 30, 35]\n",
    "\n",
    "    plt.plot(x, y, marker=\"o\")\n",
    "    plt.title(\"Matplotlib Example\")\n",
    "    plt.xlabel(\"X-axis\")\n",
    "    plt.ylabel(\"Y-axis\")\n",
    "    plt.show()\n",
    "    ```\n",
    "\n",
    "    **Plotly (Interactive Plot)**\n",
    "    ```\n",
    "    import plotly.express as px\n",
    "\n",
    "    x = [1, 2, 3, 4, 5]\n",
    "    y = [10, 20, 25, 30, 35]\n",
    "\n",
    "    fig = px.line(x=x, y=y, markers=True, title=\"Plotly Example\")\n",
    "    fig.show()\n",
    "    ```"
   ]
  },
  {
   "cell_type": "markdown",
   "id": "5b73e662",
   "metadata": {},
   "source": [
    "10. **What is the significance of hierarchical indexing in Pandas?**\n",
    "\n",
    "    Hierarchical indexing (also called MultiIndex) in Pandas allows you to have multiple levels of index labels on rows or columns.\n",
    "    This provides a powerful way to work with higher-dimensional data in a 2D DataFrame and makes complex data analysis, grouping, and reshaping much easier.\n",
    "\n",
    "    **Why Hierarchical Indexing is Significant**\n",
    "\n",
    "    1. **Representation of Multi-dimensional Data in 2D**\n",
    "\n",
    "        - Lets you represent higher-dimensional data (like 3D) in a 2D DataFrame.\n",
    "\n",
    "        - Example: Sales data split by Region and Year.\n",
    "\n",
    "    2. **Easier Data Analysis**\n",
    "\n",
    "        - Enables more advanced slicing, filtering, and subsetting of data.\n",
    "\n",
    "    3. **Powerful Grouping & Aggregation**\n",
    "\n",
    "        - Naturally works with .groupby() results, since groupby often returns multi-level indices.\n",
    "\n",
    "    4. **Better Data Organization**\n",
    "\n",
    "        - Makes data more structured and meaningful when dealing with complex datasets.\n",
    "\n",
    "    ```\n",
    "    import pandas as pd\n",
    "\n",
    "    # Create hierarchical index\n",
    "    data = {\n",
    "        \"Sales\": [250, 300, 400, 500],\n",
    "        \"Profit\": [50, 70, 90, 120]\n",
    "    }\n",
    "    index = pd.MultiIndex.from_tuples(\n",
    "        [(\"North\", 2022), (\"North\", 2023), (\"South\", 2022), (\"South\", 2023)],\n",
    "        names=[\"Region\", \"Year\"]\n",
    "    )\n",
    "\n",
    "    df = pd.DataFrame(data, index=index)\n",
    "    print(df)\n",
    "    ```"
   ]
  },
  {
   "cell_type": "markdown",
   "id": "b4ad6508",
   "metadata": {},
   "source": [
    "11. **What is the role of Seaborn’s pairplot() function?**\n",
    "\n",
    "    The pairplot() function in Seaborn is used to create a matrix of scatter plots (and histograms or KDE plots on the diagonal) that show pairwise relationships between multiple numerical variables in a dataset.\n",
    "\n",
    "    It is one of the most popular functions in Seaborn because it provides a quick exploratory visualization of how variables relate to each other.\n",
    "\n",
    "    **Role**\n",
    "\n",
    "    1. **Pairwise Relationships**\n",
    "\n",
    "        - Plots scatter plots for every combination of numerical variables.\n",
    "\n",
    "        - Helps in spotting correlations, trends, and clusters.\n",
    "\n",
    "    2. **Distribution Analysis**\n",
    "\n",
    "        - The diagonal of the plot shows the distribution of each variable (histogram or KDE).\n",
    "\n",
    "    3. **Categorical Hue Separation**\n",
    "\n",
    "        - You can use the hue parameter to color points based on a categorical variable (e.g., species, gender, class).\n",
    "\n",
    "    4. **Quick EDA Tool**\n",
    "\n",
    "        - Great for exploratory data analysis (EDA) since you get both univariate (diagonal) and bivariate (scatter plots) relationships in a   single figure."
   ]
  },
  {
   "cell_type": "markdown",
   "id": "da071705",
   "metadata": {},
   "source": [
    "12. **What is the purpose of the describe() function in Pandas?**\n",
    "\n",
    "    The describe() function in Pandas is used to generate summary statistics of a DataFrame or Series.\n",
    "    It provides a quick overview of the central tendency, dispersion, and distribution of your data.\n",
    "\n",
    "    **Purpose**\n",
    "\n",
    "    1. Quick Statistical Summary\n",
    "\n",
    "        - Gives descriptive statistics like mean, median, min, max, quartiles, and standard deviation.\n",
    "\n",
    "    2. Data Understanding\n",
    "\n",
    "        - Helps analysts quickly understand the spread, range, and distribution of numerical data.\n",
    "\n",
    "    3. Works for Different Data Types\n",
    "\n",
    "        - By default, it summarizes numerical columns, but with parameters, it can also summarize categorical/text data.\n",
    "\n",
    "    4. Exploratory Data Analysis (EDA)\n",
    "\n",
    "        - Saves time by providing essential descriptive stats in one command.\n",
    "\n",
    "    ```\n",
    "    import pandas as pd\n",
    "\n",
    "    # Sample DataFrame\n",
    "    data = {\n",
    "        \"Age\": [22, 25, 29, 35, 40],\n",
    "        \"Salary\": [30000, 40000, 50000, 60000, 70000]\n",
    "    }\n",
    "\n",
    "    df = pd.DataFrame(data)\n",
    "\n",
    "    # Summary statistics\n",
    "    print(df.describe())\n",
    "    ```"
   ]
  },
  {
   "cell_type": "markdown",
   "id": "63d3303c",
   "metadata": {},
   "source": [
    "13. **Why is handling missing data important in Pandas?**\n",
    "\n",
    "    Handling missing data is a crucial step in data analysis because missing values can lead to inaccurate results, biased insights, or errors in computation. Pandas provides various tools (isna(), dropna(), fillna()) to detect and handle such cases effectively.\n",
    "\n",
    "    **Importance of Handling Missing Data**\n",
    "\n",
    "    1. **Ensures Accuracy of Analysis**\n",
    "\n",
    "        - Missing data can distort statistical measures like mean, correlation, or regression results.\n",
    "\n",
    "        - Example: If salaries have missing values, the average salary will be underestimated.\n",
    "\n",
    "    2. **Prevents Errors in Computations**\n",
    "\n",
    "        - Many machine learning models and statistical functions cannot handle NaN values and will throw errors if they are not treated.\n",
    "\n",
    "    3. **Maintains Data Integrity**\n",
    "\n",
    "        - Ensures consistency in datasets by either removing incomplete rows/columns or filling values logically.\n",
    "\n",
    "    4. **Improves Model Performance**\n",
    "\n",
    "        - Machine learning models trained on datasets with missing values can perform poorly. Handling missing data ensures better predictions.\n",
    "\n",
    "    5. **Better Decision-Making**\n",
    "\n",
    "        - Clean and complete datasets lead to reliable insights, reducing the risk of wrong business or research decisions."
   ]
  },
  {
   "cell_type": "markdown",
   "id": "fca95a57",
   "metadata": {},
   "source": [
    "14. **What are the benefits of using Plotly for data visualization?**\n",
    "\n",
    "    Plotly is a powerful Python library for creating interactive and dynamic visualizations. Unlike traditional static plotting libraries, Plotly offers advanced features for data exploration, dashboards, and web applications.\n",
    "\n",
    "    **Benefits of Plotly**\n",
    "\n",
    "    1. **Interactive Visualizations**\n",
    "\n",
    "        - All charts are interactive by default (zoom, pan, hover tooltips, legends).\n",
    "\n",
    "        - Makes data exploration easier compared to static plots.\n",
    "\n",
    "    2. **Wide Variety of Charts**\n",
    "\n",
    "        - Supports basic plots (line, bar, scatter) and advanced ones like 3D plots, choropleth maps, sunbursts, and financial charts.\n",
    "\n",
    "    3. **Easy Integration with Dash**\n",
    "\n",
    "        - Works seamlessly with Dash (a web application framework) to build interactive dashboards.\n",
    "\n",
    "    4. **Web-Friendly (HTML/JavaScript Output)**\n",
    "\n",
    "        - Visualizations can be exported as standalone HTML files or embedded directly in web applications.\n",
    "\n",
    "    5. **Supports Large Datasets**\n",
    "\n",
    "        - Handles big data visualization using WebGL rendering (e.g., millions of points in a scatter plot).\n",
    "\n",
    "    6. **Cross-Language Support**\n",
    "\n",
    "        - Available in Python, R, Julia, and JavaScript, making it versatile across ecosystems.\n",
    "\n",
    "    7. **Built-in Aesthetics**\n",
    "\n",
    "        - Provides beautiful default themes and color palettes that require minimal customization.\n",
    "\n",
    "    8. **Integration with Jupyter Notebooks**\n",
    "\n",
    "        - Works smoothly inside JupyterLab/Notebook, making it great for interactive data analysis.\n",
    "\n",
    "    9. **Export Options**\n",
    "\n",
    "        - Can export to static images (PNG, SVG, PDF) or interactive HTML, giving flexibility depending on the use case.\n",
    "\n",
    "    10. **Open Source with Enterprise Options**\n",
    "\n",
    "        - Core library is open-source, with enterprise solutions available for advanced business needs.\n",
    "\n",
    "    ```\n",
    "    import plotly.express as px\n",
    "\n",
    "    # Sample data\n",
    "    x = [1, 2, 3, 4, 5]\n",
    "    y = [10, 20, 25, 30, 35]\n",
    "\n",
    "    fig = px.line(x=x, y=y, markers=True, title=\"Interactive Plotly Line Chart\")\n",
    "    fig.show()\n",
    "    ```"
   ]
  },
  {
   "cell_type": "markdown",
   "id": "26244533",
   "metadata": {},
   "source": [
    "15. **How does NumPy handle multidimensional arrays?**\n",
    "\n",
    "    NumPy handles multidimensional arrays using its ndarray object, which is a powerful, efficient, and flexible way to store and operate on large datasets. Unlike Python lists, NumPy arrays are homogeneous (all elements of the same type) and can be multi-dimensional (1D, 2D, 3D, … n-dimensional).\n",
    "\n",
    "    1. Representation with `ndarray`  \n",
    "    - A NumPy array can have any number of dimensions.  \n",
    "    - Dimensions are called **axes**, and the number of axes is called the **rank**.  \n",
    "\n",
    "        **Example:**  \n",
    "        - **1D** :-  `[1, 2, 3]`  \n",
    "        - **2D** :-  `[[1, 2, 3], [4, 5, 6]]`  \n",
    "        - **3D** :- a “cube” of numbers  \n",
    "\n",
    "    1. Shape Attribute  \n",
    "        The **`shape`** property shows the array’s dimensions (rows, columns, depth, …).  \n",
    "\n",
    "        ```\n",
    "        import numpy as np\n",
    "\n",
    "        arr = np.array([[1, 2, 3], [4, 5, 6]])\n",
    "        print(arr.shape)   # (2, 3) :-  2 rows, 3 columns\n",
    "        ```\n",
    "\n",
    "    3. Indexing and Slicing\n",
    "\n",
    "        - Supports powerful indexing for accessing elements.\n",
    "        ```\n",
    "        print(arr[0, 1])    # 2 (row 0, col 1)\n",
    "        print(arr[:, 2])    # [3 6] (all rows, column 2)\n",
    "        ```\n",
    "\n",
    "    4. Efficient Storage\n",
    "\n",
    "        - Data is stored in contiguous memory blocks, unlike Python lists.\n",
    "\n",
    "        - Makes mathematical operations (like dot products, sums) much faster.\n",
    "\n",
    "    5. Vectorized Operations Across Dimensions\n",
    "        - Operations are applied element-wise across all dimensions without loops.\n",
    "        ```\n",
    "        arr2 = np.array([[10, 20, 30], [40, 50, 60]])\n",
    "        print(arr + arr2)\n",
    "        # [[11 22 33]\n",
    "        #  [44 55 66]]\n",
    "        ```\n",
    "\n",
    "    6. Reshaping Arrays\n",
    "        - NumPy allows changing the dimensions of an array using .reshape().\n",
    "        ```\n",
    "        arr = np.arange(12)  # 1D array [0..11]\n",
    "        arr2d = arr.reshape(3, 4)  \n",
    "        print(arr2d)\n",
    "        # [[ 0  1  2  3]\n",
    "        #  [ 4  5  6  7]\n",
    "        #  [ 8  9 10 11]]\n",
    "        ```\n",
    "\n",
    "    7. Higher-Dimensional Arrays\n",
    "\n",
    "        - Supports 3D, 4D, … nD arrays for scientific computing.\n",
    "        ```\n",
    "        arr3d = np.arange(27).reshape(3, 3, 3)\n",
    "        print(arr3d.shape)   # (3, 3, 3)\n",
    "        ```\n"
   ]
  },
  {
   "cell_type": "markdown",
   "id": "7a9b0bb4",
   "metadata": {},
   "source": [
    "16. **What is the role of Bokeh in data visualization?**\n",
    "\n",
    "    Bokeh is a powerful Python library designed for creating interactive, web-ready visualizations. Its main role is to make it easy to build dynamic dashboards, interactive plots, and web applications for data exploration.\n",
    "\n",
    "    **Key Roles of Bokeh**\n",
    "\n",
    "    1. Interactive Visualizations\n",
    "\n",
    "        - Unlike static libraries (e.g., Matplotlib), Bokeh creates interactive plots with features like zooming, panning, tooltips, and selection.\n",
    "\n",
    "    2. Web-Friendly Output\n",
    "\n",
    "        - Bokeh generates JavaScript-powered visualizations that can be embedded directly into web applications, HTML files, or Jupyter notebooks.\n",
    "\n",
    "    3. Integration with Dashboards\n",
    "\n",
    "        - Works with Bokeh Server to create live dashboards that update in real-time as data changes.\n",
    "\n",
    "    4. Large Dataset Handling\n",
    "\n",
    "        - Optimized for streaming and big data visualizations, making it suitable for data science and analytics applications.\n",
    "\n",
    "    5. Flexible Customization\n",
    "\n",
    "        - Provides both high-level plotting APIs (for quick visualization) and low-level APIs (for complete control over graphics).\n",
    "\n",
    "    6. Supports Various Chart Types\n",
    "\n",
    "        - From simple line, bar, scatter plots to advanced heatmaps, network graphs, and geographic maps.\n",
    "\n",
    "    7. Integration with Pandas & NumPy\n",
    "\n",
    "        - Easily works with common data structures, making it simple to visualize data from DataFrames or arrays.\n",
    "    \n",
    "    ```\n",
    "    from bokeh.plotting import figure, show\n",
    "\n",
    "    # Create a simple line chart\n",
    "    x = [1, 2, 3, 4, 5]\n",
    "    y = [6, 7, 2, 4, 5]\n",
    "\n",
    "    p = figure(title=\"Bokeh Line Plot\", x_axis_label=\"X-axis\", y_axis_label=\"Y-axis\")\n",
    "    p.line(x, y, legend_label=\"Line\", line_width=2)\n",
    "\n",
    "    show(p)\n",
    "    ```"
   ]
  },
  {
   "cell_type": "markdown",
   "id": "29530636",
   "metadata": {},
   "source": [
    "17. **Explain the difference between apply() and map() in Pandas.**\n",
    "\n",
    "    Both apply() and map() are used to apply functions to Pandas objects, but they differ in scope and flexibility.\n",
    "\n",
    "    **map() in Pandas**\n",
    "\n",
    "    - Works only on Series (1D).\n",
    "\n",
    "    - Applies a function element-wise.\n",
    "\n",
    "    - Can take a function, dictionary (for mapping), or a Series.\n",
    "\n",
    "    - Simple and efficient for transforming values in a single column.\n",
    "\n",
    "    ```\n",
    "    import pandas as pd\n",
    "\n",
    "    s = pd.Series([1, 2, 3, 4])\n",
    "\n",
    "    # Using function\n",
    "    print(s.map(lambda x: x**2))\n",
    "\n",
    "    # Using dictionary mapping\n",
    "    print(s.map({1: 'A', 2: 'B'}))\n",
    "    ```\n",
    "\n",
    "    **apply() in Pandas**\n",
    "\n",
    "    - Works on both Series and DataFrame.\n",
    "\n",
    "    - On a Series, it behaves similarly to map() (applies function element-wise).\n",
    "\n",
    "    - On a DataFrame, it can apply a function along an axis (rows or columns).\n",
    "\n",
    "    - More powerful and flexible than map().\n",
    "\n",
    "    ```\n",
    "    s = pd.Series([1, 2, 3, 4])\n",
    "    print(s.apply(lambda x: x**2))\n",
    "    ```"
   ]
  },
  {
   "cell_type": "markdown",
   "id": "70427635",
   "metadata": {},
   "source": [
    "18. **What are some advanced features of NumPy?**\n",
    "\n",
    "    NumPy is not just for basic arrays and arithmetic it provides a host of advanced features that make it extremely powerful for scientific computing, data analysis, and machine learning.\n",
    "\n",
    "    **Advanced Features of NumPy**\n",
    "\n",
    "    1. Broadcasting\n",
    "\n",
    "        - Allows arithmetic operations between arrays of different shapes without explicitly replicating data.\n",
    "    ```\n",
    "    import numpy as np\n",
    "    a = np.array([1, 2, 3])\n",
    "    b = 10\n",
    "    print(a + b)  # [11 12 13]\n",
    "    ```\n",
    "\n",
    "    2. Vectorized Operations\n",
    "\n",
    "        - Perform element-wise operations on arrays without loops, improving performance.\n",
    "    ```\n",
    "    arr = np.array([1, 2, 3])\n",
    "    print(arr ** 2)  # [1 4 9]\n",
    "    ```\n",
    "\n",
    "    3. Linear Algebra Support\n",
    "\n",
    "        - Provides matrix multiplication, determinant, inverse, eigenvalues, SVD, etc.\n",
    "\n",
    "    ```\n",
    "    A = np.array([[1, 2], [3, 4]])\n",
    "    B = np.array([[5, 6], [7, 8]])\n",
    "    print(np.dot(A, B))\n",
    "    ```\n",
    "\n",
    "    4. Random Number Generation\n",
    "\n",
    "        - Generate random numbers for simulations, sampling, and probabilistic models.\n",
    "    ```\n",
    "    rng = np.random.default_rng()\n",
    "    print(rng.normal(0, 1, size=5))  # 5 samples from normal distribution\n",
    "    ```\n",
    "\n",
    "    5. Fourier Transform and Signal Processing\n",
    "\n",
    "        - Functions like np.fft.fft() for frequency domain analysis.\n",
    "\n",
    "    6. Polynomial and Statistical Functions\n",
    "\n",
    "        - Compute polynomial fits, correlation, mean, median, variance, standard deviation, etc.\n",
    "\n",
    "    7. Memory Efficiency\n",
    "\n",
    "        - Supports views, slicing, and broadcasting without copying data, saving memory."
   ]
  },
  {
   "cell_type": "markdown",
   "id": "0d564795",
   "metadata": {},
   "source": [
    "19. **How does Pandas simplify time series analysis?**\n",
    "\n",
    "    Pandas provides specialized data structures and functions that make working with time series data much easier and efficient. Its tools allow you to manipulate, analyze, and visualize temporal data without writing complex custom code.\n",
    "\n",
    "    1. Datetime Handling & Indexing\n",
    "\n",
    "        - Convert strings to datetime and use DatetimeIndex for easy slicing/filtering.\n",
    "    ```\n",
    "    df = pd.DataFrame({'Value':[10,20,30]}, index=pd.to_datetime(['2025-01-01','2025-01-02','2025-01-03']))\n",
    "    print(df['2025-01-02'])\n",
    "    ```\n",
    "\n",
    "    2. Resampling & Rolling Windows\n",
    "\n",
    "        - Aggregate data to different frequencies and compute moving averages.\n",
    "    ```\n",
    "    df.resample('M').mean()\n",
    "    df['Rolling'] = df['Value'].rolling(2).mean()\n",
    "    ```\n",
    "\n",
    "    3. Shifting & Lagging\n",
    "\n",
    "        - Create lag features for analysis or forecasting.\n",
    "    ```\n",
    "    df['Prev'] = df['Value'].shift(1)\n",
    "    ```\n",
    "\n",
    "    4. Easy Date Components Extraction\n",
    "\n",
    "        - Extract month, weekday, year, etc., for analysis.\n",
    "    ```\n",
    "    df['Month'] = df.index.month\n",
    "    ```"
   ]
  },
  {
   "cell_type": "markdown",
   "id": "b883297a",
   "metadata": {},
   "source": [
    "20. **What is the role of a pivot table in Pandas?**\n",
    "\n",
    "    A pivot table in Pandas is used to summarize, aggregate, and reorganize data in a DataFrame, similar to Excel pivot tables. It allows you to analyze data across multiple dimensions efficiently.\n",
    "\n",
    "    **key Roles of Pivot Tables**\n",
    "\n",
    "    1. Data Summarization\n",
    "\n",
    "        - Aggregate data using functions like sum, mean, count, etc.\n",
    "\n",
    "    2. Multi-Dimensional Analysis\n",
    "\n",
    "        - Organize data by rows and columns for better insight.\n",
    "\n",
    "    3. Quick Insights\n",
    "\n",
    "        - Makes it easy to compare metrics across categories.\n",
    "\n",
    "    ```\n",
    "    import pandas as pd\n",
    "\n",
    "    # Sample data\n",
    "    data = {\n",
    "        'Product': ['A','A','B','B','C'],\n",
    "        'Region': ['North','South','North','South','North'],\n",
    "        'Sales': [100, 150, 200, 130, 170]\n",
    "    }\n",
    "\n",
    "    df = pd.DataFrame(data)\n",
    "\n",
    "    # Create pivot table\n",
    "    pivot = df.pivot_table(values='Sales', index='Product', columns='Region', aggfunc='sum', fill_value=0)\n",
    "    print(pivot)\n",
    "    ```"
   ]
  },
  {
   "cell_type": "markdown",
   "id": "2141d532",
   "metadata": {},
   "source": [
    "21. **A Why is NumPy’s array slicing faster than Python’s list slicing?**\n",
    "\n",
    "    NumPy arrays are more efficient than Python lists due to their underlying memory structure and optimized operations.\n",
    "\n",
    "    **Key Reasons**\n",
    "\n",
    "    1. Contiguous Memory Storage\n",
    "\n",
    "        - NumPy arrays are stored in continuous blocks of memory, while Python lists store references to objects scattered in memory.\n",
    "\n",
    "        - This allows NumPy to access elements directly and quickly.\n",
    "\n",
    "    2. Homogeneous Data Type\n",
    "\n",
    "        - All elements in a NumPy array are of the same type, enabling vectorized operations and avoiding type checking during slicing.\n",
    "\n",
    "    3. View vs Copy\n",
    "\n",
    "        - Slicing a NumPy array often returns a view, not a copy, so no new memory allocation occurs.\n",
    "\n",
    "        - Python list slicing always creates a new list, which is slower for large datasets.\n",
    "\n",
    "    4. Optimized C-Level Implementation\n",
    "\n",
    "        - NumPy is written in C, so slicing operations are executed at low-level, compiled speed, unlike Python’s interpreted list operations.\n",
    "\n",
    "    ```\n",
    "    import numpy as np\n",
    "    import time\n",
    "\n",
    "    # NumPy array slicing\n",
    "    arr = np.arange(1000000)\n",
    "    start = time.time()\n",
    "    sliced_arr = arr[100:100000]\n",
    "    end = time.time()\n",
    "    print(\"NumPy slice time:\", end - start)\n",
    "\n",
    "    # Python list slicing\n",
    "    lst = list(range(1000000))\n",
    "    start = time.time()\n",
    "    sliced_lst = lst[100:100000]\n",
    "    end = time.time()\n",
    "    print(\"Python list slice time:\", end - start)\n",
    "    ```"
   ]
  },
  {
   "cell_type": "markdown",
   "id": "315c8e50",
   "metadata": {},
   "source": [
    "22. **What are some common use cases for Seaborn?**\n",
    "\n",
    "    Seaborn is a Python library built on Matplotlib that makes it easier to create statistical and attractive visualizations. It is particularly useful for exploratory data analysis (EDA).\n",
    "\n",
    "    **Common Use Cases**\n",
    "\n",
    "    1. Visualizing Distributions\n",
    "\n",
    "        - Plot single-variable distributions with histplot(), kdeplot(), or distplot().\n",
    "    ```\n",
    "    import seaborn as sns\n",
    "    sns.histplot(data=df, x='age', kde=True)\n",
    "    ```\n",
    "\n",
    "    2. Analyzing Relationships Between Variables\n",
    "\n",
    "        - Scatterplots, pairplots, and regression plots to see correlations.\n",
    "    ```\n",
    "    sns.scatterplot(data=df, x='height', y='weight', hue='gender')\n",
    "    sns.pairplot(df, hue='species')\n",
    "    ```\n",
    "\n",
    "    3. Categorical Data Visualization\n",
    "\n",
    "        - Boxplots, violin plots, barplots, and countplots for comparing categories.\n",
    "    ```\n",
    "    sns.boxplot(data=df, x='day', y='total_bill', hue='sex')\n",
    "    ```\n",
    "\n",
    "    4. Heatmaps for Correlations\n",
    "\n",
    "        - Display correlation matrices or tabular data visually.\n",
    "    ```\n",
    "    sns.heatmap(df.corr(), annot=True, cmap='coolwarm')\n",
    "    ```\n",
    "\n",
    "    5. Time Series & Trends\n",
    "\n",
    "        - Line plots with confidence intervals using lineplot().\n",
    "    ```\n",
    "    sns.lineplot(data=df, x='date', y='sales')\n",
    "    ```\n",
    "\n",
    "\n",
    "    6. Exploratory Data Analysis (EDA)\n",
    "\n",
    "        - Quickly identify patterns, trends, and outliers in datasets.\n",
    "\n",
    "    7. Statistical Visualizations\n",
    "\n",
    "        - Visualize distributions, regression fits, and categorical relationships for insights."
   ]
  },
  {
   "cell_type": "code",
   "execution_count": null,
   "id": "50251348",
   "metadata": {},
   "outputs": [],
   "source": []
  },
  {
   "cell_type": "markdown",
   "id": "49b8c4e2",
   "metadata": {},
   "source": [
    "## Practical"
   ]
  },
  {
   "cell_type": "code",
   "execution_count": 3,
   "id": "d29c6dea",
   "metadata": {},
   "outputs": [
    {
     "name": "stdout",
     "output_type": "stream",
     "text": [
      "2D NumPy Array:\n",
      " [[1 2 3]\n",
      " [4 5 6]\n",
      " [7 8 9]]\n",
      "Sum of each row: [ 6 15 24]\n"
     ]
    }
   ],
   "source": [
    "#1. How do you create a 2D NumPy array and calculate the sum of each row?\n",
    "\n",
    "import numpy as np\n",
    "\n",
    "# Create a 2D NumPy array\n",
    "arr = np.array([[1, 2, 3],\n",
    "                [4, 5, 6],\n",
    "                [7, 8, 9]])\n",
    "\n",
    "# Calculate the sum of each row\n",
    "row_sums = arr.sum(axis=1)\n",
    "\n",
    "print(\"2D NumPy Array:\\n\", arr)\n",
    "print(\"Sum of each row:\",row_sums)\n"
   ]
  },
  {
   "cell_type": "code",
   "execution_count": 4,
   "id": "492eef1f",
   "metadata": {},
   "outputs": [
    {
     "name": "stdout",
     "output_type": "stream",
     "text": [
      "Mean Salary: 65000.0\n"
     ]
    }
   ],
   "source": [
    "# 2. Write a Pandas script to find the mean of a specific column in a DataFrame\n",
    "\n",
    "import pandas as pd\n",
    "\n",
    "# Create a sample DataFrame\n",
    "data = {\n",
    "    'Name': ['Alice', 'Bob', 'Charlie', 'David'],\n",
    "    'Age': [25, 30, 35, 40],\n",
    "    'Salary': [50000, 60000, 70000, 80000]\n",
    "}\n",
    "\n",
    "df = pd.DataFrame(data)\n",
    "\n",
    "# Calculate the mean of the 'Salary' column\n",
    "mean_salary = df['Salary'].mean()\n",
    "\n",
    "print(\"Mean Salary:\", mean_salary)\n"
   ]
  },
  {
   "cell_type": "code",
   "execution_count": 5,
   "id": "973017d9",
   "metadata": {},
   "outputs": [
    {
     "data": {
      "image/png": "[encoded data removed]",
      "text/plain": [
       "<Figure size 640x480 with 1 Axes>"
      ]
     },
     "metadata": {},
     "output_type": "display_data"
    }
   ],
   "source": [
    "# 3. Create a scatter plot using Matplotlib.\n",
    "\n",
    "import matplotlib.pyplot as plt\n",
    "\n",
    "# Sample data\n",
    "x = [1, 2, 3, 4, 5]\n",
    "y = [10, 20, 25, 30, 40]\n",
    "\n",
    "# Create scatter plot\n",
    "plt.scatter(x, y, color='red', marker='o')\n",
    "\n",
    "# Add title and labels\n",
    "plt.title(\"Example Scatter Plot\")\n",
    "plt.xlabel(\"X-axis\")\n",
    "plt.ylabel(\"Y-axis\")\n",
    "\n",
    "# Show plot\n",
    "plt.show()\n"
   ]
  },
  {
   "cell_type": "code",
   "execution_count": 6,
   "id": "284959f7",
   "metadata": {},
   "outputs": [
    {
     "data": {
      "image/png": "[encoded data removed]",
      "text/plain": [
       "<Figure size 640x480 with 2 Axes>"
      ]
     },
     "metadata": {},
     "output_type": "display_data"
    }
   ],
   "source": [
    "# 4.  How do you calculate the correlation matrix using Seaborn and visualize it with a heatmap?\n",
    "\n",
    "import pandas as pd\n",
    "import seaborn as sns\n",
    "import matplotlib.pyplot as plt\n",
    "\n",
    "# Sample DataFrame\n",
    "data = {\n",
    "    'A': [1, 2, 3, 4, 5],\n",
    "    'B': [5, 4, 3, 2, 1],\n",
    "    'C': [2, 3, 4, 5, 6]\n",
    "}\n",
    "df = pd.DataFrame(data)\n",
    "\n",
    "# Calculate correlation matrix\n",
    "corr_matrix = df.corr()\n",
    "\n",
    "# Visualize with a heatmap\n",
    "sns.heatmap(corr_matrix, annot=True, cmap='coolwarm', linewidths=0.5)\n",
    "plt.title(\"Correlation Heatmap\")\n",
    "plt.show()\n"
   ]
  },
  {
   "cell_type": "code",
   "execution_count": 1,
   "id": "49b31821",
   "metadata": {},
   "outputs": [
    {
     "data": {
      "application/vnd.plotly.v1+json": {
       "config": {
        "plotlyServerURL": "https://plot.ly"
       },
       "data": [
        {
         "marker": {
          "color": "teal"
         },
         "type": "bar",
         "x": [
          "Apples",
          "Bananas",
          "Cherries",
          "Dates"
         ],
         "y": [
          10,
          15,
          7,
          12
         ]
        }
       ],
       "layout": {
        "template": {
         "data": {
          "bar": [
           {
            "error_x": {
             "color": "#2a3f5f"
            },
            "error_y": {
             "color": "#2a3f5f"
            },
            "marker": {
             "line": {
              "color": "#E5ECF6",
              "width": 0.5
             },
             "pattern": {
              "fillmode": "overlay",
              "size": 10,
              "solidity": 0.2
             }
            },
            "type": "bar"
           }
          ],
          "barpolar": [
           {
            "marker": {
             "line": {
              "color": "#E5ECF6",
              "width": 0.5
             },
             "pattern": {
              "fillmode": "overlay",
              "size": 10,
              "solidity": 0.2
             }
            },
            "type": "barpolar"
           }
          ],
          "carpet": [
           {
            "aaxis": {
             "endlinecolor": "#2a3f5f",
             "gridcolor": "white",
             "linecolor": "white",
             "minorgridcolor": "white",
             "startlinecolor": "#2a3f5f"
            },
            "baxis": {
             "endlinecolor": "#2a3f5f",
             "gridcolor": "white",
             "linecolor": "white",
             "minorgridcolor": "white",
             "startlinecolor": "#2a3f5f"
            },
            "type": "carpet"
           }
          ],
          "choropleth": [
           {
            "colorbar": {
             "outlinewidth": 0,
             "ticks": ""
            },
            "type": "choropleth"
           }
          ],
          "contour": [
           {
            "colorbar": {
             "outlinewidth": 0,
             "ticks": ""
            },
            "colorscale": [
             [
              0,
              "#0d0887"
             ],
             [
              0.1111111111111111,
              "#46039f"
             ],
             [
              0.2222222222222222,
              "#7201a8"
             ],
             [
              0.3333333333333333,
              "#9c179e"
             ],
             [
              0.4444444444444444,
              "#bd3786"
             ],
             [
              0.5555555555555556,
              "#d8576b"
             ],
             [
              0.6666666666666666,
              "#ed7953"
             ],
             [
              0.7777777777777778,
              "#fb9f3a"
             ],
             [
              0.8888888888888888,
              "#fdca26"
             ],
             [
              1,
              "#f0f921"
             ]
            ],
            "type": "contour"
           }
          ],
          "contourcarpet": [
           {
            "colorbar": {
             "outlinewidth": 0,
             "ticks": ""
            },
            "type": "contourcarpet"
           }
          ],
          "heatmap": [
           {
            "colorbar": {
             "outlinewidth": 0,
             "ticks": ""
            },
            "colorscale": [
             [
              0,
              "#0d0887"
             ],
             [
              0.1111111111111111,
              "#46039f"
             ],
             [
              0.2222222222222222,
              "#7201a8"
             ],
             [
              0.3333333333333333,
              "#9c179e"
             ],
             [
              0.4444444444444444,
              "#bd3786"
             ],
             [
              0.5555555555555556,
              "#d8576b"
             ],
             [
              0.6666666666666666,
              "#ed7953"
             ],
             [
              0.7777777777777778,
              "#fb9f3a"
             ],
             [
              0.8888888888888888,
              "#fdca26"
             ],
             [
              1,
              "#f0f921"
             ]
            ],
            "type": "heatmap"
           }
          ],
          "histogram": [
           {
            "marker": {
             "pattern": {
              "fillmode": "overlay",
              "size": 10,
              "solidity": 0.2
             }
            },
            "type": "histogram"
           }
          ],
          "histogram2d": [
           {
            "colorbar": {
             "outlinewidth": 0,
             "ticks": ""
            },
            "colorscale": [
             [
              0,
              "#0d0887"
             ],
             [
              0.1111111111111111,
              "#46039f"
             ],
             [
              0.2222222222222222,
              "#7201a8"
             ],
             [
              0.3333333333333333,
              "#9c179e"
             ],
             [
              0.4444444444444444,
              "#bd3786"
             ],
             [
              0.5555555555555556,
              "#d8576b"
             ],
             [
              0.6666666666666666,
              "#ed7953"
             ],
             [
              0.7777777777777778,
              "#fb9f3a"
             ],
             [
              0.8888888888888888,
              "#fdca26"
             ],
             [
              1,
              "#f0f921"
             ]
            ],
            "type": "histogram2d"
           }
          ],
          "histogram2dcontour": [
           {
            "colorbar": {
             "outlinewidth": 0,
             "ticks": ""
            },
            "colorscale": [
             [
              0,
              "#0d0887"
             ],
             [
              0.1111111111111111,
              "#46039f"
             ],
             [
              0.2222222222222222,
              "#7201a8"
             ],
             [
              0.3333333333333333,
              "#9c179e"
             ],
             [
              0.4444444444444444,
              "#bd3786"
             ],
             [
              0.5555555555555556,
              "#d8576b"
             ],
             [
              0.6666666666666666,
              "#ed7953"
             ],
             [
              0.7777777777777778,
              "#fb9f3a"
             ],
             [
              0.8888888888888888,
              "#fdca26"
             ],
             [
              1,
              "#f0f921"
             ]
            ],
            "type": "histogram2dcontour"
           }
          ],
          "mesh3d": [
           {
            "colorbar": {
             "outlinewidth": 0,
             "ticks": ""
            },
            "type": "mesh3d"
           }
          ],
          "parcoords": [
           {
            "line": {
             "colorbar": {
              "outlinewidth": 0,
              "ticks": ""
             }
            },
            "type": "parcoords"
           }
          ],
          "pie": [
           {
            "automargin": true,
            "type": "pie"
           }
          ],
          "scatter": [
           {
            "fillpattern": {
             "fillmode": "overlay",
             "size": 10,
             "solidity": 0.2
            },
            "type": "scatter"
           }
          ],
          "scatter3d": [
           {
            "line": {
             "colorbar": {
              "outlinewidth": 0,
              "ticks": ""
             }
            },
            "marker": {
             "colorbar": {
              "outlinewidth": 0,
              "ticks": ""
             }
            },
            "type": "scatter3d"
           }
          ],
          "scattercarpet": [
           {
            "marker": {
             "colorbar": {
              "outlinewidth": 0,
              "ticks": ""
             }
            },
            "type": "scattercarpet"
           }
          ],
          "scattergeo": [
           {
            "marker": {
             "colorbar": {
              "outlinewidth": 0,
              "ticks": ""
             }
            },
            "type": "scattergeo"
           }
          ],
          "scattergl": [
           {
            "marker": {
             "colorbar": {
              "outlinewidth": 0,
              "ticks": ""
             }
            },
            "type": "scattergl"
           }
          ],
          "scattermap": [
           {
            "marker": {
             "colorbar": {
              "outlinewidth": 0,
              "ticks": ""
             }
            },
            "type": "scattermap"
           }
          ],
          "scattermapbox": [
           {
            "marker": {
             "colorbar": {
              "outlinewidth": 0,
              "ticks": ""
             }
            },
            "type": "scattermapbox"
           }
          ],
          "scatterpolar": [
           {
            "marker": {
             "colorbar": {
              "outlinewidth": 0,
              "ticks": ""
             }
            },
            "type": "scatterpolar"
           }
          ],
          "scatterpolargl": [
           {
            "marker": {
             "colorbar": {
              "outlinewidth": 0,
              "ticks": ""
             }
            },
            "type": "scatterpolargl"
           }
          ],
          "scatterternary": [
           {
            "marker": {
             "colorbar": {
              "outlinewidth": 0,
              "ticks": ""
             }
            },
            "type": "scatterternary"
           }
          ],
          "surface": [
           {
            "colorbar": {
             "outlinewidth": 0,
             "ticks": ""
            },
            "colorscale": [
             [
              0,
              "#0d0887"
             ],
             [
              0.1111111111111111,
              "#46039f"
             ],
             [
              0.2222222222222222,
              "#7201a8"
             ],
             [
              0.3333333333333333,
              "#9c179e"
             ],
             [
              0.4444444444444444,
              "#bd3786"
             ],
             [
              0.5555555555555556,
              "#d8576b"
             ],
             [
              0.6666666666666666,
              "#ed7953"
             ],
             [
              0.7777777777777778,
              "#fb9f3a"
             ],
             [
              0.8888888888888888,
              "#fdca26"
             ],
             [
              1,
              "#f0f921"
             ]
            ],
            "type": "surface"
           }
          ],
          "table": [
           {
            "cells": {
             "fill": {
              "color": "#EBF0F8"
             },
             "line": {
              "color": "white"
             }
            },
            "header": {
             "fill": {
              "color": "#C8D4E3"
             },
             "line": {
              "color": "white"
             }
            },
            "type": "table"
           }
          ]
         },
         "layout": {
          "annotationdefaults": {
           "arrowcolor": "#2a3f5f",
           "arrowhead": 0,
           "arrowwidth": 1
          },
          "autotypenumbers": "strict",
          "coloraxis": {
           "colorbar": {
            "outlinewidth": 0,
            "ticks": ""
           }
          },
          "colorscale": {
           "diverging": [
            [
             0,
             "#8e0152"
            ],
            [
             0.1,
             "#c51b7d"
            ],
            [
             0.2,
             "#de77ae"
            ],
            [
             0.3,
             "#f1b6da"
            ],
            [
             0.4,
             "#fde0ef"
            ],
            [
             0.5,
             "#f7f7f7"
            ],
            [
             0.6,
             "#e6f5d0"
            ],
            [
             0.7,
             "#b8e186"
            ],
            [
             0.8,
             "#7fbc41"
            ],
            [
             0.9,
             "#4d9221"
            ],
            [
             1,
             "#276419"
            ]
           ],
           "sequential": [
            [
             0,
             "#0d0887"
            ],
            [
             0.1111111111111111,
             "#46039f"
            ],
            [
             0.2222222222222222,
             "#7201a8"
            ],
            [
             0.3333333333333333,
             "#9c179e"
            ],
            [
             0.4444444444444444,
             "#bd3786"
            ],
            [
             0.5555555555555556,
             "#d8576b"
            ],
            [
             0.6666666666666666,
             "#ed7953"
            ],
            [
             0.7777777777777778,
             "#fb9f3a"
            ],
            [
             0.8888888888888888,
             "#fdca26"
            ],
            [
             1,
             "#f0f921"
            ]
           ],
           "sequentialminus": [
            [
             0,
             "#0d0887"
            ],
            [
             0.1111111111111111,
             "#46039f"
            ],
            [
             0.2222222222222222,
             "#7201a8"
            ],
            [
             0.3333333333333333,
             "#9c179e"
            ],
            [
             0.4444444444444444,
             "#bd3786"
            ],
            [
             0.5555555555555556,
             "#d8576b"
            ],
            [
             0.6666666666666666,
             "#ed7953"
            ],
            [
             0.7777777777777778,
             "#fb9f3a"
            ],
            [
             0.8888888888888888,
             "#fdca26"
            ],
            [
             1,
             "#f0f921"
            ]
           ]
          },
          "colorway": [
           "#636efa",
           "#EF553B",
           "#00cc96",
           "#ab63fa",
           "#FFA15A",
           "#19d3f3",
           "#FF6692",
           "#B6E880",
           "#FF97FF",
           "#FECB52"
          ],
          "font": {
           "color": "#2a3f5f"
          },
          "geo": {
           "bgcolor": "white",
           "lakecolor": "white",
           "landcolor": "#E5ECF6",
           "showlakes": true,
           "showland": true,
           "subunitcolor": "white"
          },
          "hoverlabel": {
           "align": "left"
          },
          "hovermode": "closest",
          "mapbox": {
           "style": "light"
          },
          "paper_bgcolor": "white",
          "plot_bgcolor": "#E5ECF6",
          "polar": {
           "angularaxis": {
            "gridcolor": "white",
            "linecolor": "white",
            "ticks": ""
           },
           "bgcolor": "#E5ECF6",
           "radialaxis": {
            "gridcolor": "white",
            "linecolor": "white",
            "ticks": ""
           }
          },
          "scene": {
           "xaxis": {
            "backgroundcolor": "#E5ECF6",
            "gridcolor": "white",
            "gridwidth": 2,
            "linecolor": "white",
            "showbackground": true,
            "ticks": "",
            "zerolinecolor": "white"
           },
           "yaxis": {
            "backgroundcolor": "#E5ECF6",
            "gridcolor": "white",
            "gridwidth": 2,
            "linecolor": "white",
            "showbackground": true,
            "ticks": "",
            "zerolinecolor": "white"
           },
           "zaxis": {
            "backgroundcolor": "#E5ECF6",
            "gridcolor": "white",
            "gridwidth": 2,
            "linecolor": "white",
            "showbackground": true,
            "ticks": "",
            "zerolinecolor": "white"
           }
          },
          "shapedefaults": {
           "line": {
            "color": "#2a3f5f"
           }
          },
          "ternary": {
           "aaxis": {
            "gridcolor": "white",
            "linecolor": "white",
            "ticks": ""
           },
           "baxis": {
            "gridcolor": "white",
            "linecolor": "white",
            "ticks": ""
           },
           "bgcolor": "#E5ECF6",
           "caxis": {
            "gridcolor": "white",
            "linecolor": "white",
            "ticks": ""
           }
          },
          "title": {
           "x": 0.05
          },
          "xaxis": {
           "automargin": true,
           "gridcolor": "white",
           "linecolor": "white",
           "ticks": "",
           "title": {
            "standoff": 15
           },
           "zerolinecolor": "white",
           "zerolinewidth": 2
          },
          "yaxis": {
           "automargin": true,
           "gridcolor": "white",
           "linecolor": "white",
           "ticks": "",
           "title": {
            "standoff": 15
           },
           "zerolinecolor": "white",
           "zerolinewidth": 2
          }
         }
        },
        "title": {
         "text": "Fruit Count Bar Plot"
        },
        "xaxis": {
         "title": {
          "text": "Fruits"
         }
        },
        "yaxis": {
         "title": {
          "text": "Count"
         }
        }
       }
      }
     },
     "metadata": {},
     "output_type": "display_data"
    }
   ],
   "source": [
    "# 5. Generate a bar plot using Plotly.\n",
    "\n",
    "import plotly.graph_objects as go\n",
    "\n",
    "# Sample data\n",
    "categories = ['Apples', 'Bananas', 'Cherries', 'Dates']\n",
    "values = [10, 15, 7, 12]\n",
    "\n",
    "# Create bar plot\n",
    "fig = go.Figure(data=[go.Bar(x=categories, y=values, marker_color='teal')])\n",
    "\n",
    "# Add title and labels\n",
    "fig.update_layout(\n",
    "    title=\"Fruit Count Bar Plot\",\n",
    "    xaxis_title=\"Fruits\",\n",
    "    yaxis_title=\"Count\"\n",
    ")\n",
    "\n",
    "# Show plot\n",
    "fig.show() \n"
   ]
  },
  {
   "cell_type": "code",
   "execution_count": 3,
   "id": "43a99221",
   "metadata": {},
   "outputs": [
    {
     "name": "stdout",
     "output_type": "stream",
     "text": [
      "      Name  Age  Age_in_10_years\n",
      "0    Alice   25               35\n",
      "1      Bob   30               40\n",
      "2  Charlie   35               45\n",
      "3    David   40               50\n"
     ]
    }
   ],
   "source": [
    "# 6. Create a DataFrame and add a new column based on an existing column.\n",
    "import pandas as pd\n",
    "\n",
    "# Create a sample DataFrame\n",
    "data = {\n",
    "    'Name': ['Alice', 'Bob', 'Charlie', 'David'],\n",
    "    'Age': [25, 30, 35, 40]\n",
    "}\n",
    "\n",
    "df = pd.DataFrame(data)\n",
    "\n",
    "# Add a new column 'Age_in_10_years' based on existing 'Age' column\n",
    "df['Age_in_10_years'] = df['Age'] + 10\n",
    "\n",
    "print(df)\n"
   ]
  },
  {
   "cell_type": "code",
   "execution_count": 4,
   "id": "237bb5cc",
   "metadata": {},
   "outputs": [
    {
     "name": "stdout",
     "output_type": "stream",
     "text": [
      "Array 1: [1 2 3 4]\n",
      "Array 2: [5 6 7 8]\n",
      "Element-wise Multiplication: [ 5 12 21 32]\n"
     ]
    }
   ],
   "source": [
    "# 7. Write a program to perform element-wise multiplication of two NumPy arrays.\n",
    "import numpy as np\n",
    "\n",
    "# Create two NumPy arrays\n",
    "arr1 = np.array([1, 2, 3, 4])\n",
    "arr2 = np.array([5, 6, 7, 8])\n",
    "\n",
    "# Element-wise multiplication\n",
    "result = arr1 * arr2\n",
    "\n",
    "print(\"Array 1:\", arr1)\n",
    "print(\"Array 2:\", arr2)\n",
    "print(\"Element-wise Multiplication:\", result)\n"
   ]
  },
  {
   "cell_type": "code",
   "execution_count": 5,
   "id": "54fd9b33",
   "metadata": {},
   "outputs": [
    {
     "data": {
      "image/png": "[encoded data removed]",
      "text/plain": [
       "<Figure size 640x480 with 1 Axes>"
      ]
     },
     "metadata": {},
     "output_type": "display_data"
    }
   ],
   "source": [
    "# 8. Create a line plot with multiple lines using Matplotlib.\n",
    "import matplotlib.pyplot as plt\n",
    "\n",
    "# Sample data\n",
    "x = [1, 2, 3, 4, 5]\n",
    "y1 = [2, 4, 6, 8, 10]\n",
    "y2 = [1, 3, 5, 7, 9]\n",
    "y3 = [5, 3, 4, 2, 1]\n",
    "\n",
    "# Create line plot\n",
    "plt.plot(x, y1, label='Line 1', color='red', marker='o')\n",
    "plt.plot(x, y2, label='Line 2', color='blue', marker='s')\n",
    "plt.plot(x, y3, label='Line 3', color='green', marker='^')\n",
    "\n",
    "# Add title and labels\n",
    "plt.title(\"Multiple Line Plot\")\n",
    "plt.xlabel(\"X-axis\")\n",
    "plt.ylabel(\"Y-axis\")\n",
    "\n",
    "# Show legend\n",
    "plt.legend()\n",
    "\n",
    "# Show plot\n",
    "plt.show()\n"
   ]
  },
  {
   "cell_type": "code",
   "execution_count": 6,
   "id": "de96636a",
   "metadata": {},
   "outputs": [
    {
     "name": "stdout",
     "output_type": "stream",
     "text": [
      "      Name  Age  Salary\n",
      "2  Charlie   35   70000\n",
      "3    David   40   80000\n"
     ]
    }
   ],
   "source": [
    "# 9. Generate a Pandas DataFrame and filter rows where a column value is greater than a threshold.\n",
    "\n",
    "import pandas as pd\n",
    "\n",
    "# Create a sample DataFrame\n",
    "data = {\n",
    "    'Name': ['Alice', 'Bob', 'Charlie', 'David'],\n",
    "    'Age': [25, 30, 35, 40],\n",
    "    'Salary': [50000, 60000, 70000, 80000]\n",
    "}\n",
    "\n",
    "df = pd.DataFrame(data)\n",
    "\n",
    "# Set threshold\n",
    "threshold = 60000\n",
    "\n",
    "# Filter rows where 'Salary' is greater than threshold\n",
    "filtered_df = df[df['Salary'] > threshold]\n",
    "\n",
    "print(filtered_df)\n"
   ]
  },
  {
   "cell_type": "code",
   "execution_count": 7,
   "id": "d0dd2df1",
   "metadata": {},
   "outputs": [
    {
     "data": {
      "image/png": "[encoded data removed]",
      "text/plain": [
       "<Figure size 640x480 with 1 Axes>"
      ]
     },
     "metadata": {},
     "output_type": "display_data"
    }
   ],
   "source": [
    "# 10 Create a histogram using Seaborn to visualize a distribution.\n",
    "\n",
    "import seaborn as sns\n",
    "import matplotlib.pyplot as plt\n",
    "\n",
    "# Sample data\n",
    "data = [12, 15, 13, 18, 20, 21, 19, 15, 17, 16, 14, 18, 19, 20]\n",
    "\n",
    "# Create histogram\n",
    "sns.histplot(data, bins=5, kde=True, color='skyblue')\n",
    "\n",
    "# Add title and labels\n",
    "plt.title(\"Histogram of Sample Data\")\n",
    "plt.xlabel(\"Value\")\n",
    "plt.ylabel(\"Frequency\")\n",
    "\n",
    "# Show plot\n",
    "plt.show()\n"
   ]
  },
  {
   "cell_type": "code",
   "execution_count": 8,
   "id": "d572766e",
   "metadata": {},
   "outputs": [
    {
     "name": "stdout",
     "output_type": "stream",
     "text": [
      "Matrix A:\n",
      " [[1 2]\n",
      " [3 4]]\n",
      "Matrix B:\n",
      " [[5 6]\n",
      " [7 8]]\n",
      "Matrix Multiplication Result:\n",
      " [[19 22]\n",
      " [43 50]]\n"
     ]
    }
   ],
   "source": [
    "# 11. Perform matrix multiplication using NumPy.\n",
    "\n",
    "import numpy as np\n",
    "\n",
    "# Define two matrices\n",
    "A = np.array([[1, 2],\n",
    "              [3, 4]])\n",
    "\n",
    "B = np.array([[5, 6],\n",
    "              [7, 8]])\n",
    "\n",
    "# Perform matrix multiplication\n",
    "result = np.dot(A, B)   # or A @ B\n",
    "\n",
    "print(\"Matrix A:\\n\", A)\n",
    "print(\"Matrix B:\\n\", B)\n",
    "print(\"Matrix Multiplication Result:\\n\", result)\n"
   ]
  },
  {
   "cell_type": "code",
   "execution_count": 10,
   "id": "9f8e0b60",
   "metadata": {},
   "outputs": [
    {
     "name": "stdout",
     "output_type": "stream",
     "text": [
      "   movieId    released      title  \\\n",
      "0        1  1995-11-22  Toy Story   \n",
      "1        2  1995-12-15    Jumanji   \n",
      "\n",
      "                                              actors       director  \\\n",
      "0         Jim Varney|Tim Allen|Tom Hanks|Don Rickles  John Lasseter   \n",
      "1  Robin Williams|Bradley Pierce|Kirsten Dunst|Jo...   Joe Johnston   \n",
      "\n",
      "                                        genres  imdbRating  \n",
      "0  Adventure|Animation|Children|Comedy|Fantasy         8.3  \n",
      "1                   Adventure|Children|Fantasy         6.9  \n"
     ]
    }
   ],
   "source": [
    "# 12. Use Pandas to load a CSV file and display its first 5 rows.\n",
    "import pandas as pd\n",
    "\n",
    "# Load CSV file\n",
    "df = pd.read_csv('movies_small.csv') \n",
    "\n",
    "print(df.head(2))\n"
   ]
  },
  {
   "cell_type": "code",
   "execution_count": 11,
   "id": "d661dd04",
   "metadata": {},
   "outputs": [
    {
     "data": {
      "application/vnd.plotly.v1+json": {
       "config": {
        "plotlyServerURL": "https://plot.ly"
       },
       "data": [
        {
         "marker": {
          "color": [
           5,
           6,
           7,
           8,
           9
          ],
          "colorscale": [
           [
            0,
            "#440154"
           ],
           [
            0.1111111111111111,
            "#482878"
           ],
           [
            0.2222222222222222,
            "#3e4989"
           ],
           [
            0.3333333333333333,
            "#31688e"
           ],
           [
            0.4444444444444444,
            "#26828e"
           ],
           [
            0.5555555555555556,
            "#1f9e89"
           ],
           [
            0.6666666666666666,
            "#35b779"
           ],
           [
            0.7777777777777778,
            "#6ece58"
           ],
           [
            0.8888888888888888,
            "#b5de2b"
           ],
           [
            1,
            "#fde725"
           ]
          ],
          "opacity": 0.8,
          "size": 8
         },
         "mode": "markers",
         "type": "scatter3d",
         "x": [
          1,
          2,
          3,
          4,
          5
         ],
         "y": [
          10,
          11,
          12,
          13,
          14
         ],
         "z": [
          5,
          6,
          7,
          8,
          9
         ]
        }
       ],
       "layout": {
        "scene": {
         "xaxis": {
          "title": {
           "text": "X Axis"
          }
         },
         "yaxis": {
          "title": {
           "text": "Y Axis"
          }
         },
         "zaxis": {
          "title": {
           "text": "Z Axis"
          }
         }
        },
        "template": {
         "data": {
          "bar": [
           {
            "error_x": {
             "color": "#2a3f5f"
            },
            "error_y": {
             "color": "#2a3f5f"
            },
            "marker": {
             "line": {
              "color": "#E5ECF6",
              "width": 0.5
             },
             "pattern": {
              "fillmode": "overlay",
              "size": 10,
              "solidity": 0.2
             }
            },
            "type": "bar"
           }
          ],
          "barpolar": [
           {
            "marker": {
             "line": {
              "color": "#E5ECF6",
              "width": 0.5
             },
             "pattern": {
              "fillmode": "overlay",
              "size": 10,
              "solidity": 0.2
             }
            },
            "type": "barpolar"
           }
          ],
          "carpet": [
           {
            "aaxis": {
             "endlinecolor": "#2a3f5f",
             "gridcolor": "white",
             "linecolor": "white",
             "minorgridcolor": "white",
             "startlinecolor": "#2a3f5f"
            },
            "baxis": {
             "endlinecolor": "#2a3f5f",
             "gridcolor": "white",
             "linecolor": "white",
             "minorgridcolor": "white",
             "startlinecolor": "#2a3f5f"
            },
            "type": "carpet"
           }
          ],
          "choropleth": [
           {
            "colorbar": {
             "outlinewidth": 0,
             "ticks": ""
            },
            "type": "choropleth"
           }
          ],
          "contour": [
           {
            "colorbar": {
             "outlinewidth": 0,
             "ticks": ""
            },
            "colorscale": [
             [
              0,
              "#0d0887"
             ],
             [
              0.1111111111111111,
              "#46039f"
             ],
             [
              0.2222222222222222,
              "#7201a8"
             ],
             [
              0.3333333333333333,
              "#9c179e"
             ],
             [
              0.4444444444444444,
              "#bd3786"
             ],
             [
              0.5555555555555556,
              "#d8576b"
             ],
             [
              0.6666666666666666,
              "#ed7953"
             ],
             [
              0.7777777777777778,
              "#fb9f3a"
             ],
             [
              0.8888888888888888,
              "#fdca26"
             ],
             [
              1,
              "#f0f921"
             ]
            ],
            "type": "contour"
           }
          ],
          "contourcarpet": [
           {
            "colorbar": {
             "outlinewidth": 0,
             "ticks": ""
            },
            "type": "contourcarpet"
           }
          ],
          "heatmap": [
           {
            "colorbar": {
             "outlinewidth": 0,
             "ticks": ""
            },
            "colorscale": [
             [
              0,
              "#0d0887"
             ],
             [
              0.1111111111111111,
              "#46039f"
             ],
             [
              0.2222222222222222,
              "#7201a8"
             ],
             [
              0.3333333333333333,
              "#9c179e"
             ],
             [
              0.4444444444444444,
              "#bd3786"
             ],
             [
              0.5555555555555556,
              "#d8576b"
             ],
             [
              0.6666666666666666,
              "#ed7953"
             ],
             [
              0.7777777777777778,
              "#fb9f3a"
             ],
             [
              0.8888888888888888,
              "#fdca26"
             ],
             [
              1,
              "#f0f921"
             ]
            ],
            "type": "heatmap"
           }
          ],
          "histogram": [
           {
            "marker": {
             "pattern": {
              "fillmode": "overlay",
              "size": 10,
              "solidity": 0.2
             }
            },
            "type": "histogram"
           }
          ],
          "histogram2d": [
           {
            "colorbar": {
             "outlinewidth": 0,
             "ticks": ""
            },
            "colorscale": [
             [
              0,
              "#0d0887"
             ],
             [
              0.1111111111111111,
              "#46039f"
             ],
             [
              0.2222222222222222,
              "#7201a8"
             ],
             [
              0.3333333333333333,
              "#9c179e"
             ],
             [
              0.4444444444444444,
              "#bd3786"
             ],
             [
              0.5555555555555556,
              "#d8576b"
             ],
             [
              0.6666666666666666,
              "#ed7953"
             ],
             [
              0.7777777777777778,
              "#fb9f3a"
             ],
             [
              0.8888888888888888,
              "#fdca26"
             ],
             [
              1,
              "#f0f921"
             ]
            ],
            "type": "histogram2d"
           }
          ],
          "histogram2dcontour": [
           {
            "colorbar": {
             "outlinewidth": 0,
             "ticks": ""
            },
            "colorscale": [
             [
              0,
              "#0d0887"
             ],
             [
              0.1111111111111111,
              "#46039f"
             ],
             [
              0.2222222222222222,
              "#7201a8"
             ],
             [
              0.3333333333333333,
              "#9c179e"
             ],
             [
              0.4444444444444444,
              "#bd3786"
             ],
             [
              0.5555555555555556,
              "#d8576b"
             ],
             [
              0.6666666666666666,
              "#ed7953"
             ],
             [
              0.7777777777777778,
              "#fb9f3a"
             ],
             [
              0.8888888888888888,
              "#fdca26"
             ],
             [
              1,
              "#f0f921"
             ]
            ],
            "type": "histogram2dcontour"
           }
          ],
          "mesh3d": [
           {
            "colorbar": {
             "outlinewidth": 0,
             "ticks": ""
            },
            "type": "mesh3d"
           }
          ],
          "parcoords": [
           {
            "line": {
             "colorbar": {
              "outlinewidth": 0,
              "ticks": ""
             }
            },
            "type": "parcoords"
           }
          ],
          "pie": [
           {
            "automargin": true,
            "type": "pie"
           }
          ],
          "scatter": [
           {
            "fillpattern": {
             "fillmode": "overlay",
             "size": 10,
             "solidity": 0.2
            },
            "type": "scatter"
           }
          ],
          "scatter3d": [
           {
            "line": {
             "colorbar": {
              "outlinewidth": 0,
              "ticks": ""
             }
            },
            "marker": {
             "colorbar": {
              "outlinewidth": 0,
              "ticks": ""
             }
            },
            "type": "scatter3d"
           }
          ],
          "scattercarpet": [
           {
            "marker": {
             "colorbar": {
              "outlinewidth": 0,
              "ticks": ""
             }
            },
            "type": "scattercarpet"
           }
          ],
          "scattergeo": [
           {
            "marker": {
             "colorbar": {
              "outlinewidth": 0,
              "ticks": ""
             }
            },
            "type": "scattergeo"
           }
          ],
          "scattergl": [
           {
            "marker": {
             "colorbar": {
              "outlinewidth": 0,
              "ticks": ""
             }
            },
            "type": "scattergl"
           }
          ],
          "scattermap": [
           {
            "marker": {
             "colorbar": {
              "outlinewidth": 0,
              "ticks": ""
             }
            },
            "type": "scattermap"
           }
          ],
          "scattermapbox": [
           {
            "marker": {
             "colorbar": {
              "outlinewidth": 0,
              "ticks": ""
             }
            },
            "type": "scattermapbox"
           }
          ],
          "scatterpolar": [
           {
            "marker": {
             "colorbar": {
              "outlinewidth": 0,
              "ticks": ""
             }
            },
            "type": "scatterpolar"
           }
          ],
          "scatterpolargl": [
           {
            "marker": {
             "colorbar": {
              "outlinewidth": 0,
              "ticks": ""
             }
            },
            "type": "scatterpolargl"
           }
          ],
          "scatterternary": [
           {
            "marker": {
             "colorbar": {
              "outlinewidth": 0,
              "ticks": ""
             }
            },
            "type": "scatterternary"
           }
          ],
          "surface": [
           {
            "colorbar": {
             "outlinewidth": 0,
             "ticks": ""
            },
            "colorscale": [
             [
              0,
              "#0d0887"
             ],
             [
              0.1111111111111111,
              "#46039f"
             ],
             [
              0.2222222222222222,
              "#7201a8"
             ],
             [
              0.3333333333333333,
              "#9c179e"
             ],
             [
              0.4444444444444444,
              "#bd3786"
             ],
             [
              0.5555555555555556,
              "#d8576b"
             ],
             [
              0.6666666666666666,
              "#ed7953"
             ],
             [
              0.7777777777777778,
              "#fb9f3a"
             ],
             [
              0.8888888888888888,
              "#fdca26"
             ],
             [
              1,
              "#f0f921"
             ]
            ],
            "type": "surface"
           }
          ],
          "table": [
           {
            "cells": {
             "fill": {
              "color": "#EBF0F8"
             },
             "line": {
              "color": "white"
             }
            },
            "header": {
             "fill": {
              "color": "#C8D4E3"
             },
             "line": {
              "color": "white"
             }
            },
            "type": "table"
           }
          ]
         },
         "layout": {
          "annotationdefaults": {
           "arrowcolor": "#2a3f5f",
           "arrowhead": 0,
           "arrowwidth": 1
          },
          "autotypenumbers": "strict",
          "coloraxis": {
           "colorbar": {
            "outlinewidth": 0,
            "ticks": ""
           }
          },
          "colorscale": {
           "diverging": [
            [
             0,
             "#8e0152"
            ],
            [
             0.1,
             "#c51b7d"
            ],
            [
             0.2,
             "#de77ae"
            ],
            [
             0.3,
             "#f1b6da"
            ],
            [
             0.4,
             "#fde0ef"
            ],
            [
             0.5,
             "#f7f7f7"
            ],
            [
             0.6,
             "#e6f5d0"
            ],
            [
             0.7,
             "#b8e186"
            ],
            [
             0.8,
             "#7fbc41"
            ],
            [
             0.9,
             "#4d9221"
            ],
            [
             1,
             "#276419"
            ]
           ],
           "sequential": [
            [
             0,
             "#0d0887"
            ],
            [
             0.1111111111111111,
             "#46039f"
            ],
            [
             0.2222222222222222,
             "#7201a8"
            ],
            [
             0.3333333333333333,
             "#9c179e"
            ],
            [
             0.4444444444444444,
             "#bd3786"
            ],
            [
             0.5555555555555556,
             "#d8576b"
            ],
            [
             0.6666666666666666,
             "#ed7953"
            ],
            [
             0.7777777777777778,
             "#fb9f3a"
            ],
            [
             0.8888888888888888,
             "#fdca26"
            ],
            [
             1,
             "#f0f921"
            ]
           ],
           "sequentialminus": [
            [
             0,
             "#0d0887"
            ],
            [
             0.1111111111111111,
             "#46039f"
            ],
            [
             0.2222222222222222,
             "#7201a8"
            ],
            [
             0.3333333333333333,
             "#9c179e"
            ],
            [
             0.4444444444444444,
             "#bd3786"
            ],
            [
             0.5555555555555556,
             "#d8576b"
            ],
            [
             0.6666666666666666,
             "#ed7953"
            ],
            [
             0.7777777777777778,
             "#fb9f3a"
            ],
            [
             0.8888888888888888,
             "#fdca26"
            ],
            [
             1,
             "#f0f921"
            ]
           ]
          },
          "colorway": [
           "#636efa",
           "#EF553B",
           "#00cc96",
           "#ab63fa",
           "#FFA15A",
           "#19d3f3",
           "#FF6692",
           "#B6E880",
           "#FF97FF",
           "#FECB52"
          ],
          "font": {
           "color": "#2a3f5f"
          },
          "geo": {
           "bgcolor": "white",
           "lakecolor": "white",
           "landcolor": "#E5ECF6",
           "showlakes": true,
           "showland": true,
           "subunitcolor": "white"
          },
          "hoverlabel": {
           "align": "left"
          },
          "hovermode": "closest",
          "mapbox": {
           "style": "light"
          },
          "paper_bgcolor": "white",
          "plot_bgcolor": "#E5ECF6",
          "polar": {
           "angularaxis": {
            "gridcolor": "white",
            "linecolor": "white",
            "ticks": ""
           },
           "bgcolor": "#E5ECF6",
           "radialaxis": {
            "gridcolor": "white",
            "linecolor": "white",
            "ticks": ""
           }
          },
          "scene": {
           "xaxis": {
            "backgroundcolor": "#E5ECF6",
            "gridcolor": "white",
            "gridwidth": 2,
            "linecolor": "white",
            "showbackground": true,
            "ticks": "",
            "zerolinecolor": "white"
           },
           "yaxis": {
            "backgroundcolor": "#E5ECF6",
            "gridcolor": "white",
            "gridwidth": 2,
            "linecolor": "white",
            "showbackground": true,
            "ticks": "",
            "zerolinecolor": "white"
           },
           "zaxis": {
            "backgroundcolor": "#E5ECF6",
            "gridcolor": "white",
            "gridwidth": 2,
            "linecolor": "white",
            "showbackground": true,
            "ticks": "",
            "zerolinecolor": "white"
           }
          },
          "shapedefaults": {
           "line": {
            "color": "#2a3f5f"
           }
          },
          "ternary": {
           "aaxis": {
            "gridcolor": "white",
            "linecolor": "white",
            "ticks": ""
           },
           "baxis": {
            "gridcolor": "white",
            "linecolor": "white",
            "ticks": ""
           },
           "bgcolor": "#E5ECF6",
           "caxis": {
            "gridcolor": "white",
            "linecolor": "white",
            "ticks": ""
           }
          },
          "title": {
           "x": 0.05
          },
          "xaxis": {
           "automargin": true,
           "gridcolor": "white",
           "linecolor": "white",
           "ticks": "",
           "title": {
            "standoff": 15
           },
           "zerolinecolor": "white",
           "zerolinewidth": 2
          },
          "yaxis": {
           "automargin": true,
           "gridcolor": "white",
           "linecolor": "white",
           "ticks": "",
           "title": {
            "standoff": 15
           },
           "zerolinecolor": "white",
           "zerolinewidth": 2
          }
         }
        },
        "title": {
         "text": "3D Scatter Plot Example"
        }
       }
      }
     },
     "metadata": {},
     "output_type": "display_data"
    }
   ],
   "source": [
    "# 13. Create a 3D scatter plot using Plotly\n",
    "\n",
    "import plotly.graph_objects as go\n",
    "\n",
    "# Sample data\n",
    "x = [1, 2, 3, 4, 5]\n",
    "y = [10, 11, 12, 13, 14]\n",
    "z = [5, 6, 7, 8, 9]\n",
    "\n",
    "# Create 3D scatter plot\n",
    "fig = go.Figure(data=[go.Scatter3d(\n",
    "    x=x,\n",
    "    y=y,\n",
    "    z=z,\n",
    "    mode='markers',\n",
    "    marker=dict(\n",
    "        size=8,\n",
    "        color=z,        # Color by z-value\n",
    "        colorscale='Viridis',\n",
    "        opacity=0.8\n",
    "    )\n",
    ")])\n",
    "\n",
    "# Add layout details\n",
    "fig.update_layout(\n",
    "    title='3D Scatter Plot Example',\n",
    "    scene=dict(\n",
    "        xaxis_title='X Axis',\n",
    "        yaxis_title='Y Axis',\n",
    "        zaxis_title='Z Axis'\n",
    "    )\n",
    ")\n",
    "\n",
    "# Show plot\n",
    "fig.show()\n"
   ]
  },
  {
   "cell_type": "markdown",
   "id": "e2a6c5d1",
   "metadata": {},
   "source": [
    "##NOTE PACKAGE TO INSTALL\n",
    "\n",
    "pip install pandas numpy matplotlib seaborn plotly nbformat"
   ]
  }
 ],
 "metadata": {
  "kernelspec": {
   "display_name": "env",
   "language": "python",
   "name": "python3"
  },
  "language_info": {
   "codemirror_mode": {
    "name": "ipython",
    "version": 3
   },
   "file_extension": ".py",
   "mimetype": "text/x-python",
   "name": "python",
   "nbconvert_exporter": "python",
   "pygments_lexer": "ipython3",
   "version": "3.12.9"
  }
 },
 "nbformat": 4,
 "nbformat_minor": 5
}
