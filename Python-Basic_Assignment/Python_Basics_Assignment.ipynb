{
  "nbformat": 4,
  "nbformat_minor": 0,
  "metadata": {
    "colab": {
      "provenance": []
    },
    "kernelspec": {
      "name": "python3",
      "display_name": "Python 3"
    },
    "language_info": {
      "name": "python"
    }
  },
  "cells": [
    {
      "cell_type": "markdown",
      "source": [
        "# **Python Basics Assignment**"
      ],
      "metadata": {
        "id": "7saB-z3hG0Lp"
      }
    },
    {
      "cell_type": "markdown",
      "source": [
        "## **Python Basics Questions**"
      ],
      "metadata": {
        "id": "0HvaAGitG4Zg"
      }
    },
    {
      "cell_type": "markdown",
      "source": [
        "1. **What is Python, and why is it popular?**\n",
        "\n",
        "  Python is a high-level, interpreted, general-purpose programming language known for its simplicity and readability.\n",
        "  It is used in various applications, from web development to artificial intelligence.\n",
        "\n",
        "  Reasons for its popularity:\n",
        "  * Easy to learn and write\n",
        "  * Extensive libraries and large community support\n",
        "  * Versatile (web, data science, AI, automation, etc.)\n",
        "  * Cross-platform compatibility"
      ],
      "metadata": {
        "id": "mn1ItChuHOug"
      }
    },
    {
      "cell_type": "markdown",
      "source": [
        "2. **What is an interpreter in Python?**\n",
        "\n",
        "  An interpreter in Python is a program that reads and executes Python code line by line. It translates high-level code into machine-level code at runtime, allowing immediate execution and testing of the code."
      ],
      "metadata": {
        "id": "YkYw-le7IdIq"
      }
    },
    {
      "cell_type": "markdown",
      "source": [
        "3. **What are pre-defined keywords in Python?**\n",
        "\n",
        "  Pre-defined keywords are reserved words in Python that have special meanings and are part of the language syntax itself.\n",
        "\n",
        "  examples :-\n",
        "  `if, else, while, for, class, def, import, try, except, True, False, None, etc`. are some pre-defined keywords."
      ],
      "metadata": {
        "id": "zQ3XwwGNI5hY"
      }
    },
    {
      "cell_type": "markdown",
      "source": [
        "4. **Can keywords be used as variable names?**\n",
        "\n",
        "  No, keywords cannot be used as variable names in Python. Doing so will results in a SyntaxError because they have predefined meanings in the language.\n",
        "  \n",
        "  for example **True = \"hello\"** will throw **SyntaxError: cannot assign to True**"
      ],
      "metadata": {
        "id": "joj7kw53JQk1"
      }
    },
    {
      "cell_type": "markdown",
      "source": [
        "5. **What is mutability in Python?**\n",
        "\n",
        "  Mutability refers to whether an object can be changed after it has been created.\n",
        "\n",
        "  * Mutable: object that can be changed e.g., list, dict, set.\n",
        "  * Immutable: object that Cannot changed e.g., int, float, str, tuple."
      ],
      "metadata": {
        "id": "NlTinKEjKQSX"
      }
    },
    {
      "cell_type": "markdown",
      "source": [
        "6. **Why are lists mutable, but tuples are immutable?**\n",
        "\n",
        "  The reason list are mutable and tuple are immutable is the desigin priniciple behined them\n",
        "  * Lists are mutable because they are intended to represent collections of items that may change over time, such as appending, updating, or removing elements. This flexibility makes them suitable for dynamic data structures where modifications are expected.\n",
        "  \n",
        "  * Tuples are immutable by design to ensure consistency and reliability of the data they store. Their immutability.\n",
        "    * Guarantees that the contents cannot be changed accidentally\n",
        "    * Makes them hashable, so they can be used as keys in dictionaries and elements in sets\n",
        "    * Enables certain performance optimizations under the hood"
      ],
      "metadata": {
        "id": "Ldh6LiDRMzFW"
      }
    },
    {
      "cell_type": "markdown",
      "source": [
        "7. **What is the difference between == and is operators in Python?**\n",
        "  * `==` **Equality operator** checks if values of two objects are equal.\n",
        "\n",
        "  * `is` **Identity Operators** checks if two references point to the same object in memory.\n",
        "\n",
        "  ```\n",
        "  Example\n",
        "  a = [1, 2]\n",
        "  b = [1, 2]\n",
        "  a == b   # True\n",
        "  a is b   # False (different objects in memory)\n",
        "  ```"
      ],
      "metadata": {
        "id": "NSobBhnMOwRA"
      }
    },
    {
      "cell_type": "markdown",
      "source": [
        "8. **What are logical operators in Python?**\n",
        "\n",
        "  Python has **three** logical operators used to **combine conditional** statements:\n",
        "\n",
        "  1. and: True if both operands are True\n",
        "\n",
        "  2. or: True if at least one operand is True\n",
        "\n",
        "  3. not: Inverts the boolean value\n",
        "\n",
        "  ```\n",
        "  Example\n",
        "  x = 5\n",
        "  x > 2 and x < 10  # return True\n",
        "  ```"
      ],
      "metadata": {
        "id": "XCvhERs7PjU0"
      }
    },
    {
      "cell_type": "markdown",
      "source": [
        "9. **What is Type Casting in Python?**\n",
        "\n",
        "  Type casting is the process of converting the data type of a variable or value into another data type. It is commonly used to ensure variables are in the correct format for operations like concatenation or arithmetic.\n",
        "\n",
        "  Python supports two kinds of type casting:\n",
        "  1. Explicit Type Casting:-\n",
        "  is when the programmer manually converts one data type into another using built-in Python functions like int(), float(), str(), etc.\n",
        "\n",
        "  ```\n",
        "  Explicit Type Casting\n",
        "\n",
        "  # float to int\n",
        "  num = 9.7\n",
        "  converted = int(num)\n",
        "  print(converted)  # Output: 9\n",
        "  # int to string\n",
        "  age = 30\n",
        "  age_str = str(age)\n",
        "  print(\"Age is \" + age_str)  # Output: Age is 30\n",
        "  ```\n",
        "\n",
        "  2.  Implicit Type Casting :- is when Python automatically converts one data type to another during an operation, without any user intervention. This usually happens in expressions involving mixed types.\n",
        "\n",
        "  ```\n",
        "  Implicit Type Casting\n",
        "  \n",
        "  a = 10        # int\n",
        "  b = 3.5       # float\n",
        "  result = a + b\n",
        "  print(result)        # Output: 13.5\n",
        "  print(type(result))  # Output: <class 'float'>\n",
        "  ```\n",
        "\n"
      ],
      "metadata": {
        "id": "i27gzB-OQpxE"
      }
    },
    {
      "cell_type": "markdown",
      "source": [
        "10. **What is the difference between implicit and explicit type casting?**\n",
        "\n",
        "  * Implicit casting: Python automatically converts one type to another.\n",
        "  ```\n",
        "  x = 5 + 2.0  # x becomes 7.0 (int + float => float)\n",
        "  ```\n",
        "\n",
        "  * Explicit casting: You manually convert types using functions like int(), float(), str().\n",
        "  ```\n",
        "  x = int(3.8)  # x becomes 3\n",
        "  ```"
      ],
      "metadata": {
        "id": "4LqRDIBSRmnI"
      }
    },
    {
      "cell_type": "markdown",
      "source": [
        "11. **What is the purpose of conditional statements in Python?**\n",
        "\n",
        "  Conditional statements allow decision-making in programs. They execute different code blocks based on specific conditions (if, elif, else).\n",
        "\n",
        "  ```\n",
        "  if (4 % 2) == 0:\n",
        "    print(\"hello\")\n",
        "  else:\n",
        "    print(\"Bye\")\n",
        "  \n",
        "  Output: hello\n",
        "  ```"
      ],
      "metadata": {
        "id": "fPHddomTSf54"
      }
    },
    {
      "cell_type": "markdown",
      "source": [
        "12. **How does the elif statement work?**\n",
        "\n",
        "  elif stands for \"else if\". It allows you to check multiple conditions after the first if. It runs the first block where the condition is True.\n",
        "\n",
        "  ```\n",
        "  x = 10\n",
        "  if x < 5:\n",
        "      print(\"Less than 5\")\n",
        "  elif x == 10:\n",
        "      print(\"Equal to 10\")  # This line runs\n",
        "  else:\n",
        "      print(\"Greater than 5\")\n",
        "  ```"
      ],
      "metadata": {
        "id": "2tHtVyaSS8i3"
      }
    },
    {
      "cell_type": "markdown",
      "source": [
        "13. **What is the difference between for and while loops?**\n",
        "\n",
        "  * for loop: Iterates over a sequence (like a list or range) with a known number of steps.\n",
        "\n",
        "  ```\n",
        "  for i in range(10):\n",
        "        print(i) // 1,2,3,4,5,6,7,8,9\n",
        "  ```\n",
        "\n",
        "  * while loop: Continues as long as a condition is True, ideal for unknown number of iterations.\n",
        "\n",
        "  ```\n",
        "  n=0\n",
        "  while(n < 10):\n",
        "        n += 1\n",
        "        print(n)\n",
        "  ```"
      ],
      "metadata": {
        "id": "OefR8Ib2Tapl"
      }
    },
    {
      "cell_type": "markdown",
      "source": [
        "14. **Describe a scenario where a while loop is more suitable than a for loop.**\n",
        "\n",
        "   A while loop is more suitable when you don’t know in advance how many times the loop will run that is, when the termination condition depends on dynamic or external factors, such as user input, real-time data, or unpredictable events.\n",
        "\n",
        "   ```\n",
        "   # Keep asking until user enters a valid number\n",
        "    while True:\n",
        "        user_input = input(\"Enter a positive number: \")\n",
        "        if user_input.isdigit() and int(user_input) > 0:\n",
        "            break\n",
        "        print(\"Invalid input. Try again.\")\n",
        "   ```\n",
        "\n",
        "   In this case:\n",
        "\n",
        "  * You can’t determine beforehand how many times the user might enter invalid input.\n",
        "\n",
        "  * So a while loop is better than a for loop, which is used when you know the number of iterations (like iterating over a list or a range)."
      ],
      "metadata": {
        "id": "Vq9bmh3VUTsc"
      }
    },
    {
      "cell_type": "markdown",
      "source": [
        "# **Practical Questions**"
      ],
      "metadata": {
        "id": "NqWjgf2NVPhY"
      }
    },
    {
      "cell_type": "code",
      "source": [
        "# 1. Write a Python program to print \"Hello, World!\".\n",
        "\n",
        "print(\"Hello, World!\")"
      ],
      "metadata": {
        "colab": {
          "base_uri": "https://localhost:8080/"
        },
        "id": "wwZUZslWV3QR",
        "outputId": "7c64df83-24ab-4986-ef8b-d5dda8b3ae00"
      },
      "execution_count": 13,
      "outputs": [
        {
          "output_type": "stream",
          "name": "stdout",
          "text": [
            "Hello, World!\n"
          ]
        }
      ]
    },
    {
      "cell_type": "code",
      "source": [
        "#  2. Write a Python program that displays your name and age.\n",
        "name = \"Shivam\"\n",
        "age = 26\n",
        "print(\"Name:\", name)\n",
        "print(\"Age:\", age)"
      ],
      "metadata": {
        "colab": {
          "base_uri": "https://localhost:8080/"
        },
        "id": "B6cUNgYlWEai",
        "outputId": "64e9a7b5-31fd-4941-9f1f-8e4b2eb06647"
      },
      "execution_count": 15,
      "outputs": [
        {
          "output_type": "stream",
          "name": "stdout",
          "text": [
            "Name: Shivam\n",
            "Age: 26\n"
          ]
        }
      ]
    },
    {
      "cell_type": "code",
      "source": [
        "# 3. Write code to print all the pre-defined keywords in Python using the keyword library.\n",
        "import keyword\n",
        "print(\"Python Keywords:\")\n",
        "print(keyword.kwlist)\n",
        "for kw in keyword.kwlist:\n",
        "    print(kw)"
      ],
      "metadata": {
        "colab": {
          "base_uri": "https://localhost:8080/"
        },
        "id": "51FoDaiKWyIN",
        "outputId": "161c05e0-086b-4ee1-8ab5-b2f7b5d61b29"
      },
      "execution_count": 17,
      "outputs": [
        {
          "output_type": "stream",
          "name": "stdout",
          "text": [
            "Python Keywords:\n",
            "['False', 'None', 'True', 'and', 'as', 'assert', 'async', 'await', 'break', 'class', 'continue', 'def', 'del', 'elif', 'else', 'except', 'finally', 'for', 'from', 'global', 'if', 'import', 'in', 'is', 'lambda', 'nonlocal', 'not', 'or', 'pass', 'raise', 'return', 'try', 'while', 'with', 'yield']\n",
            "False\n",
            "None\n",
            "True\n",
            "and\n",
            "as\n",
            "assert\n",
            "async\n",
            "await\n",
            "break\n",
            "class\n",
            "continue\n",
            "def\n",
            "del\n",
            "elif\n",
            "else\n",
            "except\n",
            "finally\n",
            "for\n",
            "from\n",
            "global\n",
            "if\n",
            "import\n",
            "in\n",
            "is\n",
            "lambda\n",
            "nonlocal\n",
            "not\n",
            "or\n",
            "pass\n",
            "raise\n",
            "return\n",
            "try\n",
            "while\n",
            "with\n",
            "yield\n"
          ]
        }
      ]
    },
    {
      "cell_type": "code",
      "source": [
        "# 4. Write a program that checks if a given word is a Python keyword.\n",
        "import keyword\n",
        "\n",
        "word = input(\"Enter a word: \")\n",
        "if keyword.iskeyword(word):\n",
        "    print(f\"'{word}' is a Python keyword.\")\n",
        "else:\n",
        "    print(f\"'{word}' is not a Python keyword.\")"
      ],
      "metadata": {
        "colab": {
          "base_uri": "https://localhost:8080/"
        },
        "id": "UTU7loobXH46",
        "outputId": "c14a624d-d8fb-4ead-8884-3e5cad23aa5b"
      },
      "execution_count": 19,
      "outputs": [
        {
          "output_type": "stream",
          "name": "stdout",
          "text": [
            "Enter a word: if\n",
            "'if' is a Python keyword.\n"
          ]
        }
      ]
    },
    {
      "cell_type": "code",
      "source": [
        "# 5. Create a list and tuple in Python, and demonstrate how attempting to change an element works differently for each.\n",
        "\n",
        "# Create a list\n",
        "my_list = [10, 20, 30]\n",
        "\n",
        "# Create a tuple\n",
        "my_tuple = (10, 20, 30)\n",
        "\n",
        "# Modify list element\n",
        "print(\"Original list:\", my_list)\n",
        "my_list[1] = 99\n",
        "print(\"Modified list:\", my_list)  # Works because lists are mutable\n",
        "\n",
        "# Try modifying tuple element\n",
        "print(\"Original tuple:\", my_tuple)\n",
        "try:\n",
        "    my_tuple[1] = 99  # Will raise TypeError\n",
        "except TypeError as e:\n",
        "    print(\"Error while modifying tuple:\", e)"
      ],
      "metadata": {
        "colab": {
          "base_uri": "https://localhost:8080/"
        },
        "id": "3UapO35eXcPt",
        "outputId": "dc3b0838-60c8-4e1f-d344-0b25fa36354d"
      },
      "execution_count": 20,
      "outputs": [
        {
          "output_type": "stream",
          "name": "stdout",
          "text": [
            "Original list: [10, 20, 30]\n",
            "Modified list: [10, 99, 30]\n",
            "Original tuple: (10, 20, 30)\n",
            "Error while modifying tuple: 'tuple' object does not support item assignment\n"
          ]
        }
      ]
    },
    {
      "cell_type": "code",
      "source": [
        "# 6. Write a function to demonstrate the behavior of mutable and immutable arguments\n",
        "\n",
        "def modify_arguments(mutable, immutable):\n",
        "    mutable.append(100)\n",
        "    immutable += 1\n",
        "    print(\"Inside function:\")\n",
        "    print(\"Mutable:\", mutable)\n",
        "    print(\"Immutable:\", immutable)\n",
        "\n",
        "lst = [1, 2, 3]\n",
        "num = 10\n",
        "\n",
        "modify_arguments(lst, num)\n",
        "print(\"Outside function:\")\n",
        "print(\"Mutable:\", lst)        # Modified\n",
        "print(\"Immutable:\", num)      # Unchanged"
      ],
      "metadata": {
        "colab": {
          "base_uri": "https://localhost:8080/"
        },
        "id": "eNVLxxriYDWq",
        "outputId": "0e2bd6f5-bd32-4e12-e2d8-e7489fd45365"
      },
      "execution_count": 21,
      "outputs": [
        {
          "output_type": "stream",
          "name": "stdout",
          "text": [
            "Inside function:\n",
            "Mutable: [1, 2, 3, 100]\n",
            "Immutable: 11\n",
            "Outside function:\n",
            "Mutable: [1, 2, 3, 100]\n",
            "Immutable: 10\n"
          ]
        }
      ]
    },
    {
      "cell_type": "code",
      "source": [
        "# 7.  Write a program that performs basic arithmetic operations on two user-input number.\n",
        "a = float(input(\"Enter first number: \"))\n",
        "b = float(input(\"Enter second number: \"))\n",
        "\n",
        "print(\"Sum:\", a + b)\n",
        "print(\"Difference:\", a - b)\n",
        "print(\"Product:\", a * b)\n",
        "print(\"Quotient:\", a / b if b != 0 else \"Cannot divide by zero\")"
      ],
      "metadata": {
        "colab": {
          "base_uri": "https://localhost:8080/"
        },
        "id": "pqJaa3pbYrjh",
        "outputId": "bcd36db5-2009-45d7-f01b-cff4db41c487"
      },
      "execution_count": 24,
      "outputs": [
        {
          "output_type": "stream",
          "name": "stdout",
          "text": [
            "Enter first number: 11\n",
            "Enter second number: 1\n",
            "Sum: 12.0\n",
            "Difference: 10.0\n",
            "Product: 11.0\n",
            "Quotient: 11.0\n"
          ]
        }
      ]
    },
    {
      "cell_type": "code",
      "source": [
        "# 8. Write a program to demonstrate the use of logical operators.\n",
        "a = 10\n",
        "b = 20\n",
        "\n",
        "print(a > 5 and b > 10)   # True\n",
        "print(a > 15 or b > 15)   # True\n",
        "print(not a > 15)         # True\n",
        "print(a == 10 and b is None) #False"
      ],
      "metadata": {
        "colab": {
          "base_uri": "https://localhost:8080/"
        },
        "id": "0QdQX7PqZD-7",
        "outputId": "5905ad8f-ad58-4ead-d04d-aeb23bac356f"
      },
      "execution_count": 29,
      "outputs": [
        {
          "output_type": "stream",
          "name": "stdout",
          "text": [
            "True\n",
            "True\n",
            "True\n",
            "False\n"
          ]
        }
      ]
    },
    {
      "cell_type": "code",
      "source": [
        "# 9. Write a Python program to convert user input from string to integer, float, and boolean types\n",
        "user_input = input(\"Enter a value: \")\n",
        "\n",
        "# Convert to integer\n",
        "try:\n",
        "    int_val = int(user_input)\n",
        "    print(\"Integer:\", int_val)\n",
        "except ValueError:\n",
        "    print(\"Cannot convert to integer\")\n",
        "\n",
        "# Convert to float\n",
        "try:\n",
        "    float_val = float(user_input)\n",
        "    print(\"Float:\", float_val)\n",
        "except ValueError:\n",
        "    print(\"Cannot convert to float\")\n",
        "\n",
        "# Convert to boolean\n",
        "bool_val = bool(user_input)\n",
        "print(\"Boolean:\", bool_val)"
      ],
      "metadata": {
        "colab": {
          "base_uri": "https://localhost:8080/"
        },
        "id": "oDzfqef0Z4PG",
        "outputId": "0ec28152-abb5-4a9a-bd0d-31ab06e69940"
      },
      "execution_count": 31,
      "outputs": [
        {
          "output_type": "stream",
          "name": "stdout",
          "text": [
            "Enter a value: 23\n",
            "Integer: 23\n",
            "Float: 23.0\n",
            "Boolean: True\n"
          ]
        }
      ]
    },
    {
      "cell_type": "code",
      "source": [
        "# 10. Write code to demonstrate type casting with list elements.\n",
        "# List of strings\n",
        "str_list = ['1', '2', '3', '4']\n",
        "\n",
        "# Cast to integers\n",
        "int_list = list(map(int, str_list))\n",
        "\n",
        "print(\"Original list (strings):\", str_list)\n",
        "print(\"Converted list (integers):\", int_list)"
      ],
      "metadata": {
        "colab": {
          "base_uri": "https://localhost:8080/"
        },
        "id": "pS7saS5faE0H",
        "outputId": "1472d17a-1e06-49db-b00d-8c059ab8238b"
      },
      "execution_count": 33,
      "outputs": [
        {
          "output_type": "stream",
          "name": "stdout",
          "text": [
            "Original list (strings): ['1', '2', '3', '4']\n",
            "Converted list (integers): [1, 2, 3, 4]\n"
          ]
        }
      ]
    },
    {
      "cell_type": "code",
      "source": [
        "# 11. Write a program that checks if a number is positive, negative, or zero.\n",
        "\n",
        "num = float(input(\"Enter a number: \"))\n",
        "\n",
        "if num > 0:\n",
        "    print(\"The number is positive.\")\n",
        "elif num < 0:\n",
        "    print(\"The number is negative.\")\n",
        "else:\n",
        "    print(\"The number is zero.\")"
      ],
      "metadata": {
        "colab": {
          "base_uri": "https://localhost:8080/"
        },
        "id": "_xGUs0TUagZO",
        "outputId": "c15a9882-779f-4011-da01-9b18a201c5ef"
      },
      "execution_count": 35,
      "outputs": [
        {
          "output_type": "stream",
          "name": "stdout",
          "text": [
            "Enter a number: 12\n",
            "The number is positive.\n"
          ]
        }
      ]
    },
    {
      "cell_type": "code",
      "source": [
        "# 12. Write a for loop to print numbers from 1 to 10.\n",
        "for i in range(1, 11):\n",
        "    print(i)"
      ],
      "metadata": {
        "colab": {
          "base_uri": "https://localhost:8080/"
        },
        "id": "msmmNSZkatv9",
        "outputId": "061e8219-61e2-4a8d-b9e6-64d6111c4f5f"
      },
      "execution_count": 37,
      "outputs": [
        {
          "output_type": "stream",
          "name": "stdout",
          "text": [
            "1\n",
            "2\n",
            "3\n",
            "4\n",
            "5\n",
            "6\n",
            "7\n",
            "8\n",
            "9\n",
            "10\n"
          ]
        }
      ]
    },
    {
      "cell_type": "code",
      "source": [
        "# 13. Write a Python program to find the sum of all even numbers between 1 and 50.\n",
        "total = 0\n",
        "for i in range(1, 51):\n",
        "    if i % 2 == 0:\n",
        "        total += i\n",
        "print(\"Sum of even numbers from 1 to 50:\", total)"
      ],
      "metadata": {
        "colab": {
          "base_uri": "https://localhost:8080/"
        },
        "id": "5WES4RLaazO1",
        "outputId": "baf5567d-997a-4c05-ce4d-9708d181076f"
      },
      "execution_count": 39,
      "outputs": [
        {
          "output_type": "stream",
          "name": "stdout",
          "text": [
            "Sum of even numbers from 1 to 50: 650\n"
          ]
        }
      ]
    },
    {
      "cell_type": "code",
      "source": [
        "# 14. Write a program to reverse a string using a while loop.\n",
        "text = input(\"Enter a string: \")\n",
        "reversed_text = ''\n",
        "i = len(text) - 1\n",
        "\n",
        "while i >= 0:\n",
        "    reversed_text += text[i]\n",
        "    i -= 1\n",
        "\n",
        "print(\"Reversed string:\", reversed_text)"
      ],
      "metadata": {
        "colab": {
          "base_uri": "https://localhost:8080/"
        },
        "id": "Gvjs29A9a-rn",
        "outputId": "e4774360-2143-4d79-f4aa-b0b92804603b"
      },
      "execution_count": 44,
      "outputs": [
        {
          "output_type": "stream",
          "name": "stdout",
          "text": [
            "Enter a string: data science\n",
            "Reversed string: ecneics atad\n"
          ]
        }
      ]
    },
    {
      "cell_type": "code",
      "source": [
        "# 15. Write a Python program to calculate the factorial of a number provided by the user using a while loop.\n",
        "num = int(input(\"Enter a number: \"))\n",
        "\n",
        "if num < 0:\n",
        "    print(\"Factorial does not exist for negative numbers.\")\n",
        "else:\n",
        "    factorial = 1\n",
        "    i = 1\n",
        "    while i <= num:\n",
        "        factorial *= i\n",
        "        i += 1\n",
        "    print(f\"Factorial of {num} is {factorial}\")"
      ],
      "metadata": {
        "colab": {
          "base_uri": "https://localhost:8080/"
        },
        "id": "eNnTAUYHbSx_",
        "outputId": "55850f88-4a01-4e2c-fc32-f0b6cc0d0813"
      },
      "execution_count": 45,
      "outputs": [
        {
          "output_type": "stream",
          "name": "stdout",
          "text": [
            "Enter a number: 5\n",
            "Factorial of 5 is 120\n"
          ]
        }
      ]
    }
  ]
}