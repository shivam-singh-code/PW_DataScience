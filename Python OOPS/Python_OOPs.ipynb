{
  "nbformat": 4,
  "nbformat_minor": 0,
  "metadata": {
    "colab": {
      "provenance": []
    },
    "kernelspec": {
      "name": "python3",
      "display_name": "Python 3"
    },
    "language_info": {
      "name": "python"
    }
  },
  "cells": [
    {
      "cell_type": "markdown",
      "source": [
        "# Python OOPs Questions"
      ],
      "metadata": {
        "id": "G_diQ6tvC4yq"
      }
    },
    {
      "cell_type": "markdown",
      "source": [
        "1. **What is Object-Oriented Programming (OOP)?**\n",
        "\n",
        "  * Object-Oriented Programming or OOPs refers to languages that use objects in programming.\n",
        "\n",
        "  * OOP makes code easier to understand, reuse, and maintain, especially for large and complex programs.\n",
        "\n",
        "  * It is based on key concepts like encapsulation, inheritance, abstraction, and polymorphism.\n",
        "\n",
        "  * Languages like Java, Python, C++, and C# support OOP and are widely used in software development."
      ],
      "metadata": {
        "id": "-F7ifhwcDBph"
      }
    },
    {
      "cell_type": "markdown",
      "source": [
        "2. **What is a class in OOP?**\n",
        "\n",
        "* A class is a blueprint used to create objects in object-oriented programming.\n",
        "\n",
        "* Classes are created using class keyword.\n",
        "\n",
        "* Attributes are the variables that belong to a class.\n",
        "\n",
        "  ```\n",
        "  #define class\n",
        "  class Cat:\n",
        "      sound = \"Meow\"  # class attribute\n",
        "  ```"
      ],
      "metadata": {
        "id": "futS1efbDjxC"
      }
    },
    {
      "cell_type": "markdown",
      "source": [
        "3. **What is an object in OOP?**\n",
        "\n",
        "* An object is a specific instance of a class.\n",
        "\n",
        "* It has attributes (data) and methods (behavior) defined by its class\n",
        "\n",
        "* You can create many objects from the same class, each with different data.\n",
        "\n",
        "  ```\n",
        "  class Dog:\n",
        "      sound = \"bark\"\n",
        "\n",
        "  # Create an object from the class\n",
        "  dog = Dog()\n",
        "\n",
        "  # Access the class attribute\n",
        "  print(dog.sound)\n",
        "  ```"
      ],
      "metadata": {
        "id": "KNl7oSfhD9kS"
      }
    },
    {
      "cell_type": "markdown",
      "source": [
        "4. **What is the difference between abstraction and encapsulation?**\n",
        "\n",
        "   **Abstraction**\n",
        "\n",
        "    * Abstraction means hiding the complex implementation details and showing only the essential features to the user.\n",
        "\n",
        "    * Key Points Focuses on what an object does, not how it does it.\n",
        "\n",
        "    * Achieved using abstract classes or interfaces in most languages.\n",
        "\n",
        "    * Helps reduce complexity by hiding internal logic.\n",
        "\n",
        "    * Promotes code reusability and flexibility.\n",
        "\n",
        "      `Example: When you drive a car, you use the steering wheel and pedals (interface) without knowing the engine mechanism (internal logic).`\n",
        "\n",
        "    **Encapsulation**\n",
        "\n",
        "    * Encapsulation means binding data and methods that operate on that data into a single unit, and restricting direct access to some components.\n",
        "\n",
        "    * Key Points Focuses on how data is protected and bundled.\n",
        "\n",
        "    * Achieved using private and public access modifiers.\n",
        "\n",
        "    * Helps in data hiding and maintaining control over data.\n",
        "\n",
        "    * Makes the class a self-contained unit.\n",
        "\n",
        "      `Example: You can't directly change your bank balance from outside the system – it's protected via encapsulation.`"
      ],
      "metadata": {
        "id": "qYRjXbCrESba"
      }
    },
    {
      "cell_type": "markdown",
      "source": [
        "5. **What are dunder methods in Python?**\n",
        "\n",
        "    **Dunder methods** (short for *double underscore methods*) are special methods in Python whose names start and end with double underscores, like `__init__`, `__str__`, `__len__`, etc.  \n",
        "\n",
        "    They are also called **magic methods** because they let us define how objects of a class should behave in different situations (like printing, adding, comparing, etc.).\n",
        "    \n",
        "    ```\n",
        "    Examples of Common Dunder Methods\n",
        "    **`__init__`** :- Constructor, called when creating an object.  \n",
        "    **`__str__`** :- Defines how the object is represented as a string.  \n",
        "    **`__len__`** :- Allows using `len(object)`.  \n",
        "    **`__add__`** :- Defines behavior of `+` operator.\n",
        "    ```"
      ],
      "metadata": {
        "id": "Om-DVR1DHMNC"
      }
    },
    {
      "cell_type": "markdown",
      "source": [
        "6. **Explain the concept of inheritance in OOP ?**\n",
        "\n",
        "- **Inheritance** is one of the core concepts of Object-Oriented Programming (OOP).  \n",
        "- It allows a class (called **child class** or **subclass**) to **reuse the properties and methods** of another class (called **parent class** or **base class**).  \n",
        "- This helps in **code reusability**, **extensibility**, and building a logical hierarchy.\n",
        "\n",
        "  **Types of Inheritance (in Python)**\n",
        "  1. **Single Inheritance** :- Child inherits from one parent.  \n",
        "  2. **Multiple Inheritance** :- Child inherits from more than one parent.  \n",
        "  3. **Multilevel Inheritance** :- A class inherits from a child class, making a chain.  \n",
        "  4. **Hierarchical Inheritance** :- Multiple children inherit from the same parent.  \n",
        "  5. **Hybrid Inheritance** :- Combination of the above types.  "
      ],
      "metadata": {
        "id": "a5Yl7Z-hHwMj"
      }
    },
    {
      "cell_type": "markdown",
      "source": [
        "7. **What is polymorphism in OOP?**\n",
        "\n",
        "  - The word **Polymorphism** means *many forms*.  \n",
        "  - In OOP, it refers to the ability of different classes to **define methods with the same name** but provide **different implementations**.  \n",
        "  - It allows one interface to be used for different data types or objects.\n",
        "  - Improves **flexibility** and **reusability** of code.  \n",
        "  - Helps write **generic code** that works with multiple object types.  \n",
        "\n",
        "  "
      ],
      "metadata": {
        "id": "6PJ4kFrRINK6"
      }
    },
    {
      "cell_type": "markdown",
      "source": [
        "8. **How is encapsulation achieved in Python?**\n",
        "\n",
        "    Encapsulation means **restricting direct access to data (variables)** and providing controlled access through methods.  \n",
        "    In Python, encapsulation is achieved mainly through:\n",
        "\n",
        "    1. **Private and Protected members**\n",
        "        - `_var` :- protected (should not be accessed directly outside class, but still possible).\n",
        "        - `__var` :- private (name mangling makes it harder to access directly).\n",
        "    2. **Getter and Setter methods**\n",
        "      - Provide controlled access to private variables.\n",
        "    3. **Properties (`@property` decorator)**\n",
        "      - A Pythonic way to use getters and setters while still accessing attributes like normal variables.\n",
        "\n",
        "      ```\n",
        "      class BankAccount:\n",
        "        def __init__(self, balance):\n",
        "            self.__balance = balance   # private variable\n",
        "\n",
        "        def get_balance(self):         # getter\n",
        "            return self.__balance\n",
        "\n",
        "        def deposit(self, amount):     # setter\n",
        "            if amount > 0:\n",
        "                self.__balance += amount\n",
        "        \n",
        "        account = BankAccount(1000)\n",
        "        print(account.get_balance())  # 1000\n",
        "        account.deposit(500)\n",
        "        print(account.get_balance())  # 1500\n",
        "      ```"
      ],
      "metadata": {
        "id": "y0UMCFfKI73q"
      }
    },
    {
      "cell_type": "markdown",
      "source": [
        "9. **What is a constructor in Python?**\n",
        "\n",
        "    * In Python, a constructor is a special method that is called automatically when an object is created from a class.\n",
        "\n",
        "    * Its main role is to initialize the object by setting up its attributes or state.\n",
        "\n",
        "    **new Method**\n",
        "\n",
        "    * This method is responsible for creating a new instance of a class. It allocates memory and returns the new object. It is called before init.\n",
        "\n",
        "    **init Method**\n",
        "\n",
        "    * This method initializes the newly created instance and is commonly used as a constructor in Python. It is called immediately after the object is created by new method and is responsible for initializing attributes of the instance.\n",
        "\n",
        "    Types of Constructors\n",
        "\n",
        "    1. **Default Constructor**\n",
        "\n",
        "      A default constructor does not take any parameters other than self. It initializes the object with default attribute values.\n",
        "\n",
        "    2. **Parameterized Constructor**\n",
        "\n",
        "      A parameterized constructor accepts arguments to initialize the object's attributes with specific values."
      ],
      "metadata": {
        "id": "vkEzr5mPJszr"
      }
    },
    {
      "cell_type": "markdown",
      "source": [
        "10. **What are class and static methods in Python?**\n",
        "\n",
        "    1. **Class Methods**\n",
        "        - Defined using the **@classmethod** decorator.  \n",
        "        - The **first parameter** is always `cls` (represents the class itself, not the instance).  \n",
        "        - Can access and modify **class-level attributes**.  \n",
        "        - Useful when we need methods that should work with the class rather than individual objects.\n",
        "\n",
        "    2. **Static Methods**\n",
        "        - Defined using the **@staticmethod** decorator.\n",
        "        - They don’t take self or cls as the first argument.\n",
        "        - Behaves like a normal function inside a class, but logically grouped with the class.\n",
        "        - Used when we don’t need access to class/instance attributes."
      ],
      "metadata": {
        "id": "txZdRXtqKWyb"
      }
    },
    {
      "cell_type": "markdown",
      "source": [
        "11. **What is Method Overloading in Python?**\n",
        "\n",
        "    In many programming languages like C++ or Java, you can define multiple methods with the same name but different parameter lists. This concept is called method overloading.\n",
        "\n",
        "    Python does not support method overloading by default. If you define multiple methods with the same name, only the latest definition will be used.\n",
        "\n",
        "    ```\n",
        "    class MathOps:\n",
        "    def add(self, a=0, b=0, c=0):\n",
        "        return a + b + c\n",
        "\n",
        "    m = MathOps()\n",
        "    print(m.add(5, 10))      # 15\n",
        "    print(m.add(5, 10, 20))  # 35\n",
        "    ```"
      ],
      "metadata": {
        "id": "kXZyA1CiK92D"
      }
    },
    {
      "cell_type": "markdown",
      "source": [
        "12. **What is Method Overriding in OOP?**\n",
        "\n",
        "    - Method Overriding means redefining a method in the child class that is already present in the parent class.\n",
        "\n",
        "    - Used when a child wants to modify or extend the behavior of a method inherited from the parent.\n",
        "\n",
        "    - Common in inheritance.\n",
        "\n",
        "        ```\n",
        "        def speak(self):\n",
        "        return \"This animal makes a sound.\"\n",
        "\n",
        "        class Dog(Animal):\n",
        "            def speak(self):  # Overriding the parent method\n",
        "                return \"Woof! Woof!\"\n",
        "\n",
        "        class Cat(Animal):\n",
        "            def speak(self):  # Overriding again\n",
        "                return \"Meow!\"\n",
        "\n",
        "        # Usage\n",
        "        dog = Dog()\n",
        "        cat = Cat()\n",
        "\n",
        "        print(dog.speak())  # Woof! Woof!\n",
        "        print(cat.speak())  # Meow!\n",
        "        ```"
      ],
      "metadata": {
        "id": "Fs2nE2RMLgi7"
      }
    },
    {
      "cell_type": "markdown",
      "source": [
        "13. **What is a property Decorator in Python?**\n",
        "\n",
        "- The **@property** decorator in Python is used to define **getter method**s that can be accessed like attributes, not like method calls.\n",
        "\n",
        "- It lets you **encapsulate** private variables.\n",
        "\n",
        "- Allows access to methods as if they are variables (without parentheses).\n",
        "\n",
        "- Often used to compute values dynamically while hiding the method call.\n",
        "\n",
        "  ```\n",
        "  class Circle:\n",
        "      def __init__(self, radius):\n",
        "          self._radius = radius\n",
        "\n",
        "      @property\n",
        "      def area(self):\n",
        "          return 3.14 * self._radius ** 2\n",
        "\n",
        "  c = Circle(5)\n",
        "  print(c.area)  # Output: 78.5 (notice: no parentheses used)\n",
        "  ```"
      ],
      "metadata": {
        "id": "FYdKB_WmL-3z"
      }
    },
    {
      "cell_type": "markdown",
      "source": [
        "14. **Why is polymorphism important in OOP?**\n",
        "\n",
        "    1. **Improves Code Reusability** You can write general code that works with different types of objects.\n",
        "\n",
        "    2. **Example:** A single draw() function can call draw() methods on Circle, Square, or Triangle classes.\n",
        "\n",
        "    3. **Supports Code Maintainability Code** is easier to maintain and update, because you can make changes in child classes without touching the parent class logic.\n",
        "\n",
        "    4. **Increases Flexibility** You can design systems that can grow and adapt easily without modifying the base structure.\n",
        "\n",
        "    5. **Promotes Interface-Based Programming** Helps in defining abstract interfaces or base classes, while letting subclasses provide specific implementations.\n",
        "\n",
        "    6. **Enables Method Overriding** You can define a method in a parent class and override it in the child class with a specific behavior."
      ],
      "metadata": {
        "id": "zz1-8yWiMSST"
      }
    },
    {
      "cell_type": "markdown",
      "source": [
        "15. **What is an abstract class in Python?**\n",
        "\n",
        "- An **abstract class** is a class that **cannot be instantiated directly**.  \n",
        "\n",
        "- It is meant to serve as a **blueprint** for other classes.  \n",
        "\n",
        "- Abstract classes may contain **abstract methods** (declared but not implemented).  \n",
        "\n",
        "- Any class inheriting from an abstract class must provide an implementation for those abstract methods.  "
      ],
      "metadata": {
        "id": "koOcUfZ2Mm6r"
      }
    },
    {
      "cell_type": "markdown",
      "source": [
        "16. **What are the advantages of OOP?**\n",
        "\n",
        "    1. **Reusability**\n",
        "        - Code can be reused through **inheritance**.  \n",
        "        - Once a class is written, it can be extended without rewriting the same code.  \n",
        "\n",
        "    2. **Abstraction**\n",
        "        - Hides unnecessary details and shows only the essential features.  \n",
        "        - Makes code easier to understand and maintain.  \n",
        "\n",
        "    3. **Encapsulation**\n",
        "        - Data and methods are bundled together in classes.  \n",
        "        - Access to internal details can be restricted using private/protected variables.  \n",
        "        - Improves **security** and **data integrity**.  \n",
        "\n",
        "    4. **Polymorphism**\n",
        "        - The same method name can behave differently depending on the object.  \n",
        "        - Increases flexibility and reduces complexity.  \n",
        "\n",
        "    5. **Modularity**\n",
        "        - Code is divided into **classes and objects**, making it easier to manage and maintain.  \n",
        "        - Each class is like a small module that can be developed and tested independently.\n",
        "\n",
        "\n",
        "    6. **Maintainability**\n",
        "        - Since code is modular and reusable, making changes is easier.  \n",
        "        - Bugs are easier to fix because the code is organized in logical chunks (classes/objects).\n",
        "\n",
        "    7. **Scalability**\n",
        "        - OOP systems can be easily scaled as new requirements come in.  \n",
        "        - New features can be added by creating new classes or extending existing ones.\n"
      ],
      "metadata": {
        "id": "kLujbIeBODFT"
      }
    },
    {
      "cell_type": "markdown",
      "source": [
        "17. **What is the difference between a class variable and an instance variable?**\n",
        "\n",
        "    1. **Class Variable**\n",
        "    - A **class variable** is shared by **all instances** of the class.\n",
        "\n",
        "    - Defined **inside the class**, but **outside any instance methods**.  \n",
        "\n",
        "    - Any change to a class variable affects **all objects** of that class (unless overridden in an instance).  \n",
        "\n",
        "    - Class Variable is used for data that should be same for all objects (e.g., counter, tax rate).\n",
        "\n",
        "    2. **Instance Variable**\n",
        "    - An **instance variable** is specific to each object (instance).  \n",
        "\n",
        "    - Defined inside the **constructor (`__init__`)** using `self`.  \n",
        "\n",
        "    - Each object gets its **own copy** of the variable.\\\n",
        "\n",
        "    - Instance Variable is used for data that is unique to each object (e.g., name, age)."
      ],
      "metadata": {
        "id": "fF2bgb_FM-1L"
      }
    },
    {
      "cell_type": "markdown",
      "source": [
        "18. **What is multiple inheritance in Python?**\n",
        "\n",
        "    Multiple Inheritance is a feature in object-oriented programming where a class can inherit from more than one parent class. This means the child class gets access to the attributes and methods of multiple base classes.\n",
        "\n",
        "    When a class inherits from more than one class, it is called multiple inheritance.\n",
        "\n",
        "    ```\n",
        "    # Parent class 1\n",
        "    class Teacher:\n",
        "        def teach(self):\n",
        "            return \"Teaching students\"\n",
        "\n",
        "    # Parent class 2\n",
        "    class Singer:\n",
        "        def sing(self):\n",
        "            return \"Singing a song\"\n",
        "\n",
        "    # Child class inherits from both Teacher and Singer\n",
        "    class Person(Teacher, Singer):\n",
        "        def introduce(self):\n",
        "            return \"I am a person with multiple skills!\"\n",
        "\n",
        "    # Using the child class\n",
        "    p = Person()\n",
        "    print(p.introduce())   # I am a person with multiple skills!\n",
        "    print(p.teach())       # Teaching students\n",
        "    print(p.sing())        # Singing a song\n",
        "    ```\n",
        "    \n",
        "    Python uses the Method Resolution Order (MRO) to decide which method or attribute to use when there’s a conflict (like both parents having the same method name).\n",
        "\n",
        "    Helps in combining functionalities from different classes into a single class."
      ],
      "metadata": {
        "id": "Di6l7H8SN6Q7"
      }
    },
    {
      "cell_type": "markdown",
      "source": [
        "19. **Explain the purpose of ‘’str’ and ‘repr’ ‘ methods in Python?**\n",
        "\n",
        "    Both str() and repr() are special methods (also called dunder methods) used to define how an object should be represented as a string.\n",
        "\n",
        "    **str Method**\n",
        "\n",
        "    - Called by the built-in str() function or when you print the object.\n",
        "\n",
        "    - Meant to return a user-friendly and readable string.\n",
        "\n",
        "    - It’s useful for displaying information to end users.\n",
        "\n",
        "    **repr Method**\n",
        "\n",
        "    - Called by the built-in repr() function or in interactive shell when you just type the object.\n",
        "\n",
        "    - Meant to return a developer-friendly string (ideally something that can recreate the object).\n",
        "\n",
        "    - Helps in debugging and logging."
      ],
      "metadata": {
        "id": "Prjuu2miPjrj"
      }
    },
    {
      "cell_type": "markdown",
      "source": [
        "20. **What is the significance of the ‘super()’ function in Python?**\n",
        "\n",
        "    1. **Access Parent Class Methods**\n",
        "\n",
        "      - It lets you call a method from the parent class without hardcoding the parent class name.\n",
        "\n",
        "      - This makes your code more flexible and easier to maintain.\n",
        "\n",
        "    2. **Supports Multiple Inheritance**\n",
        "\n",
        "      - In complex class hierarchies, super() ensures that the correct method from the method resolution order (MRO) is called.\n",
        "\n",
        "    3. **Works with Encapsulation**\n",
        "\n",
        "      - Even if parent methods or attributes are not public, super() can still access them (as per Python's access rules)."
      ],
      "metadata": {
        "id": "98WfCj8oP7Eh"
      }
    },
    {
      "cell_type": "markdown",
      "source": [
        "21. **What is the significance of the del method in Python?**\n",
        "\n",
        "    The del() method in Python is called a destructor. It is automatically invoked when an object is about to be destroyed, meaning when there are no more references to it.\n",
        "\n",
        "    1. **Destructor Method**\n",
        "\n",
        "        del() is used to define clean-up actions (like closing files, releasing resources) just before the object is deleted.\n",
        "\n",
        "    2. **Automatic Call**\n",
        "\n",
        "        It is called automatically by the Python garbage collector when an object is no longer needed.\n",
        "\n",
        "    3. **Used for Resource Management**\n",
        "\n",
        "        Helpful when you want to free up system resources such as memory, file handles, or network connections.\n",
        "\n",
        "    4. **Use With Caution**\n",
        "\n",
        "        Using del() incorrectly can cause unpredictable behavior, especially with circular references.\n",
        "\n",
        "    5. **Runs Only Once**\n",
        "\n",
        "        The method is called only once per object when it's destroyed. It won't run again even if del() is manually called."
      ],
      "metadata": {
        "id": "LIYEHS7nQNU9"
      }
    },
    {
      "cell_type": "markdown",
      "source": [
        "22. **What is the difference between @staticmethod and @classmethod in Python?**\n",
        "\n",
        "    **@staticmethod**\n",
        "\n",
        "    - A static method does not take self or cls as the first argument.\n",
        "\n",
        "    - It doesn’t access or modify class or instance variables.\n",
        "\n",
        "    - Used for utility functions that are related to the class but don't need to access it.\n",
        "\n",
        "    - Can be called using the class name or the object.\n",
        "\n",
        "    - Declared using @staticmethod decorator.\n",
        "\n",
        "    **@classmethod**\n",
        "\n",
        "    - A class method takes cls (class reference) as the first argument.\n",
        "\n",
        "    - It can access or modify class-level data (like class variables).\n",
        "\n",
        "    - Often used for factory methods that create instances in different ways.\n",
        "\n",
        "    - Can be called using the class name or the object.\n",
        "\n",
        "    - Declared using @classmethod decorator."
      ],
      "metadata": {
        "id": "CI0-Lz-ZQi7M"
      }
    },
    {
      "cell_type": "markdown",
      "source": [
        "23. **How does polymorphism work in Python with inheritance?**\n",
        "\n",
        "    Polymorphism means \"many forms\". In OOP, it allows different classes to define the same method name with different behaviors.\n",
        "\n",
        "    When inheritance is used, child classes can override methods of the parent class.\n",
        "\n",
        "    This makes it possible to use the same interface for different underlying data types (i.e., objects of different classes).\n",
        "\n",
        "    Python uses dynamic method resolution, so the method of the actual object (not the reference type) is called.\n",
        "\n",
        "    It improves code reusability and makes the program easier to extend or modify.\n",
        "\n",
        "    ```\n",
        "        # Parent class\n",
        "    class Animal:\n",
        "        def speak(self):\n",
        "            return \"Some sound\"\n",
        "\n",
        "    # Child class 1\n",
        "    class Dog(Animal):\n",
        "        def speak(self):\n",
        "            return \"Woof!\"\n",
        "\n",
        "    # Child class 2\n",
        "    class Cat(Animal):\n",
        "        def speak(self):\n",
        "            return \"Meow!\"\n",
        "\n",
        "    # Polymorphism in action\n",
        "    animals = [Dog(), Cat(), Animal()]\n",
        "\n",
        "    for a in animals:\n",
        "        print(a.speak())\n",
        "    ```"
      ],
      "metadata": {
        "id": "UTFq6yb8Q7E0"
      }
    },
    {
      "cell_type": "markdown",
      "source": [
        "24. **What is method chaining in Python OOP?**\n",
        "\n",
        "    - Method chaining is a programming technique where multiple methods are called on the same object in a single line, one after the other. This works when each method returns the object itself (usually self in Python).\n",
        "\n",
        "    - Method chaining improves code readability and conciseness.\n",
        "\n",
        "    - Each method must return self for chaining to work.\n",
        "\n",
        "    - Commonly used in builder patterns, data processing, and fluent interfaces.\n",
        "\n",
        "    - Python supports method chaining naturally with proper class design.\n",
        "\n",
        "    - Often used in libraries like pandas, matplotlib, etc."
      ],
      "metadata": {
        "id": "29PmYZfiRSf9"
      }
    },
    {
      "cell_type": "markdown",
      "source": [
        "25. **What is the purpose of the call method in Python?**\n",
        "\n",
        "    In Python, the __call__ method allows an object of a class to be called like a function.\n",
        "    When you define __call__ inside a class, you can use the object as if it were a function.\n",
        "\n",
        "    It’s useful when you want your objects to have function-like behavior while still keeping state and logic inside a class.\n",
        "\n",
        "    ```\n",
        "    class Multiplier:\n",
        "    def __init__(self, factor):\n",
        "        self.factor = factor\n",
        "\n",
        "    def __call__(self, value):\n",
        "        return value * self.factor\n",
        "\n",
        "\n",
        "    # Create an object\n",
        "    double = Multiplier(2)\n",
        "    triple = Multiplier(3)\n",
        "\n",
        "    # Call the object like a function\n",
        "    print(double(5))  # Output: 10\n",
        "    print(triple(5))  # Output: 15\n",
        "    ```"
      ],
      "metadata": {
        "id": "BCVv3hbsReuM"
      }
    },
    {
      "cell_type": "markdown",
      "source": [
        "# Practical Questions"
      ],
      "metadata": {
        "id": "TbkfuXnSUDaN"
      }
    },
    {
      "cell_type": "code",
      "source": [
        "#1. Create a parent class Animal with a method speak() that prints a generic message. Create a child class Dog that overrides the speak() method to print \"Bark!\".\n",
        "\n",
        "class Animal:\n",
        "    def speak(self):\n",
        "        print(\"Animal makes a sound\")\n",
        "\n",
        "class Dog(Animal):\n",
        "    def speak(self):\n",
        "        print(\"Bark!\")\n",
        "\n",
        "a = Animal()\n",
        "a.speak()\n",
        "\n",
        "d = Dog()\n",
        "d.speak()"
      ],
      "metadata": {
        "colab": {
          "base_uri": "https://localhost:8080/"
        },
        "id": "X43s_145UErN",
        "outputId": "7fb39818-93b3-49d2-a7c0-f633de432c78"
      },
      "execution_count": 1,
      "outputs": [
        {
          "output_type": "stream",
          "name": "stdout",
          "text": [
            "Animal makes a sound\n",
            "Bark!\n"
          ]
        }
      ]
    },
    {
      "cell_type": "code",
      "source": [
        "#2. Write a program to create an abstract class Shape with a method area(). Derive classes Circle and Rectangle from it and implement the area() method in both.\n",
        "\n",
        "\n",
        "from abc import ABC, abstractmethod\n",
        "import math\n",
        "\n",
        "# Abstract class\n",
        "class Shape(ABC):\n",
        "\n",
        "    @abstractmethod\n",
        "    def area(self):\n",
        "        pass\n",
        "\n",
        "# Circle class derived from Shape\n",
        "class Circle(Shape):\n",
        "    def __init__(self, radius):\n",
        "        self.radius = radius\n",
        "\n",
        "    def area(self):\n",
        "        return math.pi * self.radius * self.radius\n",
        "\n",
        "# Rectangle class derived from Shape\n",
        "class Rectangle(Shape):\n",
        "    def __init__(self, length, width):\n",
        "        self.length = length\n",
        "        self.width = width\n",
        "\n",
        "    def area(self):\n",
        "        return self.length * self.width\n",
        "\n",
        "# Example usage\n",
        "c = Circle(5)\n",
        "print(\"Area of Circle\", c.area())\n",
        "\n",
        "r = Rectangle(4, 6)\n",
        "print(\"Area of Rectangle\", r.area())"
      ],
      "metadata": {
        "colab": {
          "base_uri": "https://localhost:8080/"
        },
        "id": "AhcV7-QXUhH5",
        "outputId": "81de0af2-d859-4cb5-ac1f-d399764ef0f6"
      },
      "execution_count": 2,
      "outputs": [
        {
          "output_type": "stream",
          "name": "stdout",
          "text": [
            "Area of Circle 78.53981633974483\n",
            "Area of Rectangle 24\n"
          ]
        }
      ]
    },
    {
      "cell_type": "code",
      "source": [
        "#3. Implement a multi-level inheritance scenario where a class Vehicle has an attribute type. Derive a class Car and further derive a class ElectricCar that adds a battery attribute\n",
        "# Base class\n",
        "class Vehicle:\n",
        "    def __init__(self, type):\n",
        "        self.type = type\n",
        "\n",
        "    def display_type(self):\n",
        "        print(\"Vehicle Type\", self.type)\n",
        "\n",
        "# First-level derived class\n",
        "class Car(Vehicle):\n",
        "    def __init__(self, type, brand):\n",
        "        super().__init__(type)  # Call Vehicle's constructor\n",
        "        self.brand = brand\n",
        "\n",
        "    def display_brand(self):\n",
        "        print(\"Car Brand\", self.brand)\n",
        "\n",
        "# Second-level derived class\n",
        "class ElectricCar(Car):\n",
        "    def __init__(self, type, brand, battery):\n",
        "        super().__init__(type, brand)  # Call Car's constructor\n",
        "        self.battery = battery\n",
        "\n",
        "    def display_battery(self):\n",
        "        print(\"Battery Capacity\", self.battery)\n",
        "\n",
        "e_car = ElectricCar(\"Four Wheeler\", \"Honda\", \"75 kWh\")\n",
        "\n",
        "e_car.display_type()\n",
        "e_car.display_brand()\n",
        "e_car.display_battery()"
      ],
      "metadata": {
        "colab": {
          "base_uri": "https://localhost:8080/"
        },
        "id": "-W5TYMiQUmnK",
        "outputId": "c9e524a0-70d9-4a0d-ea3a-6bbaba575c80"
      },
      "execution_count": 5,
      "outputs": [
        {
          "output_type": "stream",
          "name": "stdout",
          "text": [
            "Vehicle Type Four Wheeler\n",
            "Car Brand Honda\n",
            "Battery Capacity 75 kWh\n"
          ]
        }
      ]
    },
    {
      "cell_type": "code",
      "source": [
        "#4. Demonstrate polymorphism by creating a base class Bird with a method fly(). Create two derived classes Sparrow and Penguin that override the fly() method.\n",
        "\n",
        "# Base class\n",
        "class Bird:\n",
        "    def fly(self):\n",
        "        print(\"Bird is flying\")\n",
        "\n",
        "# Derived class 1\n",
        "class Sparrow(Bird):\n",
        "    def fly(self):\n",
        "        print(\"Sparrow flies high in the sky...\")\n",
        "\n",
        "# Derived class 2\n",
        "class Penguin(Bird):\n",
        "    def fly(self):\n",
        "        print(\"Penguin can't fly, it swims instead...\")\n",
        "\n",
        "# Example of Polymorphism\n",
        "def bird_flight(bird):\n",
        "    bird.fly()\n",
        "\n",
        "# Create objects\n",
        "b1 = Sparrow()\n",
        "b2 = Penguin()\n",
        "\n",
        "# Call the same method, different behavior\n",
        "bird_flight(b1)\n",
        "bird_flight(b2)\n"
      ],
      "metadata": {
        "colab": {
          "base_uri": "https://localhost:8080/"
        },
        "id": "S01Zrp1tUrLl",
        "outputId": "2f017a1e-90dd-4f11-8967-531d29132515"
      },
      "execution_count": 7,
      "outputs": [
        {
          "output_type": "stream",
          "name": "stdout",
          "text": [
            "Sparrow flies high in the sky...\n",
            "Penguin can't fly, it swims instead...\n"
          ]
        }
      ]
    },
    {
      "cell_type": "code",
      "source": [
        "#5.Write a program to demonstrate encapsulation by creating a class BankAccount with private attributes balance and methods to deposit, withdraw, and check balance.\n",
        "\n",
        "class BankAccount:\n",
        "    def __init__(self, initial_balance):\n",
        "        self.__balance = initial_balance  # Private attribute\n",
        "\n",
        "    def deposit(self, amount):\n",
        "        if amount > 0:\n",
        "            self.__balance += amount\n",
        "            print(f\"Deposited ₹{amount}\")\n",
        "        else:\n",
        "            print(\"Invalid deposit amount\")\n",
        "\n",
        "    def withdraw(self, amount):\n",
        "        if 0 < amount <= self.__balance:\n",
        "            self.__balance -= amount\n",
        "            print(f\"Withdrawn ₹{amount}\")\n",
        "        else:\n",
        "            print(\"Insufficient balance or invalid amount\")\n",
        "\n",
        "    def check_balance(self):\n",
        "        print(f\"Current Balance ₹{self.__balance}\")\n",
        "\n",
        "\n",
        "account = BankAccount(1000)\n",
        "account.check_balance()\n",
        "\n",
        "account.deposit(700)\n",
        "account.check_balance()\n",
        "\n",
        "account.withdraw(600)\n",
        "account.check_balance()"
      ],
      "metadata": {
        "colab": {
          "base_uri": "https://localhost:8080/"
        },
        "id": "9ai4-Uv1U6qF",
        "outputId": "0f6b3dd9-9133-4d36-c917-503b137568e8"
      },
      "execution_count": 8,
      "outputs": [
        {
          "output_type": "stream",
          "name": "stdout",
          "text": [
            "Current Balance ₹1000\n",
            "Deposited ₹700\n",
            "Current Balance ₹1700\n",
            "Withdrawn ₹600\n",
            "Current Balance ₹1100\n"
          ]
        }
      ]
    },
    {
      "cell_type": "code",
      "source": [
        "#6. Demonstrate runtime polymorphism using a method play() in a base class Instrument. Derive classes Guitar and Piano that implement their own version of play()\n",
        "\n",
        "class Instrument:\n",
        "    def play(self):\n",
        "        print(\"Playing instrument\")\n",
        "\n",
        "class Guitar(Instrument):\n",
        "    def play(self):\n",
        "        print(\"Playing guitar\")\n",
        "\n",
        "class Piano(Instrument):\n",
        "    def play(self):\n",
        "        print(\"Playing piano\")\n",
        "\n",
        "# Runtime Polymorphism\n",
        "def perform(instrument):\n",
        "    instrument.play()\n",
        "\n",
        "# Creating objects\n",
        "guitar = Guitar()\n",
        "piano = Piano()\n",
        "\n",
        "\n",
        "perform(guitar)\n",
        "perform(piano)"
      ],
      "metadata": {
        "colab": {
          "base_uri": "https://localhost:8080/"
        },
        "id": "RfV_kEn7VGg_",
        "outputId": "647cc3e5-4b4a-4dec-8637-6d0730766083"
      },
      "execution_count": 9,
      "outputs": [
        {
          "output_type": "stream",
          "name": "stdout",
          "text": [
            "Playing guitar\n",
            "Playing piano\n"
          ]
        }
      ]
    },
    {
      "cell_type": "code",
      "source": [
        "#7. Create a class MathOperations with a class method add_numbers() to add two numbers and a static method subtract_numbers() to subtract two numbers.\n",
        "class MathOperations:\n",
        "    # Class method to add two numbers\n",
        "    @classmethod\n",
        "    def add_numbers(cls, a, b):\n",
        "        return a + b\n",
        "\n",
        "    # Static method to subtract two numbers\n",
        "    @staticmethod\n",
        "    def subtract_numbers(a, b):\n",
        "        return a - b\n",
        "\n",
        "\n",
        "sum_result = MathOperations.add_numbers(20, 5)\n",
        "print(\"Sum:\", sum_result)\n",
        "difference = MathOperations.subtract_numbers(8, 5)\n",
        "print(\"Difference:\", difference)"
      ],
      "metadata": {
        "colab": {
          "base_uri": "https://localhost:8080/"
        },
        "id": "XWF3TIXYVOJ_",
        "outputId": "f3d2d7cf-35b6-4b42-e014-0cbb2ee33904"
      },
      "execution_count": 11,
      "outputs": [
        {
          "output_type": "stream",
          "name": "stdout",
          "text": [
            "Sum: 25\n",
            "Difference: 3\n"
          ]
        }
      ]
    },
    {
      "cell_type": "code",
      "source": [
        "#8. Implement a class Person with a class method to count the total number of persons created.\n",
        "\n",
        "class Person:\n",
        "    count = 0\n",
        "\n",
        "    def __init__(self, name):\n",
        "        self.name = name\n",
        "        Person.count += 1\n",
        "\n",
        "    @classmethod\n",
        "    def total_persons(cls):\n",
        "        return cls.count\n",
        "\n",
        "p1 = Person(\"Raj\")\n",
        "p2 = Person(\"Rohan\")\n",
        "p3 = Person(\"Kamal\")\n",
        "\n",
        "print(\"Total persons created\", Person.total_persons())"
      ],
      "metadata": {
        "colab": {
          "base_uri": "https://localhost:8080/"
        },
        "id": "GmTIujSLVVoF",
        "outputId": "83510f67-deea-4ccd-df84-c49c557d0d6e"
      },
      "execution_count": 12,
      "outputs": [
        {
          "output_type": "stream",
          "name": "stdout",
          "text": [
            "Total persons created 3\n"
          ]
        }
      ]
    },
    {
      "cell_type": "code",
      "source": [
        "#9. Write a class Fraction with attributes numerator and denominator. Override the str method to display the fraction as \"numerator/denominator\".\n",
        "\n",
        "class Fraction:\n",
        "    def __init__(self, numerator, denominator):\n",
        "        self.numerator = numerator\n",
        "        self.denominator = denominator\n",
        "\n",
        "    def __str__(self):\n",
        "        return f\"{self.numerator}/{self.denominator}\"\n",
        "\n",
        "f1 = Fraction(10, 4)\n",
        "print(f1)\n",
        "\n",
        "f2 = Fraction(6, 2)\n",
        "print(f2)"
      ],
      "metadata": {
        "colab": {
          "base_uri": "https://localhost:8080/"
        },
        "id": "xg68cyNwVd4l",
        "outputId": "354d24bb-c4c1-4957-defe-ff08d5ce9637"
      },
      "execution_count": 13,
      "outputs": [
        {
          "output_type": "stream",
          "name": "stdout",
          "text": [
            "10/4\n",
            "6/2\n"
          ]
        }
      ]
    },
    {
      "cell_type": "code",
      "source": [
        "#10. Demonstrate operator overloading by creating a class Vector and overriding the add method to add two vectors.\n",
        "class Vector:\n",
        "    def __init__(self, x, y):\n",
        "        self.x = x\n",
        "        self.y = y\n",
        "\n",
        "    def __add__(self, other):\n",
        "        return Vector(self.x + other.x, self.y + other.y)\n",
        "\n",
        "    def __str__(self):\n",
        "        return f\"({self.x}, {self.y})\"\n",
        "\n",
        "v1 = Vector(21, 15)\n",
        "v2 = Vector(24, 35)\n",
        "\n",
        "v3 = v1 + v2\n",
        "print(\"Resultant Vector\", v3)"
      ],
      "metadata": {
        "colab": {
          "base_uri": "https://localhost:8080/"
        },
        "id": "SWkkO_4uWLP4",
        "outputId": "acd9992c-ecf1-4d1f-ab65-c4b00d2d4816"
      },
      "execution_count": 14,
      "outputs": [
        {
          "output_type": "stream",
          "name": "stdout",
          "text": [
            "Resultant Vector (45, 50)\n"
          ]
        }
      ]
    },
    {
      "cell_type": "code",
      "source": [
        "#11. Create a class Person with attributes name and age. Add a method greet() that prints \"Hello, my name is {name} and I am {age} years old.\"\n",
        "class Person:\n",
        "    def __init__(self, name, age):\n",
        "        self.name = name\n",
        "        self.age = age\n",
        "\n",
        "    def greet(self):\n",
        "        print(f\"Hlo, my name is {self.name} and I am {self.age} years old\")\n",
        "\n",
        "\n",
        "p1 = Person(\"Raj\", 25)\n",
        "p1.greet()\n",
        "\n",
        "p2 = Person(\"Rohan\", 10)\n",
        "p2.greet()"
      ],
      "metadata": {
        "colab": {
          "base_uri": "https://localhost:8080/"
        },
        "id": "J4FSl6afWSS1",
        "outputId": "073fd755-dd04-460f-acf6-30684bdb6e1d"
      },
      "execution_count": 15,
      "outputs": [
        {
          "output_type": "stream",
          "name": "stdout",
          "text": [
            "Hlo, my name is Raj and I am 25 years old\n",
            "Hlo, my name is Rohan and I am 10 years old\n"
          ]
        }
      ]
    },
    {
      "cell_type": "code",
      "source": [
        "#12. Implement a class Student with attributes name and grades. Create a method average_grade() to compute the average of the grades.\n",
        "\n",
        "class Student:\n",
        "    def __init__(self, name, grades):\n",
        "        self.name = name\n",
        "        self.grades = grades\n",
        "\n",
        "    def average_grade(self):\n",
        "        if not self.grades:\n",
        "            return 0\n",
        "        return sum(self.grades) / len(self.grades)\n",
        "\n",
        "\n",
        "s1 = Student(\"Rohan\", [80, 85, 90])\n",
        "print(f\"{s1.name} average grade {s1.average_grade():.2f}\")\n",
        "\n",
        "s2 = Student(\"Rajesh\", [60,70,90])\n",
        "print(f\"{s2.name} average grade {s2.average_grade():.2f}\")"
      ],
      "metadata": {
        "colab": {
          "base_uri": "https://localhost:8080/"
        },
        "id": "HuWjaUc9Wcv_",
        "outputId": "c3d5e25b-c4c5-4c6c-f32d-0f7f4cfa61a8"
      },
      "execution_count": 17,
      "outputs": [
        {
          "output_type": "stream",
          "name": "stdout",
          "text": [
            "Rohan average grade 85.00\n",
            "Rajesh average grade 73.33\n"
          ]
        }
      ]
    },
    {
      "cell_type": "code",
      "source": [
        "# 13. Create a class Rectangle with methods set_dimensions() to set the dimensions and area() to calculate the area.\n",
        "\n",
        "class Rectangle:\n",
        "    def __init__(self):\n",
        "        self.length = 0\n",
        "        self.width = 0\n",
        "\n",
        "    def set_dimensions(self, length, width):\n",
        "        self.length = length\n",
        "        self.width = width\n",
        "\n",
        "    def area(self):\n",
        "        return self.length * self.width\n",
        "\n",
        "r1 = Rectangle()\n",
        "r1.set_dimensions(12, 4)\n",
        "print(\"Area of rectangle: \", r1.area())"
      ],
      "metadata": {
        "colab": {
          "base_uri": "https://localhost:8080/"
        },
        "id": "S2bNXNduWm_y",
        "outputId": "6852411a-5e71-484a-fa58-8f3f8906b37d"
      },
      "execution_count": 19,
      "outputs": [
        {
          "output_type": "stream",
          "name": "stdout",
          "text": [
            "Area of rectangle:  48\n"
          ]
        }
      ]
    },
    {
      "cell_type": "code",
      "source": [
        "#14. Create a class Employee with a method calculate_salary() that computes the salary based on hours worked and hourly rate. Create a derived class Manager that adds a bonus to the salary.\n",
        "\n",
        "# Base class\n",
        "class Employee:\n",
        "    def __init__(self, name, hours_worked, hourly_rate):\n",
        "        self.name = name\n",
        "        self.hours_worked = hours_worked\n",
        "        self.hourly_rate = hourly_rate\n",
        "\n",
        "    def calculate_salary(self):\n",
        "        return self.hours_worked * self.hourly_rate\n",
        "\n",
        "# Derived class\n",
        "class Manager(Employee):\n",
        "    def __init__(self, name, hours_worked, hourly_rate, bonus):\n",
        "        super().__init__(name, hours_worked, hourly_rate)\n",
        "        self.bonus = bonus\n",
        "\n",
        "    def calculate_salary(self):\n",
        "        base_salary = super().calculate_salary()\n",
        "        return base_salary + self.bonus\n",
        "\n",
        "emp = Employee(\"Rohan\", 50, 400)\n",
        "print(f\"{emp.name} Salary {emp.calculate_salary()}\")\n",
        "mgr = Manager(\"Raj\", 60, 400, 5000)\n",
        "print(f\"{mgr.name} Salary {mgr.calculate_salary()}\")"
      ],
      "metadata": {
        "colab": {
          "base_uri": "https://localhost:8080/"
        },
        "id": "jHSycnSnWuJM",
        "outputId": "6df3deeb-c57c-465c-f0f4-b634746118ca"
      },
      "execution_count": 20,
      "outputs": [
        {
          "output_type": "stream",
          "name": "stdout",
          "text": [
            "Rohan Salary 20000\n",
            "Raj Salary 29000\n"
          ]
        }
      ]
    },
    {
      "cell_type": "code",
      "source": [
        "#15. Create a class Product with attributes name, price, and quantity. Implement a method total_price() that calculates the total price of the product.\n",
        "\n",
        "class Product:\n",
        "    def __init__(self, name, price, quantity):\n",
        "        self.name = name\n",
        "        self.price = price\n",
        "        self.quantity = quantity\n",
        "\n",
        "    def total_price(self):\n",
        "        return self.price * self.quantity\n",
        "\n",
        "p1 = Product(\"Laptop\", 80000, 4)\n",
        "print(f\"Total price for {p1.name} {p1.total_price()}\")\n",
        "\n",
        "p2 = Product(\"Pen\", 5, 2)\n",
        "print(f\"Total price for {p2.name} {p2.total_price()}\")"
      ],
      "metadata": {
        "colab": {
          "base_uri": "https://localhost:8080/"
        },
        "id": "kxXRJmIwW9J2",
        "outputId": "b50e3421-399b-4dab-f7e7-82e1d2565a20"
      },
      "execution_count": 21,
      "outputs": [
        {
          "output_type": "stream",
          "name": "stdout",
          "text": [
            "Total price for Laptop 320000\n",
            "Total price for Pen 10\n"
          ]
        }
      ]
    },
    {
      "cell_type": "code",
      "source": [
        "#16. Create a class Animal with an abstract method sound(). Create two derived classes Cow and Sheep that implement the sound() method.\n",
        "\n",
        "from abc import ABC, abstractmethod\n",
        "\n",
        "# Abstract base class\n",
        "class Animal(ABC):\n",
        "    @abstractmethod\n",
        "    def sound(self):\n",
        "        pass\n",
        "\n",
        "# Derived class 1\n",
        "class Cow(Animal):\n",
        "    def sound(self):\n",
        "        return \"Mooooooooo Mooooooooooo\"\n",
        "\n",
        "# Derived class 2\n",
        "class Sheep(Animal):\n",
        "    def sound(self):\n",
        "        return \"Baa BAA\"\n",
        "\n",
        "\n",
        "cow = Cow()\n",
        "sheep = Sheep()\n",
        "\n",
        "print(\"Cow sound: \", cow.sound())\n",
        "print(\"Sheep sound: \", sheep.sound())"
      ],
      "metadata": {
        "colab": {
          "base_uri": "https://localhost:8080/"
        },
        "id": "uRTl7_eNXHx9",
        "outputId": "949a6647-c30b-43ad-a19e-f05b28896136"
      },
      "execution_count": 22,
      "outputs": [
        {
          "output_type": "stream",
          "name": "stdout",
          "text": [
            "Cow sound:  Mooooooooo Mooooooooooo\n",
            "Sheep sound:  Baa BAA\n"
          ]
        }
      ]
    },
    {
      "cell_type": "code",
      "source": [
        "#17. Create a class Book with attributes title, author, and year_published. Add a method get_book_info() that returns a formatted string with the book's details.\n",
        "\n",
        "class Book:\n",
        "    def __init__(self, title, author, year_published):\n",
        "        self.title = title\n",
        "        self.author = author\n",
        "        self.year_published = year_published\n",
        "\n",
        "    def get_book_info(self):\n",
        "        return f\"'{self.title}' by {self.author}, published in {self.year_published}\"\n",
        "\n",
        "book1 = Book(\"Python for beginners\", \"Prof dinesh\", 2020)\n",
        "print(book1.get_book_info())\n",
        "\n",
        "book2 = Book(\"Light on novel\", \"Kamal\", 2014)\n",
        "print(book2.get_book_info())"
      ],
      "metadata": {
        "colab": {
          "base_uri": "https://localhost:8080/"
        },
        "id": "MspGjgkxXTSf",
        "outputId": "1fac2ed9-7b9e-4914-f99b-3eb54b7424bc"
      },
      "execution_count": 23,
      "outputs": [
        {
          "output_type": "stream",
          "name": "stdout",
          "text": [
            "'Python for beginners' by Prof dinesh, published in 2020\n",
            "'Light on novel' by Kamal, published in 2014\n"
          ]
        }
      ]
    },
    {
      "cell_type": "code",
      "source": [
        "#18. Create a class House with attributes address and price. Create a derived class Mansion that adds an attribute number_of_rooms.\n",
        "\n",
        "# Base class\n",
        "class House:\n",
        "    def __init__(self, address, price):\n",
        "        self.address = address\n",
        "        self.price = price\n",
        "\n",
        "    def display_info(self):\n",
        "        print(f\"Address: {self.address}\")\n",
        "        print(f\"Price: ₹{self.price}\")\n",
        "\n",
        "# Derived class\n",
        "class Mansion(House):\n",
        "    def __init__(self, address, price, number_of_rooms):\n",
        "        super().__init__(address, price)  # Call parent constructor\n",
        "        self.number_of_rooms = number_of_rooms\n",
        "\n",
        "    def display_info(self):\n",
        "        super().display_info()\n",
        "        print(f\"Number of Rooms: {self.number_of_rooms}\")\n",
        "\n",
        "m1 = Mansion(\"Twin tower, Noida\", 200000, 4)\n",
        "m1.display_info()"
      ],
      "metadata": {
        "colab": {
          "base_uri": "https://localhost:8080/"
        },
        "id": "PtBh6QG3XpYV",
        "outputId": "7269f38d-8308-415f-d676-5656312c3307"
      },
      "execution_count": 24,
      "outputs": [
        {
          "output_type": "stream",
          "name": "stdout",
          "text": [
            "Address: Twin tower, Noida\n",
            "Price: ₹200000\n",
            "Number of Rooms: 4\n"
          ]
        }
      ]
    },
    {
      "cell_type": "code",
      "source": [],
      "metadata": {
        "id": "A7y86-rCX05T"
      },
      "execution_count": null,
      "outputs": []
    }
  ]
}