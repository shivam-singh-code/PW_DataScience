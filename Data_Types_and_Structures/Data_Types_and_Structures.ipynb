{
  "nbformat": 4,
  "nbformat_minor": 0,
  "metadata": {
    "colab": {
      "provenance": []
    },
    "kernelspec": {
      "name": "python3",
      "display_name": "Python 3"
    },
    "language_info": {
      "name": "python"
    }
  },
  "cells": [
    {
      "cell_type": "markdown",
      "source": [
        "# Data Types and Structures Questions"
      ],
      "metadata": {
        "id": "INcUBM1rr6a0"
      }
    },
    {
      "cell_type": "markdown",
      "source": [
        "1. **What are data structures, and why are they important?**\n",
        "\n",
        "    Data structures are different ways of organizing and storing data in a computer so that it can be used efficiently.\n",
        "\n",
        "    They are important because the right data structure can make a program run faster and use less memory. For example, using a dictionary for lookups is much quicker than searching through a list.\n",
        "\n",
        "    Some of the most common used data structure in python are\n",
        "    * List := `[\"apple\", \"banana\", \"orange\"]`\n",
        "    * Dictionary: `{\"language\": \"Python:}`\n",
        "    * Tuple: `('one', 'two')`\n",
        "    * Set: `set([1, 2, 'ML', 4, 'For', 6, 'Datascience'])`\n",
        "    * String: `\"Python is used in ML\"` etc.\n",
        "    "
      ],
      "metadata": {
        "id": "xZM9mVeGtKFg"
      }
    },
    {
      "cell_type": "markdown",
      "source": [
        "2. **Explain the difference between mutable and immutable data types with examples.**\n",
        "\n",
        "  * A mutable data type is something you can change after it’s created. For instance, a Python list is mutable—you can add, remove, or modify its elements:\n",
        "\n",
        "    ```\n",
        "    numbers = [1, 2, 3]\n",
        "    numbers.append(4)   # list changed\n",
        "    ```\n",
        "  \n",
        "  * An immutable data type cannot be changed once created. A string and tuple is a good example:\n",
        "\n",
        "    ```\n",
        "    text = \"hello\"\n",
        "    text[0] = \"H\"  # this will throw an error\n",
        "    ```"
      ],
      "metadata": {
        "id": "r3E8mFsyvoWQ"
      }
    },
    {
      "cell_type": "markdown",
      "source": [
        "3. **What are the main differences between lists and tuples in Python?**\n",
        "\n",
        "  * Lists\n",
        "\n",
        "    1. Lists are mutable you can add, remove, or change elements.\n",
        "\n",
        "    2. Lists are better when you need to modify data frequently.\n",
        "\n",
        "  * Tuple\n",
        "\n",
        "    1. Tuples are often used for fixed collections of items, like coordinates (x, y).\n",
        "\n",
        "    2. Tuples are immutable once created, they cannot be changed.\n"
      ],
      "metadata": {
        "id": "MkFyOf3iws1v"
      }
    },
    {
      "cell_type": "markdown",
      "source": [
        "4. **Describe how dictionaries store data.**\n",
        "\n",
        "    Dictionaries store data as key–value pairs. Each key is unique and maps to a specific value. Under the hood, Python uses a hashing mechanism, so when you search for a key, it can find the value very quickly without scanning the whole dictionary. For example:\n",
        "\n",
        "    ```\n",
        "    student = {\"name\": \"Shivam\", \"age\": 26, \"course\": \"DS\"}\n",
        "    ```\n",
        "\n",
        "    Here above, \"name\", \"age\", and \"course\" are keys, and their corresponding values are \"Alex\", 21, and \"DS\"."
      ],
      "metadata": {
        "id": "ZtReAzpu2db6"
      }
    },
    {
      "cell_type": "markdown",
      "source": [
        "5. **Why might you use a set instead of a list in Python?**\n",
        "\n",
        "    Sets automatically remove duplicates, making them ideal when you want only unique values.\n",
        "\n",
        "    They offer faster membership checks (like if x in my_set) compared to lists.\n",
        "\n",
        "    You can perform powerful set operations like union, intersection, and difference easily.\n",
        "\n",
        "    Sets are unordered, so if the order doesn’t matter, they’re more efficient.\n",
        "\n",
        "    Example use: getting unique email IDs from a list of form submissions."
      ],
      "metadata": {
        "id": "mdHOA0Tz2kOW"
      }
    },
    {
      "cell_type": "markdown",
      "source": [
        "6. **What is a string in Python, and how is it different from a list?**\n",
        "\n",
        "    A string is a sequence of characters, written inside quotes like \"hello world\".\n",
        "\n",
        "    A list is a collection of items that can hold any data type, including numbers, strings, or even other lists.\n",
        "\n",
        "    Strings are immutable, meaning once created, you can’t change their characters.\n",
        "\n",
        "    Lists are mutable, so you can add, remove, or modify elements.\n",
        "\n",
        "    ```\n",
        "    Example\n",
        "    str = \"hello\" # string\n",
        "    list = [\"h\", \"e\", \"l\", \"l\", \"o\"] # list\n",
        "    ```"
      ],
      "metadata": {
        "id": "Bbpd3x1T3Y4K"
      }
    },
    {
      "cell_type": "markdown",
      "source": [
        "7. **How do tuples ensure data integrity in Python?**\n",
        "\n",
        "    * Tuples are immutable, meaning their content cannot be changed once defined.\n",
        "\n",
        "    * This ensures the data stays constant and secure, which is useful in situations where it shouldn't be altered.\n",
        "\n",
        "    * They can be used as dictionary keys or in sets, which require unchangeable values.\n",
        "\n",
        "    * Tuples help prevent accidental updates in your code.\n",
        "\n",
        "    ```\n",
        "    Example\n",
        "    tuple = (10, 20, 30)\n",
        "    ```"
      ],
      "metadata": {
        "id": "sK0hG7I33pXh"
      }
    },
    {
      "cell_type": "markdown",
      "source": [
        "8. **What is a hash table, and how does it relate to dictionaries in Python?**\n",
        "\n",
        "    * A hash table is a data structure that stores data using a key-value mapping.\n",
        "\n",
        "    * Python dictionaries are built on top of hash tables for fast data lookup.\n",
        "\n",
        "    * Each key is converted into a hash code, which helps Python locate the value quickly.\n",
        "\n",
        "    * Hash tables handle collisions (when two keys hash to the same spot) using internal logic.\n",
        "\n",
        "    * Thanks to this, dictionary operations like get, set, and delete are usually very efficient (O(1))."
      ],
      "metadata": {
        "id": "rIA9bQUp4PbK"
      }
    },
    {
      "cell_type": "markdown",
      "source": [
        "9. **Can lists contain different data types in Python?**\n",
        "\n",
        "    Yes, Python lists are flexible and can store multiple data types in a single list.\n",
        "\n",
        "    We can mix integers, strings, floats, booleans, or even other lists.\n",
        "\n",
        "    This makes lists useful for grouping related but different kinds of data.\n",
        "    Example:\n",
        "    ```\n",
        "    mixed_list = [25, \"hello\", 3.14, True]\n",
        "    ```"
      ],
      "metadata": {
        "id": "gIqsc0v64fH5"
      }
    },
    {
      "cell_type": "markdown",
      "source": [
        "10. **Explain why strings are immutable in Python.**\n",
        "\n",
        "    Strings in Python are immutable, meaning you can’t change individual characters once the string is created.\n",
        "\n",
        "    This design makes strings safe and reliable, especially when shared across parts of a program.\n",
        "\n",
        "    Immutability allows strings to be used as dictionary keys and ensures consistent hashing.\n",
        "\n",
        "    It also helps Python with memory optimization and performance through string reuse.\n",
        "\n",
        "    Example:\n",
        "    ```\n",
        "    text = \"hello\"\n",
        "    text[0] = \"H\"\n",
        "    ```"
      ],
      "metadata": {
        "id": "EsomzJ5b46qa"
      }
    },
    {
      "cell_type": "markdown",
      "source": [
        "11. **What advantages do dictionaries offer over lists for certain tasks?**\n",
        "\n",
        "    Dictionaries provide fast lookup by key Big O(1) time, unlike lists which require scanning through items and has lookup of Big O(N).\n",
        "\n",
        "    They allow key-value pairing, making data more descriptive and easier to work with.\n",
        "\n",
        "    Ideal for structured data, like storing student names and their grades: `{\"Rohan\": 100}`.\n",
        "\n",
        "    Updating or finding values is more direct using keys, whereas lists need index positions.\n",
        "\n",
        "    They're great when you need to map relationships or build a quick database."
      ],
      "metadata": {
        "id": "zrVGgX8-5JoJ"
      }
    },
    {
      "cell_type": "markdown",
      "source": [
        "12. **Describe a scenario where using a tuple would be preferable over a list**\n",
        "\n",
        "    A tuple is preferable when you need a fixed collection of data that should not change.\n",
        "\n",
        "    **Consider this scenario**\n",
        "\n",
        "    Imagine we are storing the coordinates of a location on a map:\n",
        "    ```\n",
        "    location = (28.6139, 77.2090)  # Latitude, Longitude\n",
        "    ```\n",
        "    Since these values represent a specific point on Earth, they shouldn’t be accidentally modified. Using a tuple makes the data immutable and safe, whereas a list could be changed by mistake.\n",
        "\n",
        "    More example\n",
        "\n",
        "    * Returning multiple values from a function (like (status, message)).\n",
        "\n",
        "    * Using tuples as dictionary keys (lists can’t be keys because they’re mutable).\n",
        "\n",
        "    * Storing configuration data that must remain constant."
      ],
      "metadata": {
        "id": "_ZBPHFO-5r9K"
      }
    },
    {
      "cell_type": "markdown",
      "source": [
        "13. **How do sets handle duplicate values in Python?**\n",
        "\n",
        "    Sets automatically remove duplicates, only storing unique values.\n",
        "\n",
        "    If you try to add a value that already exists, it simply won’t be added again.\n",
        "\n",
        "    This makes sets ideal for tasks like filtering duplicates from a list.\n",
        "\n",
        "    Example:\n",
        "    ```\n",
        "    set = set([1, 2, 2, 3]) # Output: {1, 2, 3}\n",
        "    ```\n",
        "    They use hashing, similar to dictionaries, for fast membership checks."
      ],
      "metadata": {
        "id": "cKjSC3JY6xvR"
      }
    },
    {
      "cell_type": "markdown",
      "source": [
        "14. **How does the “in” keyword work differently for lists and dictionaries?**\n",
        "\n",
        "    For lists:\n",
        "\n",
        "    in checks if a given value exists in the list.\n",
        "\n",
        "    It goes through the list elements one by one until it finds a match.\n",
        "    ```\n",
        "    nums = [1, 2, 3, 4]\n",
        "    print(3 in nums)   #  True (checks values)\n",
        "    print(5 in nums)   #  False\n",
        "    ```\n",
        "\n",
        "    For dictionaries:\n",
        "\n",
        "    in checks if a given key exists in the dictionary (not the value).\n",
        "\n",
        "    It uses a hash lookup, which is much faster than scanning values.\n",
        "    ```\n",
        "    student = {\"name\": \"Alex\", \"age\": 21}\n",
        "    print(\"name\" in student)   #  True (checks keys)\n",
        "    print(\"Alex\" in student)   #  False (does not check values)\n",
        "    ```\n",
        "\n",
        "    If you want to check values in a dictionary, you need:\n",
        "    ```\n",
        "    print(\"Alex\" in student.values())   # True\n",
        "    ```\n"
      ],
      "metadata": {
        "id": "lEWuTAKH7AuR"
      }
    },
    {
      "cell_type": "markdown",
      "source": [
        "15. **Can you modify the elements of a tuple? Explain why or why not.**\n",
        "\n",
        "    No, you can’t modify elements of a tuple because tuples are immutable.\n",
        "\n",
        "    Once a tuple is created, its values are fixed and cannot be changed.\n",
        "\n",
        "    This helps in maintaining data integrity and allows them to be used as keys in dictionaries.\n",
        "\n",
        "    If you try to change a tuple value, Python will raise a TypeError.\n",
        "\n",
        "    Example:\n",
        "    ```\n",
        "    tuple = (1, 2, 3)\n",
        "    tuple[0] = 10 #Not allowed\n",
        "    ```"
      ],
      "metadata": {
        "id": "48dqfQWq7uwC"
      }
    },
    {
      "cell_type": "markdown",
      "source": [
        "16. **What is a nested dictionary, and give an example of its use case?**\n",
        "\n",
        "    A nested dictionary is a dictionary inside another dictionary.\n",
        "\n",
        "    It’s used when you need to store structured or grouped data.\n",
        "\n",
        "    Useful in scenarios like storing student data where each student has multiple details.\n",
        "\n",
        "    Example:\n",
        "    ```\n",
        "    students = { \"Amit\": {\"age\": 20, \"grade\": \"A\"},\n",
        "                \"Sara\": {\"age\": 22, \"grade\": \"B\"}\n",
        "                }\n",
        "    ```\n",
        "\n",
        "    You can access values like:** students[\"Amit\"][\"grade\"] ---> 'A'**"
      ],
      "metadata": {
        "id": "YYFdiA_m8Ea4"
      }
    },
    {
      "cell_type": "markdown",
      "source": [
        "17. **Describe the time complexity of accessing elements in a dictionary.**\n",
        "\n",
        "    Dictionary lookup is usually **O(1)** — very fast, no matter how big the dictionary is.\n",
        "\n",
        "    This is possible because dictionaries use a hash table under the hood.\n",
        "\n",
        "    Worst-case time can be O(n) in rare collision-heavy cases, but that’s uncommon.\n",
        "\n",
        "    So, for most tasks, accessing a key like **my_dict[\"grade\"]** is extremely efficient.\n",
        "\n",
        "    That’s why dictionaries are often chosen for fast lookups."
      ],
      "metadata": {
        "id": "LizBDd_98ggp"
      }
    },
    {
      "cell_type": "markdown",
      "source": [
        "18. **In what situations are lists preferred over dictionaries.**\n",
        "\n",
        "  1. When order matters\n",
        "\n",
        "      Lists preserve the order of elements, while dictionaries (before Python 3.7) didn’t guarantee order. Even now, if you only care about sequence, lists are simpler.\n",
        "\n",
        "      ```\n",
        "      tasks = [\"Wake up\", \"Exercise\", \"Work\"]\n",
        "      ```\n",
        "\n",
        "  2. When you don’t need key–value pairs\n",
        "\n",
        "      If you just need a collection of items without unique identifiers (like a shopping list), a list is the natural choice.\n",
        "\n",
        "  3. When duplicates are allowed\n",
        "\n",
        "      Lists let you store the same value multiple times, while dictionary keys must be unique.\n",
        "      ```\n",
        "      nums = [2, 2, 3, 5]  # duplicates are fine\n",
        "      ```\n",
        "\n",
        "  4. When memory usage should be minimal\n",
        "\n",
        "      Lists are lighter because they only store values, while dictionaries store keys + values + hash data, which consumes more memory.\n",
        "\n",
        "  5. When you often use indexing\n",
        "\n",
        "      Lists let you access elements by their position (index). Dictionaries don’t support direct numeric indexing.\n",
        "\n",
        "      ```\n",
        "      names = [\"Alice\", \"Bob\", \"Charlie\"]  \n",
        "      print(names[1])  # Bob\n",
        "      ```\n"
      ],
      "metadata": {
        "id": "aMOAETN081ro"
      }
    },
    {
      "cell_type": "markdown",
      "source": [
        "19. **Why are dictionaries considered unordered, and how does that affect data retrieval?**\n",
        "\n",
        "    Before Python 3.7, dictionaries didn’t preserve the insertion order of keys.\n",
        "\n",
        "    This means you couldn’t rely on the order in which items appeared during iteration.\n",
        "\n",
        "    Even though Python 3.7+ maintains insertion order, dictionaries are still logically unordered, meaning key-based access matters, not position.\n",
        "\n",
        "    You can’t access items by index like dict[0] — only by specific keys.\n",
        "\n",
        "    This affects tasks where sequence matters, like sorting or indexing."
      ],
      "metadata": {
        "id": "Q3iNt5yH91Dh"
      }
    },
    {
      "cell_type": "markdown",
      "source": [
        "20. **Explain the difference between a list and a dictionary in terms of data retrieval.**\n",
        "\n",
        "  * Lists use index-based access, like my_list[0], so position matters.\n",
        "\n",
        "  * Dictionaries use key-based access, like my_dict[\"name\"], which is more descriptive.\n",
        "\n",
        "  * List lookups are O(n) if you search by value, but O(1) by index.\n",
        "\n",
        "  * Dictionary lookups are usually O(1) using keys, regardless of position.\n",
        "\n",
        "  * Use a list when order or sequence is important, and a dictionary when you     need labeled data."
      ],
      "metadata": {
        "id": "6IiOdAO4-Bvo"
      }
    },
    {
      "cell_type": "markdown",
      "source": [
        "# Practical Questions"
      ],
      "metadata": {
        "id": "G5z9oZvl-fOZ"
      }
    },
    {
      "cell_type": "code",
      "source": [
        "# 1. Write a code to create a string with your name and print it.\n",
        "\n",
        "name = 'Shivam'\n",
        "print(\"Hi Myself: \", name)"
      ],
      "metadata": {
        "colab": {
          "base_uri": "https://localhost:8080/"
        },
        "id": "Fslc7lrh-hz-",
        "outputId": "d00fcde6-57fe-43a1-eb41-a0a9e0aef1ff"
      },
      "execution_count": 3,
      "outputs": [
        {
          "output_type": "stream",
          "name": "stdout",
          "text": [
            "Hi Myself:  Shivam\n"
          ]
        }
      ]
    },
    {
      "cell_type": "code",
      "source": [
        "# 2. Write a code to find the length of the string \"Hello World\".\n",
        "word = \"Hi how are you\"\n",
        "print(\"Length of string: \", len(word))"
      ],
      "metadata": {
        "colab": {
          "base_uri": "https://localhost:8080/"
        },
        "id": "wPDcdij5-tGY",
        "outputId": "2766cc7d-de4a-4c25-b12c-7cea15360bc2"
      },
      "execution_count": 4,
      "outputs": [
        {
          "output_type": "stream",
          "name": "stdout",
          "text": [
            "Length of string:  14\n"
          ]
        }
      ]
    },
    {
      "cell_type": "code",
      "source": [
        "# 3. Write a code to slice the first 3 characters from the string \"Python Programming\".\n",
        "word2 = \"Python Programming\"\n",
        "print(\"first 3 character are: \", word2[:3])"
      ],
      "metadata": {
        "colab": {
          "base_uri": "https://localhost:8080/"
        },
        "id": "wzIk1Skq_KkF",
        "outputId": "d6cf3572-d00d-407b-8399-60723cf31b0a"
      },
      "execution_count": 5,
      "outputs": [
        {
          "output_type": "stream",
          "name": "stdout",
          "text": [
            "first 3 character are:  Pyt\n"
          ]
        }
      ]
    },
    {
      "cell_type": "code",
      "source": [
        "# 4. Write a code to convert the string \"hello\" to uppercase.\n",
        "word3 = \"hello\"\n",
        "print(\"Uppercase: \", word3.upper())"
      ],
      "metadata": {
        "colab": {
          "base_uri": "https://localhost:8080/"
        },
        "id": "Omr3GcCS_bBs",
        "outputId": "3a1f8b79-161a-4d07-bcf8-c566fbbb8a5a"
      },
      "execution_count": 6,
      "outputs": [
        {
          "output_type": "stream",
          "name": "stdout",
          "text": [
            "Uppercase:  HELLO\n"
          ]
        }
      ]
    },
    {
      "cell_type": "code",
      "source": [
        "# 5. Write a code to replace the word \"apple\" with \"orange\" in the string \"I like apple\".\n",
        "\n",
        "word4 = \"I like apple\"\n",
        "print(word4.replace('apple', 'orange'))"
      ],
      "metadata": {
        "colab": {
          "base_uri": "https://localhost:8080/"
        },
        "id": "_haXf-Sn_gbs",
        "outputId": "df323ea4-77bf-412a-aa82-59240b8dd1a2"
      },
      "execution_count": 7,
      "outputs": [
        {
          "output_type": "stream",
          "name": "stdout",
          "text": [
            "I like orange\n"
          ]
        }
      ]
    },
    {
      "cell_type": "code",
      "source": [
        "# 6. Write a code to create a list with numbers 1 to 5 and print it\n",
        "num_list = []\n",
        "for i in range(5):\n",
        "  num_list.append(i+1)\n",
        "print(num_list)"
      ],
      "metadata": {
        "colab": {
          "base_uri": "https://localhost:8080/"
        },
        "id": "FhxscQR8_1F-",
        "outputId": "6d5ccd3e-0ce1-4383-de48-8a401e380f65"
      },
      "execution_count": 9,
      "outputs": [
        {
          "output_type": "stream",
          "name": "stdout",
          "text": [
            "[1, 2, 3, 4, 5]\n"
          ]
        }
      ]
    },
    {
      "cell_type": "code",
      "source": [
        "# 7. Write a code to append the number 10 to the list [1, 2, 3, 4].\n",
        "num_list2 = [1,2,3,4]\n",
        "num_list2.append(10)\n",
        "print(num_list2)\n"
      ],
      "metadata": {
        "colab": {
          "base_uri": "https://localhost:8080/"
        },
        "id": "mxtCy69eAB2-",
        "outputId": "33fb8e5c-74e6-4c1f-9596-6c04e69cacd0"
      },
      "execution_count": 10,
      "outputs": [
        {
          "output_type": "stream",
          "name": "stdout",
          "text": [
            "[1, 2, 3, 4, 10]\n"
          ]
        }
      ]
    },
    {
      "cell_type": "code",
      "source": [
        "# 8. Write a code to remove the number 3 from the list [1, 2, 3, 4, 5].\n",
        "num_list3 = [1,2,3,4,5]\n",
        "num_list3.remove(3)\n",
        "print(num_list3)"
      ],
      "metadata": {
        "colab": {
          "base_uri": "https://localhost:8080/"
        },
        "id": "n7HaFoyxAgrw",
        "outputId": "ec578af6-3a5d-4ae2-d267-22ac5ae32d3c"
      },
      "execution_count": 11,
      "outputs": [
        {
          "output_type": "stream",
          "name": "stdout",
          "text": [
            "[1, 2, 4, 5]\n"
          ]
        }
      ]
    },
    {
      "cell_type": "code",
      "source": [
        "# 9. Write a code to access the second element in the list ['a', 'b', 'c', 'd'].\n",
        "str_list = ['a', 'b', 'c', 'd']\n",
        "print(str_list[1])\n"
      ],
      "metadata": {
        "colab": {
          "base_uri": "https://localhost:8080/"
        },
        "id": "_UI_We5eAokA",
        "outputId": "f9844d60-9681-4dd4-8a63-f728b99b9020"
      },
      "execution_count": 12,
      "outputs": [
        {
          "output_type": "stream",
          "name": "stdout",
          "text": [
            "b\n"
          ]
        }
      ]
    },
    {
      "cell_type": "code",
      "source": [
        "# 10. Write a code to reverse the list [10, 20, 30, 40, 50].\n",
        "num_list4 = [10, 20, 30, 40, 50]\n",
        "num_list4.reverse()\n",
        "print(num_list4)"
      ],
      "metadata": {
        "colab": {
          "base_uri": "https://localhost:8080/"
        },
        "id": "iHk6J-REA3d6",
        "outputId": "e997569f-69ab-47d2-fccc-c9d3857625ee"
      },
      "execution_count": 13,
      "outputs": [
        {
          "output_type": "stream",
          "name": "stdout",
          "text": [
            "[50, 40, 30, 20, 10]\n"
          ]
        }
      ]
    },
    {
      "cell_type": "code",
      "source": [
        "# 11. Write a code to create a tuple with the elements 100, 200, 300 and print it.\n",
        "tup = (100,200,300)\n",
        "print(tup)"
      ],
      "metadata": {
        "colab": {
          "base_uri": "https://localhost:8080/"
        },
        "id": "fD27McOnBIFX",
        "outputId": "f4f23e55-3d75-4142-890c-ad9497f71766"
      },
      "execution_count": 14,
      "outputs": [
        {
          "output_type": "stream",
          "name": "stdout",
          "text": [
            "(100, 200, 300)\n"
          ]
        }
      ]
    },
    {
      "cell_type": "code",
      "source": [
        "# 12. Write a code to access the second-to-last element of the tuple ('red', 'green', 'blue', 'yellow').\n",
        "color_tup = ('red', 'green', 'blue', 'yellow')\n",
        "print(color_tup[-2])\n",
        "\n"
      ],
      "metadata": {
        "colab": {
          "base_uri": "https://localhost:8080/"
        },
        "id": "MQh7VbppBWdp",
        "outputId": "09ea9315-2026-48bd-b5bb-6e3df5a27e20"
      },
      "execution_count": 16,
      "outputs": [
        {
          "output_type": "stream",
          "name": "stdout",
          "text": [
            "blue\n"
          ]
        }
      ]
    },
    {
      "cell_type": "code",
      "source": [
        "# 13. Write a code to find the minimum number in the tuple (10, 20, 5, 15).\n",
        "num_tulpe=(10,20,5,15)\n",
        "print(min(num_tulpe))"
      ],
      "metadata": {
        "colab": {
          "base_uri": "https://localhost:8080/"
        },
        "id": "qh9gz4c3BcaV",
        "outputId": "7eea025c-ba00-48f1-bcfd-30bd3deead1f"
      },
      "execution_count": 17,
      "outputs": [
        {
          "output_type": "stream",
          "name": "stdout",
          "text": [
            "5\n"
          ]
        }
      ]
    },
    {
      "cell_type": "code",
      "source": [
        "# 14. Write a code to find the index of the element \"cat\" in the tuple ('dog', 'cat', 'rabbit').\n",
        "animal_tuple = ('dog', 'cat', 'rabbit')\n",
        "print(animal_tuple.index('cat'))"
      ],
      "metadata": {
        "colab": {
          "base_uri": "https://localhost:8080/"
        },
        "id": "o75r2ezKBv7s",
        "outputId": "10ed0552-7560-4b42-b547-5ba05fdc4e49"
      },
      "execution_count": 18,
      "outputs": [
        {
          "output_type": "stream",
          "name": "stdout",
          "text": [
            "1\n"
          ]
        }
      ]
    },
    {
      "cell_type": "code",
      "source": [
        "# 15. Write a code to create a tuple containing three different fruits and check if \"kiwi\" is in it.\n",
        "fruit_tuple = ('apple', 'banana', 'orange')\n",
        "if 'kiwi' in fruit_tuple:\n",
        "  print('kiwi is in the tuple')\n",
        "else:\n",
        "  print('kiwi is not in the tuple')"
      ],
      "metadata": {
        "colab": {
          "base_uri": "https://localhost:8080/"
        },
        "id": "DNqpbhPvB_f-",
        "outputId": "834bd0df-a467-4940-e047-b5eec23a2ddd"
      },
      "execution_count": 21,
      "outputs": [
        {
          "output_type": "stream",
          "name": "stdout",
          "text": [
            "kiwi is not in the tuple\n"
          ]
        }
      ]
    },
    {
      "cell_type": "code",
      "source": [
        "# 16. Write a code to create a set with the elements 'a', 'b', 'c' and print it.\n",
        "letter = {\"a\",\"b\",\"c\"}\n",
        "print(letter)"
      ],
      "metadata": {
        "colab": {
          "base_uri": "https://localhost:8080/"
        },
        "id": "ZUP0J6-BCHDf",
        "outputId": "74e75335-43bd-408b-9355-c19e78df6a7d"
      },
      "execution_count": 27,
      "outputs": [
        {
          "output_type": "stream",
          "name": "stdout",
          "text": [
            "{'b', 'a', 'c'}\n"
          ]
        }
      ]
    },
    {
      "cell_type": "code",
      "source": [
        "# 17. Write a code to clear all elements from the set {1, 2, 3, 4, 5}.\n",
        "num_set = {1,2,3,4,5}\n",
        "num_set.clear()\n",
        "print(num_set)"
      ],
      "metadata": {
        "colab": {
          "base_uri": "https://localhost:8080/"
        },
        "id": "26KFr0iICseT",
        "outputId": "23195b45-5d7b-47a3-ba97-74fd42d3cba3"
      },
      "execution_count": 28,
      "outputs": [
        {
          "output_type": "stream",
          "name": "stdout",
          "text": [
            "set()\n"
          ]
        }
      ]
    },
    {
      "cell_type": "code",
      "source": [
        "# 18. Write a code to remove the element 4 from the set {1, 2, 3, 4}.\n",
        "num_set2 = {1,2,3,4}\n",
        "num_set2.remove(4)\n",
        "print(num_set2)"
      ],
      "metadata": {
        "colab": {
          "base_uri": "https://localhost:8080/"
        },
        "id": "mwgyR33LC7qc",
        "outputId": "234b7726-39ec-4f3c-9648-9bee18b20ab1"
      },
      "execution_count": 29,
      "outputs": [
        {
          "output_type": "stream",
          "name": "stdout",
          "text": [
            "{1, 2, 3}\n"
          ]
        }
      ]
    },
    {
      "cell_type": "code",
      "source": [
        "# 19. Write a code to find the union of two sets {1, 2, 3} and {3, 4, 5}.\n",
        "num_set3 = {1,2,3}\n",
        "num_set4 = {3,4,5}\n",
        "print(num_set3.union(num_set4))"
      ],
      "metadata": {
        "colab": {
          "base_uri": "https://localhost:8080/"
        },
        "id": "2ji9kzvhDCi3",
        "outputId": "6fee4af7-a582-4ef3-e977-f9c4f0be4838"
      },
      "execution_count": 30,
      "outputs": [
        {
          "output_type": "stream",
          "name": "stdout",
          "text": [
            "{1, 2, 3, 4, 5}\n"
          ]
        }
      ]
    },
    {
      "cell_type": "code",
      "source": [
        "# 20. Write a code to find the intersection of two sets {1, 2, 3} and {2, 3, 4}.\n",
        "num_set5 = {1,2,3}\n",
        "num_set6 = {2,3,4}\n",
        "print(num_set5.intersection(num_set6))"
      ],
      "metadata": {
        "colab": {
          "base_uri": "https://localhost:8080/"
        },
        "id": "hGxme8m8DQa9",
        "outputId": "271cbf08-1407-49e9-b657-dd7ac0dd4844"
      },
      "execution_count": 31,
      "outputs": [
        {
          "output_type": "stream",
          "name": "stdout",
          "text": [
            "{2, 3}\n"
          ]
        }
      ]
    },
    {
      "cell_type": "code",
      "source": [
        "# 21. Write a code to create a dictionary with the keys \"name\", \"age\", and \"city\", and print it.\n",
        "student = {\"name\": \"Shivam\", \"age\": 26, \"city\": \"delhi\"}\n",
        "print(student)"
      ],
      "metadata": {
        "colab": {
          "base_uri": "https://localhost:8080/"
        },
        "id": "UwHfUwj9DXtj",
        "outputId": "acae198c-ccf7-4da2-a1a9-e2e83be55c7a"
      },
      "execution_count": 33,
      "outputs": [
        {
          "output_type": "stream",
          "name": "stdout",
          "text": [
            "{'name': 'Shivam', 'age': 26, 'city': 'delhi'}\n"
          ]
        }
      ]
    },
    {
      "cell_type": "code",
      "source": [
        "# 22. Write a code to add a new key-value pair \"country\": \"USA\" to the dictionary {'name': 'John', 'age': 25}.\n",
        "dic = {'name': 'John', 'age': 25}\n",
        "dic['country'] = 'USA'\n",
        "print(dic)"
      ],
      "metadata": {
        "colab": {
          "base_uri": "https://localhost:8080/"
        },
        "id": "qEmjkV3DDffo",
        "outputId": "a77b8c25-7b31-4151-8f18-c68491e5f28c"
      },
      "execution_count": 34,
      "outputs": [
        {
          "output_type": "stream",
          "name": "stdout",
          "text": [
            "{'name': 'John', 'age': 25, 'country': 'USA'}\n"
          ]
        }
      ]
    },
    {
      "cell_type": "code",
      "source": [
        "# 23. Write a code to access the value associated with the key \"name\" in the dictionary {'name': 'Alice', 'age': 30}.\n",
        "person = {'name': 'Alice', 'age': 30}\n",
        "print(person['name'])"
      ],
      "metadata": {
        "colab": {
          "base_uri": "https://localhost:8080/"
        },
        "id": "1yJ_HqpAD2Pg",
        "outputId": "04a3fc78-dd62-4d64-872f-af26e9ead07b"
      },
      "execution_count": 35,
      "outputs": [
        {
          "output_type": "stream",
          "name": "stdout",
          "text": [
            "Alice\n"
          ]
        }
      ]
    },
    {
      "cell_type": "code",
      "source": [
        "# 24. Write a code to remove the key \"age\" from the dictionary {'name': 'Bob', 'age': 22, 'city': 'New York'}.\n",
        "person2 = {'name': 'Bob', 'age': 22, 'city': 'New York'}\n",
        "person2.pop('age')\n",
        "print(person2)"
      ],
      "metadata": {
        "colab": {
          "base_uri": "https://localhost:8080/"
        },
        "id": "iXNeuPJHEIJQ",
        "outputId": "d3807a42-039d-44c8-b33e-bf871a87437f"
      },
      "execution_count": 36,
      "outputs": [
        {
          "output_type": "stream",
          "name": "stdout",
          "text": [
            "{'name': 'Bob', 'city': 'New York'}\n"
          ]
        }
      ]
    },
    {
      "cell_type": "code",
      "source": [
        "# 25. Write a code to check if the key \"city\" exists in the dictionary {'name': 'Alice', 'city': 'Paris'}.\n",
        "person3 = {'name': 'Alice', 'city': 'Paris'}\n",
        "if 'city' in person3:\n",
        "  print('city is in the dictionary')\n",
        "else:\n",
        "  print('city is not in the dictionary')"
      ],
      "metadata": {
        "colab": {
          "base_uri": "https://localhost:8080/"
        },
        "id": "TVmPs_kREVOD",
        "outputId": "53624f61-4b68-4723-9d5b-9dc4d30754a3"
      },
      "execution_count": 37,
      "outputs": [
        {
          "output_type": "stream",
          "name": "stdout",
          "text": [
            "city is in the dictionary\n"
          ]
        }
      ]
    },
    {
      "cell_type": "code",
      "source": [
        "# 26. Write a code to create a list, a tuple, and a dictionary, and print them all.\n",
        "list = [1,2,3,4,5]\n",
        "print(list)\n",
        "tuple = (1,2,3,4,5)\n",
        "print(tuple)\n",
        "dict = {\n",
        "    \"name\": \"shivam\",\n",
        "    \"age\": 26,\n",
        "    \"city\": \"delhi\"\n",
        "}\n",
        "print(dict)"
      ],
      "metadata": {
        "colab": {
          "base_uri": "https://localhost:8080/"
        },
        "id": "4xj547w2EoZa",
        "outputId": "e55a422a-e2b7-4ee5-9e29-e8bff342b172"
      },
      "execution_count": 38,
      "outputs": [
        {
          "output_type": "stream",
          "name": "stdout",
          "text": [
            "[1, 2, 3, 4, 5]\n",
            "(1, 2, 3, 4, 5)\n",
            "{'name': 'shivam', 'age': 26, 'city': 'delhi'}\n"
          ]
        }
      ]
    },
    {
      "cell_type": "code",
      "source": [
        "# 27. Write a code to create a list of 5 random numbers between 1 and 100, sort it in ascending order, and print the result.(replaced)\n",
        "import random\n",
        "\n",
        "numbers = random.sample(range(1, 101), 5)\n",
        "\n",
        "numbers.sort()\n",
        "\n",
        "print(numbers)"
      ],
      "metadata": {
        "colab": {
          "base_uri": "https://localhost:8080/"
        },
        "id": "SfuhlNzYE2Aw",
        "outputId": "7e567ac6-d443-4a9f-d583-252af0af1d55"
      },
      "execution_count": 40,
      "outputs": [
        {
          "output_type": "stream",
          "name": "stdout",
          "text": [
            "[9, 18, 36, 41, 80]\n"
          ]
        }
      ]
    },
    {
      "cell_type": "code",
      "source": [
        "# 28. Write a code to create a list with strings and print the element at the third index.\n",
        "str_list2 = [\"apple\", \"banana\", \"orange\", \"grape\", \"kiwi\"]\n",
        "print(str_list2[2])"
      ],
      "metadata": {
        "colab": {
          "base_uri": "https://localhost:8080/"
        },
        "id": "z8a8SGa7FVc9",
        "outputId": "b06e1b3e-132b-48cb-9b2c-9ace9337517d"
      },
      "execution_count": 41,
      "outputs": [
        {
          "output_type": "stream",
          "name": "stdout",
          "text": [
            "orange\n"
          ]
        }
      ]
    },
    {
      "cell_type": "code",
      "source": [
        "# 29. Write a code to combine two dictionaries into one and print the result.\n",
        "dict1 = {'a': 1, 'b': 2}\n",
        "dict2 = {'c': 3, 'd': 4}\n",
        "dict1.update(dict2)\n",
        "print(dict1)"
      ],
      "metadata": {
        "colab": {
          "base_uri": "https://localhost:8080/"
        },
        "id": "Q5kBFzBAFk8M",
        "outputId": "267e2053-a667-431d-d24d-23f89c3822e0"
      },
      "execution_count": 42,
      "outputs": [
        {
          "output_type": "stream",
          "name": "stdout",
          "text": [
            "{'a': 1, 'b': 2, 'c': 3, 'd': 4}\n"
          ]
        }
      ]
    },
    {
      "cell_type": "code",
      "source": [
        "# 30. Write a code to convert a list of strings into a set.\n",
        "str_list3 = [\"apple\", \"banana\", \"orange\", \"grape\", \"kiwi\"]\n",
        "str_set = set(str_list3)\n",
        "print(str_set)"
      ],
      "metadata": {
        "colab": {
          "base_uri": "https://localhost:8080/"
        },
        "id": "8oeyU01tFp9Q",
        "outputId": "da2baae4-fbea-440b-d44b-9d9e17f8aa38"
      },
      "execution_count": 43,
      "outputs": [
        {
          "output_type": "stream",
          "name": "stdout",
          "text": [
            "{'banana', 'grape', 'kiwi', 'apple', 'orange'}\n"
          ]
        }
      ]
    },
    {
      "cell_type": "code",
      "source": [],
      "metadata": {
        "id": "XivedhhnFzG9"
      },
      "execution_count": null,
      "outputs": []
    }
  ]
}